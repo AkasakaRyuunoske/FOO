{
 "cells": [
  {
   "metadata": {},
   "cell_type": "markdown",
   "source": [
    "## 1. Caricamento dei file contenenti il dataset"
   ],
   "id": "c202d9e7cd83c915"
  },
  {
   "metadata": {
    "ExecuteTime": {
     "end_time": "2025-06-25T19:45:21.660765Z",
     "start_time": "2025-06-25T19:45:14.666663700Z"
    }
   },
   "cell_type": "code",
   "source": [
    "import pandas as pd\n",
    "\n",
    "# Load File and create a new dataframe called 'df'\n",
    "files = [\n",
    "    \"full_tagged_dataset_2%.csv\",\n",
    "    \"full_tagged_dataset_4%.csv\",\n",
    "    \"full_tagged_dataset_6%.csv\",\n",
    "    \"full_tagged_dataset_8%.csv\",\n",
    "    \"full_tagged_dataset_10%.csv\"\n",
    "]\n",
    "\n",
    "df = pd.concat([pd.read_csv(f) for f in files], ignore_index=True)\n",
    "\n",
    "df"
   ],
   "id": "initial_id",
   "outputs": [
    {
     "data": {
      "text/plain": "                                            TITLE  \\\n0                   Western Sizzlin Bread Pudding   \n1       Creamy Tuna And Bacon Salad (Reduced Fat)   \n2                   Spinach And Mushroom Lasagna    \n3                                Three-Bean Tacos   \n4                           Hearty Hamburger Soup   \n...                                           ...   \n223110          Light Wheat Sandwich Bread Recipe   \n223111                       Low-Fat Corn Pudding   \n223112                               Greek Salata   \n223113                          Spicy Peanut Soup   \n223114       Mache, Pomegranate, and Walnut Salad   \n\n                                                      NER difficulty     time  \\\n0       ['eggs', 'milk', 'sugar', 'vanilla', 'gallon w...       Hard     Slow   \n1       ['tuna', 'mayonnaise', 'low-fat sour cream', '...       Hard  Average   \n2       ['olive oil', 'onion', 'garlic', 'salt', 'grou...       Hard    Quick   \n3       ['olive oil', 'onion', 'red bell pepper', 'gre...       Hard    Quick   \n4       ['lean ground beef', 'white onion', 'ground bl...       Hard    Quick   \n...                                                   ...        ...      ...   \n223110  ['warm water', 'active dry yeast', 'honey', 's...       Hard     Slow   \n223111  ['corn kernels', 'flour', 'sugar', 'kosher sal...       Hard    Quick   \n223112  ['head lettuce', 'radishes', 'green onions', '...       Hard  Average   \n223113  ['vegetable oil', 'onion', 'sweet potato', 'ga...       Hard    Quick   \n223114  ['pomegranate', 'sugar', 'red-wine vinegar', '...       Hard  Average   \n\n             cost method                                        INGREDIENTS  \\\n0           Cheap   Bake  [\"16 eggs, beaten\", \"6 -8 evaporated milk, 360...   \n1           Cheap  Other  [\"1 (6 ounce) can tuna, drained and flaked\", \"...   \n2           Cheap   Bake  [\"1 tablespoon olive oil\", \"1 medium onion , c...   \n3           Cheap   Boil  [\"1 teaspoon olive oil\", \"1 cup diced onion\", ...   \n4       Expensive   Boil  [\"900.0 gs lean ground beef\", \"1 white onion, ...   \n...           ...    ...                                                ...   \n223110      Cheap   Bake  [\"1 cup warm water (about 110A F)\", \"2 14 teas...   \n223111      Cheap   Bake  [\"2 cups uncooked corn kernels (from about 4 e...   \n223112  Expensive  Other  [\"0.5 head lettuce\", \"0.5 bunch radishes, thin...   \n223113      Cheap   Boil  [\"1 tablespoon vegetable oil\", \"1 large onion,...   \n223114  Expensive  Other  [\"1 pomegranate\", \"0.5 teaspoon sugar\", \"0.5 t...   \n\n                                               DIRECTIONS  total_time  \\\n0       [\"Distribute rolls and cinnamon roll in (4) 2\\...       150.0   \n1       [\"Put everything in a bowl and mix together un...        15.0   \n2       [\"Heat oven to 375 degrees.\", \"\", \"In medium s...        70.0   \n3       [\"Heat oil in a large skillet over medium-high...        22.0   \n4       [\"Brown ground beef and onion in a large pot. ...        45.0   \n...                                                   ...         ...   \n223110  [\"In large mixing bowl, combine warm water and...       290.0   \n223111  [\"Preheat the oven to 350 degrees. Have ready ...        58.0   \n223112  [\"Tear the lettuce into bite size pieces. Toss...        30.0   \n223113  [\"In a large saucepan, heat vegetable oil to m...        35.0   \n223114  [\"Halve pomegranate crosswise and reserve 2 ta...        15.0   \n\n            PREPARATION_TIME  \\\n0       Very slow (90+ mins)   \n1          Fast (10-20 mins)   \n2          Slow (40-90 mins)   \n3        Medium (20-40 mins)   \n4          Slow (40-90 mins)   \n...                      ...   \n223110  Very slow (90+ mins)   \n223111     Slow (40-90 mins)   \n223112   Medium (20-40 mins)   \n223113   Medium (20-40 mins)   \n223114     Fast (10-20 mins)   \n\n                                                NER_clean  VEGAN  \\\n0       ['eggs', 'milk', 'sugar', 'vanilla', 'gallon w...  False   \n1       ['tuna', 'mayonnaise', 'low-fat sour cream', '...  False   \n2       ['olive oil', 'onion', 'garlic', 'salt', 'grou...  False   \n3       ['olive oil', 'onion', 'red bell pepper', 'gre...  False   \n4       ['lean ground beef', 'white onion', 'ground bl...  False   \n...                                                   ...    ...   \n223110  ['warm water', 'active dry yeast', 'honey', 's...  False   \n223111  ['corn kernels', 'flour', 'sugar', 'kosher sal...  False   \n223112  ['head lettuce', 'radishes', 'green onions', '...  False   \n223113  ['vegetable oil', 'onion', 'sweet potato', 'ga...  False   \n223114  ['pomegranate', 'sugar', 'red-wine vinegar', '...   True   \n\n                                    NON_VEGAN_INGREDIENTS  VEGETARIAN  \\\n0                                        ['eggs', 'milk']        True   \n1            ['tuna', 'low-fat sour cream', 'bacon bits']       False   \n2            ['ricotta cheese', 'Parmesan cheese', 'egg']        True   \n3                                      ['cheddar cheese']        True   \n4       ['lean ground beef', 'parmesan cheese', 'sour ...       False   \n...                                                   ...         ...   \n223110                         ['honey', 'butter', 'egg']        True   \n223111               ['egg substitute', 'butter', 'milk']        True   \n223112                                    ['Feta cheese']       False   \n223113                                  ['chicken broth']       False   \n223114                                                 []        True   \n\n       NON_VEGETARIAN_INGREDIENTS  total_cost   price_tag  \\\n0                              []        49.2      medium   \n1          ['tuna', 'bacon bits']        52.5   expensive   \n2                              []        78.0        rich   \n3                              []        87.5        rich   \n4            ['lean ground beef']        96.3        rich   \n...                           ...         ...         ...   \n223110                         []        38.4      medium   \n223111                         []        30.4       cheap   \n223112                ['anchovy']        60.0   expensive   \n223113          ['chicken broth']        54.9   expensive   \n223114                         []        22.2  very cheap   \n\n                                               categories  vegan  vegetarian  \n0       ['seafood', 'dairy', 'sweetener', 'spice/herb'...  False       False  \n1       ['seafood', 'condiment', None, 'meat', 'spice/...  False       False  \n2       ['condiment', 'vegetable', 'vegetable', 'condi...  False       False  \n3       ['condiment', 'vegetable', 'vegetable', 'veget...  False       False  \n4       ['meat', 'vegetable', 'condiment', 'spice/herb...  False       False  \n...                                                   ...    ...         ...  \n223110  ['processed', 'processed', 'sweetener', 'condi...  False       False  \n223111  ['grain', 'processed', 'sweetener', 'condiment...  False        True  \n223112  ['vegetable', 'vegetable', 'vegetable', 'fruit...  False       False  \n223113  ['condiment', 'vegetable', 'vegetable', 'veget...   True        True  \n223114  ['fruit', 'sweetener', None, None, 'condiment'...   True        True  \n\n[223115 rows x 20 columns]",
      "text/html": "<div>\n<style scoped>\n    .dataframe tbody tr th:only-of-type {\n        vertical-align: middle;\n    }\n\n    .dataframe tbody tr th {\n        vertical-align: top;\n    }\n\n    .dataframe thead th {\n        text-align: right;\n    }\n</style>\n<table border=\"1\" class=\"dataframe\">\n  <thead>\n    <tr style=\"text-align: right;\">\n      <th></th>\n      <th>TITLE</th>\n      <th>NER</th>\n      <th>difficulty</th>\n      <th>time</th>\n      <th>cost</th>\n      <th>method</th>\n      <th>INGREDIENTS</th>\n      <th>DIRECTIONS</th>\n      <th>total_time</th>\n      <th>PREPARATION_TIME</th>\n      <th>NER_clean</th>\n      <th>VEGAN</th>\n      <th>NON_VEGAN_INGREDIENTS</th>\n      <th>VEGETARIAN</th>\n      <th>NON_VEGETARIAN_INGREDIENTS</th>\n      <th>total_cost</th>\n      <th>price_tag</th>\n      <th>categories</th>\n      <th>vegan</th>\n      <th>vegetarian</th>\n    </tr>\n  </thead>\n  <tbody>\n    <tr>\n      <th>0</th>\n      <td>Western Sizzlin Bread Pudding</td>\n      <td>['eggs', 'milk', 'sugar', 'vanilla', 'gallon w...</td>\n      <td>Hard</td>\n      <td>Slow</td>\n      <td>Cheap</td>\n      <td>Bake</td>\n      <td>[\"16 eggs, beaten\", \"6 -8 evaporated milk, 360...</td>\n      <td>[\"Distribute rolls and cinnamon roll in (4) 2\\...</td>\n      <td>150.0</td>\n      <td>Very slow (90+ mins)</td>\n      <td>['eggs', 'milk', 'sugar', 'vanilla', 'gallon w...</td>\n      <td>False</td>\n      <td>['eggs', 'milk']</td>\n      <td>True</td>\n      <td>[]</td>\n      <td>49.2</td>\n      <td>medium</td>\n      <td>['seafood', 'dairy', 'sweetener', 'spice/herb'...</td>\n      <td>False</td>\n      <td>False</td>\n    </tr>\n    <tr>\n      <th>1</th>\n      <td>Creamy Tuna And Bacon Salad (Reduced Fat)</td>\n      <td>['tuna', 'mayonnaise', 'low-fat sour cream', '...</td>\n      <td>Hard</td>\n      <td>Average</td>\n      <td>Cheap</td>\n      <td>Other</td>\n      <td>[\"1 (6 ounce) can tuna, drained and flaked\", \"...</td>\n      <td>[\"Put everything in a bowl and mix together un...</td>\n      <td>15.0</td>\n      <td>Fast (10-20 mins)</td>\n      <td>['tuna', 'mayonnaise', 'low-fat sour cream', '...</td>\n      <td>False</td>\n      <td>['tuna', 'low-fat sour cream', 'bacon bits']</td>\n      <td>False</td>\n      <td>['tuna', 'bacon bits']</td>\n      <td>52.5</td>\n      <td>expensive</td>\n      <td>['seafood', 'condiment', None, 'meat', 'spice/...</td>\n      <td>False</td>\n      <td>False</td>\n    </tr>\n    <tr>\n      <th>2</th>\n      <td>Spinach And Mushroom Lasagna</td>\n      <td>['olive oil', 'onion', 'garlic', 'salt', 'grou...</td>\n      <td>Hard</td>\n      <td>Quick</td>\n      <td>Cheap</td>\n      <td>Bake</td>\n      <td>[\"1 tablespoon olive oil\", \"1 medium onion , c...</td>\n      <td>[\"Heat oven to 375 degrees.\", \"\", \"In medium s...</td>\n      <td>70.0</td>\n      <td>Slow (40-90 mins)</td>\n      <td>['olive oil', 'onion', 'garlic', 'salt', 'grou...</td>\n      <td>False</td>\n      <td>['ricotta cheese', 'Parmesan cheese', 'egg']</td>\n      <td>True</td>\n      <td>[]</td>\n      <td>78.0</td>\n      <td>rich</td>\n      <td>['condiment', 'vegetable', 'vegetable', 'condi...</td>\n      <td>False</td>\n      <td>False</td>\n    </tr>\n    <tr>\n      <th>3</th>\n      <td>Three-Bean Tacos</td>\n      <td>['olive oil', 'onion', 'red bell pepper', 'gre...</td>\n      <td>Hard</td>\n      <td>Quick</td>\n      <td>Cheap</td>\n      <td>Boil</td>\n      <td>[\"1 teaspoon olive oil\", \"1 cup diced onion\", ...</td>\n      <td>[\"Heat oil in a large skillet over medium-high...</td>\n      <td>22.0</td>\n      <td>Medium (20-40 mins)</td>\n      <td>['olive oil', 'onion', 'red bell pepper', 'gre...</td>\n      <td>False</td>\n      <td>['cheddar cheese']</td>\n      <td>True</td>\n      <td>[]</td>\n      <td>87.5</td>\n      <td>rich</td>\n      <td>['condiment', 'vegetable', 'vegetable', 'veget...</td>\n      <td>False</td>\n      <td>False</td>\n    </tr>\n    <tr>\n      <th>4</th>\n      <td>Hearty Hamburger Soup</td>\n      <td>['lean ground beef', 'white onion', 'ground bl...</td>\n      <td>Hard</td>\n      <td>Quick</td>\n      <td>Expensive</td>\n      <td>Boil</td>\n      <td>[\"900.0 gs lean ground beef\", \"1 white onion, ...</td>\n      <td>[\"Brown ground beef and onion in a large pot. ...</td>\n      <td>45.0</td>\n      <td>Slow (40-90 mins)</td>\n      <td>['lean ground beef', 'white onion', 'ground bl...</td>\n      <td>False</td>\n      <td>['lean ground beef', 'parmesan cheese', 'sour ...</td>\n      <td>False</td>\n      <td>['lean ground beef']</td>\n      <td>96.3</td>\n      <td>rich</td>\n      <td>['meat', 'vegetable', 'condiment', 'spice/herb...</td>\n      <td>False</td>\n      <td>False</td>\n    </tr>\n    <tr>\n      <th>...</th>\n      <td>...</td>\n      <td>...</td>\n      <td>...</td>\n      <td>...</td>\n      <td>...</td>\n      <td>...</td>\n      <td>...</td>\n      <td>...</td>\n      <td>...</td>\n      <td>...</td>\n      <td>...</td>\n      <td>...</td>\n      <td>...</td>\n      <td>...</td>\n      <td>...</td>\n      <td>...</td>\n      <td>...</td>\n      <td>...</td>\n      <td>...</td>\n      <td>...</td>\n    </tr>\n    <tr>\n      <th>223110</th>\n      <td>Light Wheat Sandwich Bread Recipe</td>\n      <td>['warm water', 'active dry yeast', 'honey', 's...</td>\n      <td>Hard</td>\n      <td>Slow</td>\n      <td>Cheap</td>\n      <td>Bake</td>\n      <td>[\"1 cup warm water (about 110A F)\", \"2 14 teas...</td>\n      <td>[\"In large mixing bowl, combine warm water and...</td>\n      <td>290.0</td>\n      <td>Very slow (90+ mins)</td>\n      <td>['warm water', 'active dry yeast', 'honey', 's...</td>\n      <td>False</td>\n      <td>['honey', 'butter', 'egg']</td>\n      <td>True</td>\n      <td>[]</td>\n      <td>38.4</td>\n      <td>medium</td>\n      <td>['processed', 'processed', 'sweetener', 'condi...</td>\n      <td>False</td>\n      <td>False</td>\n    </tr>\n    <tr>\n      <th>223111</th>\n      <td>Low-Fat Corn Pudding</td>\n      <td>['corn kernels', 'flour', 'sugar', 'kosher sal...</td>\n      <td>Hard</td>\n      <td>Quick</td>\n      <td>Cheap</td>\n      <td>Bake</td>\n      <td>[\"2 cups uncooked corn kernels (from about 4 e...</td>\n      <td>[\"Preheat the oven to 350 degrees. Have ready ...</td>\n      <td>58.0</td>\n      <td>Slow (40-90 mins)</td>\n      <td>['corn kernels', 'flour', 'sugar', 'kosher sal...</td>\n      <td>False</td>\n      <td>['egg substitute', 'butter', 'milk']</td>\n      <td>True</td>\n      <td>[]</td>\n      <td>30.4</td>\n      <td>cheap</td>\n      <td>['grain', 'processed', 'sweetener', 'condiment...</td>\n      <td>False</td>\n      <td>True</td>\n    </tr>\n    <tr>\n      <th>223112</th>\n      <td>Greek Salata</td>\n      <td>['head lettuce', 'radishes', 'green onions', '...</td>\n      <td>Hard</td>\n      <td>Average</td>\n      <td>Expensive</td>\n      <td>Other</td>\n      <td>[\"0.5 head lettuce\", \"0.5 bunch radishes, thin...</td>\n      <td>[\"Tear the lettuce into bite size pieces. Toss...</td>\n      <td>30.0</td>\n      <td>Medium (20-40 mins)</td>\n      <td>['head lettuce', 'radishes', 'green onions', '...</td>\n      <td>False</td>\n      <td>['Feta cheese']</td>\n      <td>False</td>\n      <td>['anchovy']</td>\n      <td>60.0</td>\n      <td>expensive</td>\n      <td>['vegetable', 'vegetable', 'vegetable', 'fruit...</td>\n      <td>False</td>\n      <td>False</td>\n    </tr>\n    <tr>\n      <th>223113</th>\n      <td>Spicy Peanut Soup</td>\n      <td>['vegetable oil', 'onion', 'sweet potato', 'ga...</td>\n      <td>Hard</td>\n      <td>Quick</td>\n      <td>Cheap</td>\n      <td>Boil</td>\n      <td>[\"1 tablespoon vegetable oil\", \"1 large onion,...</td>\n      <td>[\"In a large saucepan, heat vegetable oil to m...</td>\n      <td>35.0</td>\n      <td>Medium (20-40 mins)</td>\n      <td>['vegetable oil', 'onion', 'sweet potato', 'ga...</td>\n      <td>False</td>\n      <td>['chicken broth']</td>\n      <td>False</td>\n      <td>['chicken broth']</td>\n      <td>54.9</td>\n      <td>expensive</td>\n      <td>['condiment', 'vegetable', 'vegetable', 'veget...</td>\n      <td>True</td>\n      <td>True</td>\n    </tr>\n    <tr>\n      <th>223114</th>\n      <td>Mache, Pomegranate, and Walnut Salad</td>\n      <td>['pomegranate', 'sugar', 'red-wine vinegar', '...</td>\n      <td>Hard</td>\n      <td>Average</td>\n      <td>Expensive</td>\n      <td>Other</td>\n      <td>[\"1 pomegranate\", \"0.5 teaspoon sugar\", \"0.5 t...</td>\n      <td>[\"Halve pomegranate crosswise and reserve 2 ta...</td>\n      <td>15.0</td>\n      <td>Fast (10-20 mins)</td>\n      <td>['pomegranate', 'sugar', 'red-wine vinegar', '...</td>\n      <td>True</td>\n      <td>[]</td>\n      <td>True</td>\n      <td>[]</td>\n      <td>22.2</td>\n      <td>very cheap</td>\n      <td>['fruit', 'sweetener', None, None, 'condiment'...</td>\n      <td>True</td>\n      <td>True</td>\n    </tr>\n  </tbody>\n</table>\n<p>223115 rows × 20 columns</p>\n</div>"
     },
     "execution_count": 1,
     "metadata": {},
     "output_type": "execute_result"
    }
   ],
   "execution_count": 1
  },
  {
   "metadata": {},
   "cell_type": "markdown",
   "source": [
    "## 2. Definizione dei metodi per le conversioni di frazioni e unità di misura e applicazione di essi sul dataframe"
   ],
   "id": "8ed7947e54cfa40b"
  },
  {
   "metadata": {
    "tags": [
     "Works"
    ],
    "ExecuteTime": {
     "end_time": "2025-06-25T19:45:21.671014300Z",
     "start_time": "2025-06-25T19:45:21.662772500Z"
    }
   },
   "cell_type": "code",
   "source": [
    "from fractions import Fraction\n",
    "\n",
    "\n",
    "# === UTILITY FUNCTIONS ===\n",
    "\n",
    "def convert_fractions(text):\n",
    "    \"\"\"Convert fractions in the format '1 1/2' or '3/4' to decimals (e.g., '1.5', '0.75').\"\"\"\n",
    "    # Match optional whole number + fraction, or just fraction\n",
    "    pattern = r'(?:(\\d+)\\s+)?(\\d+)/(\\d+)'\n",
    "\n",
    "    def replacer(match):\n",
    "        whole = int(match.group(1)) if match.group(1) else 0\n",
    "        numerator = int(match.group(2))\n",
    "        denominator = int(match.group(3))\n",
    "        decimal = whole + Fraction(numerator, denominator)\n",
    "        return \"{:.10g}\".format(float(decimal))  # Clean, no trailing zeros\n",
    "\n",
    "    return re.sub(pattern, replacer, text)\n",
    "\n",
    "\n",
    "# Fixed conversions\n",
    "CONVERSIONS = {\n",
    "    \"oz\": 30,      # ounce → gram\n",
    "    \"lb\": 450,      # pounds → gram\n",
    "    \"pt\": 475,      # pint → milliliter\n",
    "    \"qt\": 950,      # quart → milliliter\n",
    "    \"inch\": 2.5        # inches → centimeter\n",
    "}\n",
    "\n",
    "def unit_to_metric(unit):\n",
    "    \"\"\"Return the metric equivalent of the given imperial unit.\"\"\"\n",
    "    return {\n",
    "        \"oz\": \"g\",\n",
    "        \"lb\": \"g\",\n",
    "        \"pt\": \"ml\",\n",
    "        \"qt\": \"ml\",\n",
    "        \"inch\": \"cm\"\n",
    "    }[unit]\n",
    "\n",
    "def convert_units(text):\n",
    "    \"\"\"Convert imperial units (oz, lb, pt, qt, inch) to metric units in the text.\"\"\"\n",
    "    if pd.isna(text):\n",
    "        return text\n",
    "\n",
    "    # Convert oz, lb, pt, qt (form: \"4 oz\", \"2.5 lb\", etc.)\n",
    "    for unit, factor in CONVERSIONS.items():\n",
    "        pattern = r'(\\d+(\\.\\d+)?)\\s*' + unit\n",
    "        text = re.sub(pattern, lambda m: f\"{round(float(m.group(1)) * factor, 1)} {unit_to_metric(unit)}\", text)\n",
    "\n",
    "    # Convert measure in inches in pans\n",
    "    text = re.sub(r'(\\d+)\\s*x\\s*(\\d+)[-\\s]*inch', lambda\n",
    "        m: f\"{int(m.group(1)) * CONVERSIONS['inch']:.0f} x {int(m.group(2)) * CONVERSIONS['inch']:.0f} cm\", text)\n",
    "\n",
    "    return text\n",
    "\n",
    "def convert_fahrenheit_to_celsius(text):\n",
    "    \"\"\"Convert Fahrenheit temperatures to Celsius (e.g., 350°F → 177°C).\"\"\"\n",
    "    # Match degrees like 275°, 275 °F, 275\\u00b0F (escaped), etc.\n",
    "    pattern = r'(\\d+)\\s*(?:°|\\\\u00b0|degrees)'\n",
    "\n",
    "    def replacer(match):\n",
    "        fahrenheit = int(match.group(1))\n",
    "        celsius = round((fahrenheit - 32) * 5 / 9)\n",
    "        return f\"{celsius}°C\"\n",
    "\n",
    "    return re.sub(pattern, replacer, text)\n",
    "\n",
    "# righe non utilizzabili perche le colonne non sono presenti nel dataset gia taggato, risolvere come ti avevo gia detto\n",
    "'''\n",
    "# === APPLY TRANSFORMATIONS ===\n",
    "\n",
    "# Convert fractions and units in ingredients and directions\n",
    "df['INGREDIENTS'] = df['ingredients'].apply(convert_fractions).apply(convert_units)\n",
    "df['DIRECTIONS'] = df['directions'].apply(convert_fractions).apply(convert_units).apply(convert_fahrenheit_to_celsius)\n",
    "\n",
    "# Rename title column and drop raw ingredients/directions columns\n",
    "df = df.rename(columns={\"title\": \"TITLE\"}).drop(columns=[\"ingredients\", \"directions\"])\n",
    "'''"
   ],
   "id": "f6177b908ebf022c",
   "outputs": [
    {
     "data": {
      "text/plain": "'\\n# === APPLY TRANSFORMATIONS ===\\n\\n# Convert fractions and units in ingredients and directions\\ndf[\\'INGREDIENTS\\'] = df[\\'ingredients\\'].apply(convert_fractions).apply(convert_units)\\ndf[\\'DIRECTIONS\\'] = df[\\'directions\\'].apply(convert_fractions).apply(convert_units).apply(convert_fahrenheit_to_celsius)\\n\\n# Rename title column and drop raw ingredients/directions columns\\ndf = df.rename(columns={\"title\": \"TITLE\"}).drop(columns=[\"ingredients\", \"directions\"])\\n'"
     },
     "execution_count": 2,
     "metadata": {},
     "output_type": "execute_result"
    }
   ],
   "execution_count": 2
  },
  {
   "metadata": {},
   "cell_type": "markdown",
   "source": [
    "## 3. Definizione di una funzione in grado di stimare il tempo di preparazione di una ricetta"
   ],
   "id": "7836a60998abffef"
  },
  {
   "metadata": {
    "tags": [
     "Works"
    ],
    "ExecuteTime": {
     "end_time": "2025-06-25T19:45:27.315839500Z",
     "start_time": "2025-06-25T19:45:21.675528200Z"
    }
   },
   "cell_type": "code",
   "source": [
    "import re\n",
    "\n",
    "# Patterns to detect time expressions\n",
    "TIME_PATTERN = re.compile(\n",
    "    r'(\\d+(?:\\.\\d+)?)\\s*(minute|minutes|min|mins|m|hour|hours|hr|hrs|h|day|days|d)\\b',\n",
    "    re.IGNORECASE\n",
    ")\n",
    "\n",
    "RANGE_PATTERN = re.compile(\n",
    "    r'(\\d+)\\s*-\\s*(\\d+)\\s*(minute|minutes|min|mins|m|hour|hours|hr|hrs|h)\\b',\n",
    "    re.IGNORECASE\n",
    ")\n",
    "\n",
    "# Time estimates for common preparation methods\n",
    "PREP_ESTIMATES = {\n",
    "    'bake': 45, 'boil': 20, 'fry': 15, 'grill': 25, 'chill': 120,\n",
    "    'simmer': 30, 'marinate': 60, 'microwave': 10, 'no-bake': 20,\n",
    "    'refrigerate': 180, 'freeze': 240\n",
    "}\n",
    "\n",
    "# Special cases for recipe types\n",
    "RECIPE_TYPE_ESTIMATES = {\n",
    "    'pasta': 10, 'salad': 15, 'cake': 45, 'pie': 60, 'stew': 120,\n",
    "    'casserole': 60, 'soup': 30, 'cookies': 30, 'bread': 90,\n",
    "    'fudge': 20, 'candy': 30\n",
    "}\n",
    "\n",
    "def convert_to_minutes(qty, unit):\n",
    "    \"\"\"Converts time quantity to minutes.\"\"\"\n",
    "    qty = float(qty)\n",
    "    unit = unit.lower()\n",
    "    if unit.startswith('m'): return qty\n",
    "    if unit.startswith('h'): return qty * 60\n",
    "    if unit.startswith('d'): return qty * 1440\n",
    "    return 0\n",
    "\n",
    "def estimate_by_recipe_type(title, ingredients):\n",
    "    \"\"\"Fallback estimation based on recipe title or ingredients.\"\"\"\n",
    "    title = str(title).lower()\n",
    "    ingredients = str(ingredients).lower()\n",
    "\n",
    "    # Check for specific recipe types\n",
    "    for keyword, est in RECIPE_TYPE_ESTIMATES.items():\n",
    "        if keyword in title:\n",
    "            return est\n",
    "\n",
    "    if any(word in ingredients for word in ['raw', 'fresh']):\n",
    "        return 15\n",
    "    if 'frozen' in ingredients:\n",
    "        return 20\n",
    "    if 'canned' in ingredients:\n",
    "        return 10\n",
    "\n",
    "    # Default fallback\n",
    "    return 30\n",
    "\n",
    "def clean_instruction_step(step):\n",
    "    \"\"\"Normalize range formats and identify special cases.\"\"\"\n",
    "    # Replace ranges (e.g., \"10-15 minutes\" → \"15 minutes\")\n",
    "    step = RANGE_PATTERN.sub(lambda m: f\"{m.group(2)} {m.group(3)}\", step)\n",
    "\n",
    "    # Handle special keywords\n",
    "    lowered = step.lower()\n",
    "    if 'overnight' in lowered:\n",
    "        return 480\n",
    "    if 'until set' in lowered or 'until firm' in lowered:\n",
    "        return 60\n",
    "\n",
    "    # Sum all time expressions\n",
    "    return sum(\n",
    "        convert_to_minutes(qty, unit)\n",
    "        for qty, unit in TIME_PATTERN.findall(step)\n",
    "    )\n",
    "\n",
    "def parse_instructions(instructions):\n",
    "    \"\"\"Parses instructions and extracts total estimated time in minutes.\"\"\"\n",
    "    total_time = 0\n",
    "\n",
    "    if not isinstance(instructions, list):\n",
    "        try:\n",
    "            instructions = ast.literal_eval(str(instructions))\n",
    "        except:\n",
    "            instructions = [instructions]\n",
    "\n",
    "    for step in instructions:\n",
    "        if isinstance(step, str):\n",
    "            total_time += clean_instruction_step(step)\n",
    "\n",
    "    return total_time\n",
    "\n",
    "def categorize_time(total_time):\n",
    "    \"\"\"Classify total time into labeled categories.\"\"\"\n",
    "    if total_time == 0:\n",
    "        return 'Not specified'\n",
    "    if total_time < 10:\n",
    "        return 'Very fast (0-10 mins)'\n",
    "    if total_time < 20:\n",
    "        return 'Fast (10-20 mins)'\n",
    "    if total_time < 40:\n",
    "        return 'Medium (20-40 mins)'\n",
    "    if total_time < 90:\n",
    "        return 'Slow (40-90 mins)'\n",
    "    return 'Very slow (90+ mins)'\n",
    "\n",
    "# Calculate total preparation time\n",
    "df['total_time'] = df['DIRECTIONS'].apply(parse_instructions)\n",
    "\n",
    "# Estimate time for unspecified recipes\n",
    "missing = df['total_time'] == 0\n",
    "df.loc[missing, 'total_time'] = df[missing].apply(\n",
    "    lambda row: estimate_by_recipe_type(row['TITLE'], row['INGREDIENTS']),\n",
    "    axis=1\n",
    ")\n",
    "\n",
    "# Categorize preparation times\n",
    "df['PREPARATION_TIME'] = df['total_time'].apply(categorize_time)\n",
    "\n",
    "df[['TITLE', 'INGREDIENTS', 'DIRECTIONS', 'PREPARATION_TIME']].head(200)"
   ],
   "id": "4ca47d472c93a067",
   "outputs": [
    {
     "data": {
      "text/plain": "                                                 TITLE  \\\n0                        Western Sizzlin Bread Pudding   \n1            Creamy Tuna And Bacon Salad (Reduced Fat)   \n2                        Spinach And Mushroom Lasagna    \n3                                     Three-Bean Tacos   \n4                                Hearty Hamburger Soup   \n..                                                 ...   \n195                Sweet Potato Brotchen (Bread Rolls)   \n196  Green Cleaner and Bug Repellant in One (Concen...   \n197                                 Chocolate Chip Pie   \n198                                Poppy Seed Dressing   \n199                                    Scallop Ceviche   \n\n                                           INGREDIENTS  \\\n0    [\"16 eggs, beaten\", \"6 -8 evaporated milk, 360...   \n1    [\"1 (6 ounce) can tuna, drained and flaked\", \"...   \n2    [\"1 tablespoon olive oil\", \"1 medium onion , c...   \n3    [\"1 teaspoon olive oil\", \"1 cup diced onion\", ...   \n4    [\"900.0 gs lean ground beef\", \"1 white onion, ...   \n..                                                 ...   \n195  [\"450 g sweet potatoes\", \"15 g butter or olive...   \n196  [\"1 tablespoon essential oil (part)\", \"3 table...   \n197  [\"1 graham cracker crust\", \"20 large marshmall...   \n198  [\"0.75 c. sugar\", \"2 tsp. dry mustard\", \"2 tsp...   \n199  [\"1 pound sea scallops\", \"Salt\", \"1 cup choppe...   \n\n                                            DIRECTIONS       PREPARATION_TIME  \n0    [\"Distribute rolls and cinnamon roll in (4) 2\\...   Very slow (90+ mins)  \n1    [\"Put everything in a bowl and mix together un...      Fast (10-20 mins)  \n2    [\"Heat oven to 375 degrees.\", \"\", \"In medium s...      Slow (40-90 mins)  \n3    [\"Heat oil in a large skillet over medium-high...    Medium (20-40 mins)  \n4    [\"Brown ground beef and onion in a large pot. ...      Slow (40-90 mins)  \n..                                                 ...                    ...  \n195  [\"Peel and cut sweet potatoes into chunks.\", \"...   Very slow (90+ mins)  \n196  [\"Mix all ingredients.\", \"Store in a glass jar...    Medium (20-40 mins)  \n197  [\"Make crust (I buy the prepared ones from the...      Slow (40-90 mins)  \n198  [\"Combine first 6 ingredients in a blender con...  Very fast (0-10 mins)  \n199  [\"Bring a pot of water to a boil, salt the wat...      Fast (10-20 mins)  \n\n[200 rows x 4 columns]",
      "text/html": "<div>\n<style scoped>\n    .dataframe tbody tr th:only-of-type {\n        vertical-align: middle;\n    }\n\n    .dataframe tbody tr th {\n        vertical-align: top;\n    }\n\n    .dataframe thead th {\n        text-align: right;\n    }\n</style>\n<table border=\"1\" class=\"dataframe\">\n  <thead>\n    <tr style=\"text-align: right;\">\n      <th></th>\n      <th>TITLE</th>\n      <th>INGREDIENTS</th>\n      <th>DIRECTIONS</th>\n      <th>PREPARATION_TIME</th>\n    </tr>\n  </thead>\n  <tbody>\n    <tr>\n      <th>0</th>\n      <td>Western Sizzlin Bread Pudding</td>\n      <td>[\"16 eggs, beaten\", \"6 -8 evaporated milk, 360...</td>\n      <td>[\"Distribute rolls and cinnamon roll in (4) 2\\...</td>\n      <td>Very slow (90+ mins)</td>\n    </tr>\n    <tr>\n      <th>1</th>\n      <td>Creamy Tuna And Bacon Salad (Reduced Fat)</td>\n      <td>[\"1 (6 ounce) can tuna, drained and flaked\", \"...</td>\n      <td>[\"Put everything in a bowl and mix together un...</td>\n      <td>Fast (10-20 mins)</td>\n    </tr>\n    <tr>\n      <th>2</th>\n      <td>Spinach And Mushroom Lasagna</td>\n      <td>[\"1 tablespoon olive oil\", \"1 medium onion , c...</td>\n      <td>[\"Heat oven to 375 degrees.\", \"\", \"In medium s...</td>\n      <td>Slow (40-90 mins)</td>\n    </tr>\n    <tr>\n      <th>3</th>\n      <td>Three-Bean Tacos</td>\n      <td>[\"1 teaspoon olive oil\", \"1 cup diced onion\", ...</td>\n      <td>[\"Heat oil in a large skillet over medium-high...</td>\n      <td>Medium (20-40 mins)</td>\n    </tr>\n    <tr>\n      <th>4</th>\n      <td>Hearty Hamburger Soup</td>\n      <td>[\"900.0 gs lean ground beef\", \"1 white onion, ...</td>\n      <td>[\"Brown ground beef and onion in a large pot. ...</td>\n      <td>Slow (40-90 mins)</td>\n    </tr>\n    <tr>\n      <th>...</th>\n      <td>...</td>\n      <td>...</td>\n      <td>...</td>\n      <td>...</td>\n    </tr>\n    <tr>\n      <th>195</th>\n      <td>Sweet Potato Brotchen (Bread Rolls)</td>\n      <td>[\"450 g sweet potatoes\", \"15 g butter or olive...</td>\n      <td>[\"Peel and cut sweet potatoes into chunks.\", \"...</td>\n      <td>Very slow (90+ mins)</td>\n    </tr>\n    <tr>\n      <th>196</th>\n      <td>Green Cleaner and Bug Repellant in One (Concen...</td>\n      <td>[\"1 tablespoon essential oil (part)\", \"3 table...</td>\n      <td>[\"Mix all ingredients.\", \"Store in a glass jar...</td>\n      <td>Medium (20-40 mins)</td>\n    </tr>\n    <tr>\n      <th>197</th>\n      <td>Chocolate Chip Pie</td>\n      <td>[\"1 graham cracker crust\", \"20 large marshmall...</td>\n      <td>[\"Make crust (I buy the prepared ones from the...</td>\n      <td>Slow (40-90 mins)</td>\n    </tr>\n    <tr>\n      <th>198</th>\n      <td>Poppy Seed Dressing</td>\n      <td>[\"0.75 c. sugar\", \"2 tsp. dry mustard\", \"2 tsp...</td>\n      <td>[\"Combine first 6 ingredients in a blender con...</td>\n      <td>Very fast (0-10 mins)</td>\n    </tr>\n    <tr>\n      <th>199</th>\n      <td>Scallop Ceviche</td>\n      <td>[\"1 pound sea scallops\", \"Salt\", \"1 cup choppe...</td>\n      <td>[\"Bring a pot of water to a boil, salt the wat...</td>\n      <td>Fast (10-20 mins)</td>\n    </tr>\n  </tbody>\n</table>\n<p>200 rows × 4 columns</p>\n</div>"
     },
     "execution_count": 3,
     "metadata": {},
     "output_type": "execute_result"
    }
   ],
   "execution_count": 3
  },
  {
   "metadata": {},
   "cell_type": "markdown",
   "source": [
    "### 4. La cella sottostante contiene una logica per calcolare la categoria di costo di una ricetta, che è stata poi sostituita da un metodo più efficace"
   ],
   "id": "474fb8ab5e198a53"
  },
  {
   "cell_type": "code",
   "source": [
    "'''\n",
    "# Conversione unità → kg\n",
    "UNIT_CONVERSION = {\n",
    "    'cup': 0.24, 'c.': 0.24, 'c': 0.24,\n",
    "    'teaspoon': 0.005, 'tsp': 0.005, 'tsp.': 0.005,\n",
    "    'tablespoon': 0.015, 'tbsp': 0.015, 'tbsp.': 0.015,\n",
    "    'package': 0.2, 'pkg': 0.2, 'pkg.': 0.2,\n",
    "    'can': 0.4, 'carton': 1.0,\n",
    "    'g': 0.001, 'g.': 0.001, 'gram': 0.001,\n",
    "    'kg': 1.0, 'kilogram': 1.0,\n",
    "    'lb': 0.4536, 'pound': 0.4536,\n",
    "    'oz': 0.02835, 'ounce': 0.02835,\n",
    "    'large package': 0.5, 'large pkg.': 0.5, 'large pkg': 0.5\n",
    "}\n",
    "\n",
    "# 3. Parsing function (qty, unit, name, grams_in_paren)\n",
    "def parse_ingredient(ing_str):\n",
    "    # peso fra parentesi\n",
    "    m = re.search(r'\\(\\s*([0-9]+(?:\\.[0-9]+)?)\\s*g\\.?\\s*\\)', ing_str, re.IGNORECASE)\n",
    "    grams = float(m.group(1)) if m else None\n",
    "\n",
    "    # quantity e unit\n",
    "    patt = r'^\\s*([\\d\\/.\\s]+)?\\s*([a-zA-Z\\.]+)?'\n",
    "    m2 = re.match(patt, ing_str)\n",
    "    qty_raw = m2.group(1) if m2 else None\n",
    "    try:\n",
    "        qty = eval(qty_raw.replace(' ', '+')) if qty_raw else 1.0\n",
    "    except:\n",
    "        qty = 1.0\n",
    "    unit = (m2.group(2) or '').strip('.').lower() if m2 else ''\n",
    "\n",
    "    # name pulito\n",
    "    name = re.sub(r'\\(.*?\\)|optional', '', ing_str, flags=re.IGNORECASE)\n",
    "    # rimuovo quantità/unità\n",
    "    name = re.sub(r'^[\\d\\/.\\s]+\\s*[a-zA-Z\\.]*', '', name).strip().lower()\n",
    "    return qty, unit, name, grams\n",
    "\n",
    "# 4. Calcolo posizionale con fallback substring e token\n",
    "def calculate_recipe_cost_positional(ingredients_list, ner_list):\n",
    "    total = 0.0\n",
    "    missing = []\n",
    "\n",
    "    for ing_str, ner_item in zip(ingredients_list, ner_list):\n",
    "        key = ner_item.lower()\n",
    "        qty, unit, name, grams = parse_ingredient(ing_str)\n",
    "\n",
    "        # scorporo se passo i grams\n",
    "        if grams is not None:\n",
    "            kg = (grams / 1000) * qty\n",
    "        elif unit == '':  # a pezzo\n",
    "            # prendo prezzo direct key\n",
    "            price = price_dict.get(key)\n",
    "            # fallback substring/token\n",
    "            if price is None:\n",
    "                # substring match\n",
    "                for k, v in price_dict.items():\n",
    "                    if k in key or key in k:\n",
    "                        price = v\n",
    "                        break\n",
    "                # token match\n",
    "                if price is None:\n",
    "                    for token in key.split():\n",
    "                        if token in price_dict:\n",
    "                            price = price_dict[token]\n",
    "                            break\n",
    "            if price:\n",
    "                total += qty * price\n",
    "            else:\n",
    "                missing.append(key)\n",
    "            continue\n",
    "        else:\n",
    "            conv = UNIT_CONVERSION.get(unit, 0.0)\n",
    "            if conv == 0:\n",
    "                missing.append(key)\n",
    "                continue\n",
    "            kg = qty * conv\n",
    "\n",
    "        # prezzo per kg\n",
    "        price = price_dict.get(key)\n",
    "        if price is None:\n",
    "            for k, v in price_dict.items():\n",
    "                if k in key or key in k:\n",
    "                    price = v\n",
    "                    break\n",
    "        if price is None:\n",
    "            missing.append(key)\n",
    "            continue\n",
    "\n",
    "        total += kg * price\n",
    "\n",
    "    return round(total, 2), missing\n",
    "\n",
    "# 5. Applica al DataFrame\n",
    "    df['INGREDIENTS'] = df['INGREDIENTS'].apply(lambda x: ast.literal_eval(x) if isinstance(x, str) else x)\n",
    "    df['NER_clean']  = df['NER_clean'].apply(lambda x: ast.literal_eval(x) if isinstance(x, str) else x)\n",
    "\n",
    "def compute_cost_row(row):\n",
    "     cost, _ = calculate_recipe_cost_positional(row['INGREDIENTS'], row['NER_clean'])\n",
    "     return cost\n",
    "\n",
    "df['total_cost'] = df.apply(compute_cost_row, axis=1)\n",
    "\n",
    "df['CATEGORY_COST'] = df['total_cost'].apply(categorize_cost)\n",
    "\n",
    "# Mostra risultati\n",
    "df[['INGREDIENTS', 'NER', 'CATEGORY_COST']].head(200)'''"
   ],
   "metadata": {
    "collapsed": false,
    "tags": [
     "potrebbe essere eliminata"
    ],
    "ExecuteTime": {
     "end_time": "2025-06-25T19:45:27.324765300Z",
     "start_time": "2025-06-25T19:45:27.317840500Z"
    }
   },
   "id": "99c5e6f021ec1a8f",
   "outputs": [
    {
     "data": {
      "text/plain": "\"\\n# Conversione unità → kg\\nUNIT_CONVERSION = {\\n    'cup': 0.24, 'c.': 0.24, 'c': 0.24,\\n    'teaspoon': 0.005, 'tsp': 0.005, 'tsp.': 0.005,\\n    'tablespoon': 0.015, 'tbsp': 0.015, 'tbsp.': 0.015,\\n    'package': 0.2, 'pkg': 0.2, 'pkg.': 0.2,\\n    'can': 0.4, 'carton': 1.0,\\n    'g': 0.001, 'g.': 0.001, 'gram': 0.001,\\n    'kg': 1.0, 'kilogram': 1.0,\\n    'lb': 0.4536, 'pound': 0.4536,\\n    'oz': 0.02835, 'ounce': 0.02835,\\n    'large package': 0.5, 'large pkg.': 0.5, 'large pkg': 0.5\\n}\\n\\n# 3. Parsing function (qty, unit, name, grams_in_paren)\\ndef parse_ingredient(ing_str):\\n    # peso fra parentesi\\n    m = re.search(r'\\\\(\\\\s*([0-9]+(?:\\\\.[0-9]+)?)\\\\s*g\\\\.?\\\\s*\\\\)', ing_str, re.IGNORECASE)\\n    grams = float(m.group(1)) if m else None\\n\\n    # quantity e unit\\n    patt = r'^\\\\s*([\\\\d\\\\/.\\\\s]+)?\\\\s*([a-zA-Z\\\\.]+)?'\\n    m2 = re.match(patt, ing_str)\\n    qty_raw = m2.group(1) if m2 else None\\n    try:\\n        qty = eval(qty_raw.replace(' ', '+')) if qty_raw else 1.0\\n    except:\\n        qty = 1.0\\n    unit = (m2.group(2) or '').strip('.').lower() if m2 else ''\\n\\n    # name pulito\\n    name = re.sub(r'\\\\(.*?\\\\)|optional', '', ing_str, flags=re.IGNORECASE)\\n    # rimuovo quantità/unità\\n    name = re.sub(r'^[\\\\d\\\\/.\\\\s]+\\\\s*[a-zA-Z\\\\.]*', '', name).strip().lower()\\n    return qty, unit, name, grams\\n\\n# 4. Calcolo posizionale con fallback substring e token\\ndef calculate_recipe_cost_positional(ingredients_list, ner_list):\\n    total = 0.0\\n    missing = []\\n\\n    for ing_str, ner_item in zip(ingredients_list, ner_list):\\n        key = ner_item.lower()\\n        qty, unit, name, grams = parse_ingredient(ing_str)\\n\\n        # scorporo se passo i grams\\n        if grams is not None:\\n            kg = (grams / 1000) * qty\\n        elif unit == '':  # a pezzo\\n            # prendo prezzo direct key\\n            price = price_dict.get(key)\\n            # fallback substring/token\\n            if price is None:\\n                # substring match\\n                for k, v in price_dict.items():\\n                    if k in key or key in k:\\n                        price = v\\n                        break\\n                # token match\\n                if price is None:\\n                    for token in key.split():\\n                        if token in price_dict:\\n                            price = price_dict[token]\\n                            break\\n            if price:\\n                total += qty * price\\n            else:\\n                missing.append(key)\\n            continue\\n        else:\\n            conv = UNIT_CONVERSION.get(unit, 0.0)\\n            if conv == 0:\\n                missing.append(key)\\n                continue\\n            kg = qty * conv\\n\\n        # prezzo per kg\\n        price = price_dict.get(key)\\n        if price is None:\\n            for k, v in price_dict.items():\\n                if k in key or key in k:\\n                    price = v\\n                    break\\n        if price is None:\\n            missing.append(key)\\n            continue\\n\\n        total += kg * price\\n\\n    return round(total, 2), missing\\n\\n# 5. Applica al DataFrame\\n    df['INGREDIENTS'] = df['INGREDIENTS'].apply(lambda x: ast.literal_eval(x) if isinstance(x, str) else x)\\n    df['NER_clean']  = df['NER_clean'].apply(lambda x: ast.literal_eval(x) if isinstance(x, str) else x)\\n\\ndef compute_cost_row(row):\\n     cost, _ = calculate_recipe_cost_positional(row['INGREDIENTS'], row['NER_clean'])\\n     return cost\\n\\ndf['total_cost'] = df.apply(compute_cost_row, axis=1)\\n\\ndf['CATEGORY_COST'] = df['total_cost'].apply(categorize_cost)\\n\\n# Mostra risultati\\ndf[['INGREDIENTS', 'NER', 'CATEGORY_COST']].head(200)\""
     },
     "execution_count": 4,
     "metadata": {},
     "output_type": "execute_result"
    }
   ],
   "execution_count": 4
  },
  {
   "metadata": {},
   "cell_type": "markdown",
   "source": [
    "## 5. Definizione di una funzione in grado di determinare se una ricetta è vegana oppure no"
   ],
   "id": "a21050239bedf7a3"
  },
  {
   "cell_type": "code",
   "source": [
    "import ast\n",
    "import re\n",
    "\n",
    "# Cleaning the NER column from special symbols\n",
    "df['NER_clean'] = df['NER'].apply(ast.literal_eval)\n",
    "\n",
    "# List containing keywords\n",
    "NON_VEGAN_KEYWORDS = {\n",
    "    # meat\n",
    "    'meat', 'red meat', 'white meat', 'poultry', 'veal', 'lamb', 'duck',\n",
    "    'goose', 'chicken', 'beef', 'pork', 'bacon', 'ham', 'prosciutto',\n",
    "    'sausage', 'salami', 'hot dog', 'pepperoni', 'mortadella', 'chorizo',\n",
    "    'ground beef', 'minced meat', 'steak', 'ribs', 'brisket', 'lardons',\n",
    "\n",
    "    # fish or seafood\n",
    "    'fish', 'anchovy', 'anchovies', 'tuna', 'salmon', 'sardines', 'mackerel',\n",
    "    'cod', 'haddock', 'tilapia', 'trout', 'snapper', 'catfish', 'bass',\n",
    "    'shellfish', 'shrimp', 'prawns', 'crab', 'lobster', 'scampi', 'clam',\n",
    "    'mussels', 'oysters', 'scallops', 'caviar', 'roe',\n",
    "\n",
    "    # dairy\n",
    "    'milk', 'whole milk', 'skim milk', 'cheese', 'butter', 'cream',\n",
    "    'heavy cream', 'sour cream', 'whipped cream', 'yogurt', 'ghee',\n",
    "    'lactose', 'casein', 'whey', 'buttermilk', 'condensed milk',\n",
    "    'evaporated milk', 'parmesan', 'mozzarella', 'cheddar',\n",
    "    'shredded cheese', 'blue cheese', 'goat cheese', 'cream cheese',\n",
    "    'cottage cheese', 'ricotta', 'cocoa butter',\n",
    "\n",
    "    # eggs\n",
    "    'egg', 'eggs', 'egg yolk', 'egg white', 'albumen', 'mayonnaise',\n",
    "\n",
    "    # bees\n",
    "    'honey', 'royal jelly', 'propolis', 'bee pollen',\n",
    "\n",
    "    # animal derivatives\n",
    "    'gelatin', 'gelatina', 'collagen', 'isinglass', 'lard', 'suet',\n",
    "    'carmine', 'shellac', 'pepsin', 'bone broth', 'bone marrow',\n",
    "    'broth (meat)', 'stock (meat)', 'chicken broth', 'beef broth',\n",
    "    'animal fat'\n",
    "}\n",
    "\n",
    "VEGAN_EXCEPTIONS = {\n",
    "    'milk': {'soy', 'almond', 'oat', 'rice', 'coconut', 'cashew', 'hazelnut',\n",
    "             'hemp', 'pea', 'flax', 'macadamia', 'barley', 'plant-based milk'},\n",
    "    'cheese': {'vegan cheese', 'nutritional yeast', 'cashew cheese', 'tofu cheese',\n",
    "               'almond cheese', 'plant-based cheese'},\n",
    "    'meat': {'soy', 'seitan', 'tofu', 'tempeh', 'jackfruit', 'plant-based', 'textured soy protein', 'mushroom-based'},\n",
    "    'butter': {'vegan butter', 'plant butter', 'peanut butter', 'almond butter',\n",
    "               'sunflower butter', 'coconut butter', 'cashew butter'},\n",
    "    'cream': {'coconut cream', 'soy cream', 'oat cream', 'vegan cream', 'cashew cream'},\n",
    "    'bacon': {'vegan bacon', 'tempeh bacon', 'coconut bacon', 'mushroom bacon'},\n",
    "    'egg': {'flaxseed', 'chia', 'aquafaba', 'vegan egg', 'plant-based egg', 'apple sauce'}\n",
    "}\n",
    "\n",
    "VEGAN_MODIFIERS = {\n",
    "    'vegan', '100% vegan', 'plant-based', 'dairy-free', 'egg-free',\n",
    "    'no milk', 'no eggs', 'cruelty-free', 'without animal derivatives',\n",
    "    '100% plant-based', 'meat-free', 'no animal products'\n",
    "}\n",
    "\n",
    "# --- UTILITY (Used in vegan, vegetarian, lactose free and gluten free)\n",
    "def parse_ingredients(ingredients_input):\n",
    "    \"\"\"Always returning a parsed list of ingredients\"\"\"\n",
    "    if isinstance(ingredients_input, list):\n",
    "        return ingredients_input\n",
    "    if isinstance(ingredients_input, str) and ingredients_input.strip():\n",
    "        try:\n",
    "            return ast.literal_eval(ingredients_input)\n",
    "        except:\n",
    "            return [\n",
    "                x.strip().strip('\"').strip(\"'\")\n",
    "                for x in re.split(r',(?![^[]*\\])', ingredients_input.strip('[]'))\n",
    "                if x.strip()\n",
    "            ]\n",
    "    return []\n",
    "\n",
    "def contains_vegan_exception(ingredient, keyword):\n",
    "    return any(re.search(rf'\\b{re.escape(ex)}\\b', ingredient, re.IGNORECASE)\n",
    "               for ex in VEGAN_EXCEPTIONS.get(keyword, set()))\n",
    "\n",
    "# --- Classification\n",
    "def classify_vegan(ingredients_input):\n",
    "    \"\"\"Returning True or False based on the ingredients\"\"\"\n",
    "    ingredients = parse_ingredients(ingredients_input)\n",
    "    for ing in ingredients:\n",
    "        if not isinstance(ing, str):\n",
    "            continue\n",
    "        ing_lower = ing.lower()\n",
    "        if any(skip in ing_lower for skip in ('water', 'salt')):\n",
    "            continue\n",
    "        if any(re.search(rf'\\b{re.escape(mod)}\\b', ing_lower) for mod in VEGAN_MODIFIERS):\n",
    "            continue\n",
    "        for keyword in NON_VEGAN_KEYWORDS:\n",
    "            if re.search(rf'\\b{re.escape(keyword)}(?:s)?\\b', ing_lower):\n",
    "                if not contains_vegan_exception(ing_lower, keyword):\n",
    "                    return False\n",
    "    return True\n",
    "\n",
    "def get_non_vegan_ingredients(ingredients_input):\n",
    "    \"\"\"Returning list of ingredients without vegan exceptions\"\"\"\n",
    "    ingredients = parse_ingredients(ingredients_input)\n",
    "    non_vegan = []\n",
    "    for ing in ingredients:\n",
    "        if not isinstance(ing, str):\n",
    "            continue\n",
    "        ing_lower = ing.lower()\n",
    "        if any(skip in ing_lower for skip in ('water', 'salt')):\n",
    "            continue\n",
    "        for keyword in NON_VEGAN_KEYWORDS:\n",
    "            if re.search(rf'\\b{re.escape(keyword)}(?:s)?\\b', ing_lower):\n",
    "                if not contains_vegan_exception(ing_lower, keyword):\n",
    "                    non_vegan.append(ing)\n",
    "                break\n",
    "    return non_vegan\n",
    "\n",
    "# --- Apply\n",
    "df['VEGAN'] = df['NER_clean'].apply(classify_vegan)\n",
    "df['NON_VEGAN_INGREDIENTS'] = df['NER_clean'].apply(get_non_vegan_ingredients)\n",
    "\n",
    "# --- Final validation\n",
    "anti_patterns = re.compile(\n",
    "    r'\\b(not vegan|meat|steak|fish|cheese|egg|eggs|beef|chicken|pork|bacon|cream)\\b',\n",
    "    re.IGNORECASE\n",
    ")\n",
    "\n",
    "df['VEGAN'] = df.apply(\n",
    "    lambda row: False if row['VEGAN'] and isinstance(row['TITLE'], str) and anti_patterns.search(row['TITLE']) else row['VEGAN'],\n",
    "    axis=1\n",
    ")\n",
    "\n",
    "# View results\n",
    "df[['TITLE', 'NER', 'VEGAN', 'NON_VEGAN_INGREDIENTS']].head(200)"
   ],
   "metadata": {
    "collapsed": false,
    "tags": [
     "Works"
    ],
    "ExecuteTime": {
     "end_time": "2025-06-25T19:49:28.903146100Z",
     "start_time": "2025-06-25T19:45:27.330773900Z"
    }
   },
   "id": "fd85d06e00f4b10c",
   "outputs": [
    {
     "data": {
      "text/plain": "                                                 TITLE  \\\n0                        Western Sizzlin Bread Pudding   \n1            Creamy Tuna And Bacon Salad (Reduced Fat)   \n2                        Spinach And Mushroom Lasagna    \n3                                     Three-Bean Tacos   \n4                                Hearty Hamburger Soup   \n..                                                 ...   \n195                Sweet Potato Brotchen (Bread Rolls)   \n196  Green Cleaner and Bug Repellant in One (Concen...   \n197                                 Chocolate Chip Pie   \n198                                Poppy Seed Dressing   \n199                                    Scallop Ceviche   \n\n                                                   NER  VEGAN  \\\n0    ['eggs', 'milk', 'sugar', 'vanilla', 'gallon w...  False   \n1    ['tuna', 'mayonnaise', 'low-fat sour cream', '...  False   \n2    ['olive oil', 'onion', 'garlic', 'salt', 'grou...  False   \n3    ['olive oil', 'onion', 'red bell pepper', 'gre...  False   \n4    ['lean ground beef', 'white onion', 'ground bl...  False   \n..                                                 ...    ...   \n195  ['sweet potatoes', 'butter', 'salt', 'flour', ...  False   \n196          ['essential oil', 'vodka', 'liquid soap']   True   \n197  ['graham cracker crust', 'marshmallows', 'milk...  False   \n198  ['sugar', 'dry mustard', 'salt', 'vinegar', 'o...   True   \n199  ['scallops', 'Salt', 'ginger', 'garlic', 'stal...  False   \n\n                                 NON_VEGAN_INGREDIENTS  \n0                                         [eggs, milk]  \n1    [tuna, mayonnaise, low-fat sour cream, bacon b...  \n2    [ricotta cheese, Parmesan cheese, egg, mozzare...  \n3                                     [cheddar cheese]  \n4      [lean ground beef, parmesan cheese, sour cream]  \n..                                                 ...  \n195                                           [butter]  \n196                                                 []  \n197                             [milk, whipping cream]  \n198                                                 []  \n199                                         [scallops]  \n\n[200 rows x 4 columns]",
      "text/html": "<div>\n<style scoped>\n    .dataframe tbody tr th:only-of-type {\n        vertical-align: middle;\n    }\n\n    .dataframe tbody tr th {\n        vertical-align: top;\n    }\n\n    .dataframe thead th {\n        text-align: right;\n    }\n</style>\n<table border=\"1\" class=\"dataframe\">\n  <thead>\n    <tr style=\"text-align: right;\">\n      <th></th>\n      <th>TITLE</th>\n      <th>NER</th>\n      <th>VEGAN</th>\n      <th>NON_VEGAN_INGREDIENTS</th>\n    </tr>\n  </thead>\n  <tbody>\n    <tr>\n      <th>0</th>\n      <td>Western Sizzlin Bread Pudding</td>\n      <td>['eggs', 'milk', 'sugar', 'vanilla', 'gallon w...</td>\n      <td>False</td>\n      <td>[eggs, milk]</td>\n    </tr>\n    <tr>\n      <th>1</th>\n      <td>Creamy Tuna And Bacon Salad (Reduced Fat)</td>\n      <td>['tuna', 'mayonnaise', 'low-fat sour cream', '...</td>\n      <td>False</td>\n      <td>[tuna, mayonnaise, low-fat sour cream, bacon b...</td>\n    </tr>\n    <tr>\n      <th>2</th>\n      <td>Spinach And Mushroom Lasagna</td>\n      <td>['olive oil', 'onion', 'garlic', 'salt', 'grou...</td>\n      <td>False</td>\n      <td>[ricotta cheese, Parmesan cheese, egg, mozzare...</td>\n    </tr>\n    <tr>\n      <th>3</th>\n      <td>Three-Bean Tacos</td>\n      <td>['olive oil', 'onion', 'red bell pepper', 'gre...</td>\n      <td>False</td>\n      <td>[cheddar cheese]</td>\n    </tr>\n    <tr>\n      <th>4</th>\n      <td>Hearty Hamburger Soup</td>\n      <td>['lean ground beef', 'white onion', 'ground bl...</td>\n      <td>False</td>\n      <td>[lean ground beef, parmesan cheese, sour cream]</td>\n    </tr>\n    <tr>\n      <th>...</th>\n      <td>...</td>\n      <td>...</td>\n      <td>...</td>\n      <td>...</td>\n    </tr>\n    <tr>\n      <th>195</th>\n      <td>Sweet Potato Brotchen (Bread Rolls)</td>\n      <td>['sweet potatoes', 'butter', 'salt', 'flour', ...</td>\n      <td>False</td>\n      <td>[butter]</td>\n    </tr>\n    <tr>\n      <th>196</th>\n      <td>Green Cleaner and Bug Repellant in One (Concen...</td>\n      <td>['essential oil', 'vodka', 'liquid soap']</td>\n      <td>True</td>\n      <td>[]</td>\n    </tr>\n    <tr>\n      <th>197</th>\n      <td>Chocolate Chip Pie</td>\n      <td>['graham cracker crust', 'marshmallows', 'milk...</td>\n      <td>False</td>\n      <td>[milk, whipping cream]</td>\n    </tr>\n    <tr>\n      <th>198</th>\n      <td>Poppy Seed Dressing</td>\n      <td>['sugar', 'dry mustard', 'salt', 'vinegar', 'o...</td>\n      <td>True</td>\n      <td>[]</td>\n    </tr>\n    <tr>\n      <th>199</th>\n      <td>Scallop Ceviche</td>\n      <td>['scallops', 'Salt', 'ginger', 'garlic', 'stal...</td>\n      <td>False</td>\n      <td>[scallops]</td>\n    </tr>\n  </tbody>\n</table>\n<p>200 rows × 4 columns</p>\n</div>"
     },
     "execution_count": 5,
     "metadata": {},
     "output_type": "execute_result"
    }
   ],
   "execution_count": 5
  },
  {
   "metadata": {},
   "cell_type": "markdown",
   "source": [
    "## 6. Definizione di una funzione in grado di determinare se una ricetta è vegetariana oppure no"
   ],
   "id": "f0fda6b0dda4a1d5"
  },
  {
   "metadata": {
    "tags": [
     "Works"
    ],
    "ExecuteTime": {
     "end_time": "2025-06-25T19:52:50.353401Z",
     "start_time": "2025-06-25T19:49:28.909669100Z"
    }
   },
   "cell_type": "code",
   "source": [
    "# List of non vegetarian ingredients\n",
    "NON_VEGETARIAN_KEYWORDS = {\n",
    "    'meat', 'red meat', 'white meat', 'poultry', 'veal', 'lamb', 'duck',\n",
    "    'goose', 'chicken', 'beef', 'pork', 'bacon', 'ham', 'prosciutto',\n",
    "    'sausage', 'salami', 'hot dog', 'pepperoni', 'mortadella', 'chorizo',\n",
    "    'ground beef', 'minced meat', 'steak', 'ribs', 'brisket', 'lardons',\n",
    "    'fish', 'anchovy', 'anchovies', 'tuna', 'salmon', 'sardines', 'mackerel',\n",
    "    'cod', 'haddock', 'tilapia', 'trout', 'snapper', 'catfish', 'bass',\n",
    "    'shellfish', 'shrimp', 'prawns', 'crab', 'lobster', 'scampi', 'clam',\n",
    "    'mussels', 'oysters', 'scallops', 'caviar', 'roe',\n",
    "    'gelatin', 'lard', 'collagen', 'isinglass', 'pepsin', 'suet', 'bone broth',\n",
    "    'bone marrow', 'stock (meat)', 'bouillon (meat)', 'chicken broth', 'beef broth'\n",
    "}\n",
    "\n",
    "# Exceptions for vegetarian subs\n",
    "VEGETARIAN_EXCEPTIONS = {\n",
    "    'meat': {'soy', 'soy protein', 'textured vegetable protein', 'tvp', 'seitan', 'tofu',\n",
    "             'tempeh', 'jackfruit', 'lentils', 'chickpeas', 'plant-based', 'mycoprotein', 'quorn'},\n",
    "    'bacon': {'vegan bacon', 'tempeh bacon', 'coconut bacon', 'rice paper bacon'},\n",
    "    'gelatin': {'agar', 'pectin', 'carrageenan', 'guar gum', 'xanthan gum'},\n",
    "    'fish': {'banana blossom', 'tofu', 'plant-based', 'seaweed', 'nori', 'smoked carrot'}\n",
    "}\n",
    "\n",
    "VEGETARIAN_MODIFIERS = {\n",
    "    'vegetarian', 'veggie', 'plant-based', 'meatless', 'no meat',\n",
    "    'without meat', 'cruelty-free', 'ovo-vegetarian', 'lacto-vegetarian',\n",
    "    '100% vegetarian', 'meat-free', 'green option'\n",
    "}\n",
    "\n",
    "def contains_vegetarian_exception(ingredient, keyword):\n",
    "    exceptions = VEGETARIAN_EXCEPTIONS.get(keyword, set())\n",
    "    return any(re.search(rf'\\b{re.escape(ex)}\\b', ingredient, re.IGNORECASE) for ex in exceptions)\n",
    "\n",
    "# --- Classification\n",
    "def classify_vegetarian(ingredients_input):\n",
    "    \"\"\"Returning True or False based on the ingredients\"\"\"\n",
    "    ingredients = parse_ingredients(ingredients_input) # using the function 'parse_ingredients' defined in the previous cell\n",
    "    for ing in ingredients:\n",
    "        if not isinstance(ing, str):\n",
    "            continue\n",
    "        ing_lower = ing.lower()\n",
    "        if any(skip in ing_lower for skip in ('water', 'salt')):\n",
    "            continue\n",
    "        if any(re.search(rf'\\b{re.escape(mod)}\\b', ing_lower) for mod in VEGETARIAN_MODIFIERS):\n",
    "            continue\n",
    "        for keyword in NON_VEGETARIAN_KEYWORDS:\n",
    "            if re.search(rf'\\b{re.escape(keyword)}(?:s)?\\b', ing_lower):\n",
    "                if not contains_vegetarian_exception(ing_lower, keyword):\n",
    "                    return False\n",
    "    return True\n",
    "\n",
    "def get_non_vegetarian_ingredients(ingredients_input):\n",
    "    \"\"\"Returning list of ingredients without vegetarian exceptions\"\"\"\n",
    "    ingredients = parse_ingredients(ingredients_input)\n",
    "    non_vegetarian = []\n",
    "    for ing in ingredients:\n",
    "        if not isinstance(ing, str):\n",
    "            continue\n",
    "        ing_lower = ing.lower()\n",
    "        if any(skip in ing_lower for skip in ('water', 'salt')):\n",
    "            continue\n",
    "        for keyword in NON_VEGETARIAN_KEYWORDS:\n",
    "            if re.search(rf'\\b{re.escape(keyword)}(?:s)?\\b', ing_lower):\n",
    "                if not contains_vegetarian_exception(ing_lower, keyword):\n",
    "                    non_vegetarian.append(ing)\n",
    "                break\n",
    "    return non_vegetarian\n",
    "\n",
    "# Apply to dataframe\n",
    "df['VEGETARIAN'] = df['NER_clean'].apply(classify_vegetarian)\n",
    "df['NON_VEGETARIAN_INGREDIENTS'] = df['NER_clean'].apply(get_non_vegetarian_ingredients)\n",
    "\n",
    "anti_patterns = re.compile(\n",
    "    r'\\b(not vegetarian|not veg|meat|steak|fish|beef|chicken|pork|bacon)\\b',\n",
    "    re.IGNORECASE\n",
    ")\n",
    "\n",
    "df['VEGETARIAN'] = df.apply(\n",
    "    lambda row: False if row['VEGETARIAN'] and isinstance(row['TITLE'], str) and anti_patterns.search(row['TITLE']) else row['VEGETARIAN'],\n",
    "    axis=1\n",
    ")\n",
    "\n",
    "# Show results\n",
    "df[['TITLE', 'NER', 'VEGETARIAN', 'NON_VEGETARIAN_INGREDIENTS']].head(200)"
   ],
   "id": "8813043f994e6a4e",
   "outputs": [
    {
     "data": {
      "text/plain": "                                                 TITLE  \\\n0                        Western Sizzlin Bread Pudding   \n1            Creamy Tuna And Bacon Salad (Reduced Fat)   \n2                        Spinach And Mushroom Lasagna    \n3                                     Three-Bean Tacos   \n4                                Hearty Hamburger Soup   \n..                                                 ...   \n195                Sweet Potato Brotchen (Bread Rolls)   \n196  Green Cleaner and Bug Repellant in One (Concen...   \n197                                 Chocolate Chip Pie   \n198                                Poppy Seed Dressing   \n199                                    Scallop Ceviche   \n\n                                                   NER  VEGETARIAN  \\\n0    ['eggs', 'milk', 'sugar', 'vanilla', 'gallon w...        True   \n1    ['tuna', 'mayonnaise', 'low-fat sour cream', '...       False   \n2    ['olive oil', 'onion', 'garlic', 'salt', 'grou...        True   \n3    ['olive oil', 'onion', 'red bell pepper', 'gre...        True   \n4    ['lean ground beef', 'white onion', 'ground bl...       False   \n..                                                 ...         ...   \n195  ['sweet potatoes', 'butter', 'salt', 'flour', ...        True   \n196          ['essential oil', 'vodka', 'liquid soap']        True   \n197  ['graham cracker crust', 'marshmallows', 'milk...        True   \n198  ['sugar', 'dry mustard', 'salt', 'vinegar', 'o...        True   \n199  ['scallops', 'Salt', 'ginger', 'garlic', 'stal...       False   \n\n    NON_VEGETARIAN_INGREDIENTS  \n0                           []  \n1           [tuna, bacon bits]  \n2                           []  \n3                           []  \n4           [lean ground beef]  \n..                         ...  \n195                         []  \n196                         []  \n197                         []  \n198                         []  \n199                 [scallops]  \n\n[200 rows x 4 columns]",
      "text/html": "<div>\n<style scoped>\n    .dataframe tbody tr th:only-of-type {\n        vertical-align: middle;\n    }\n\n    .dataframe tbody tr th {\n        vertical-align: top;\n    }\n\n    .dataframe thead th {\n        text-align: right;\n    }\n</style>\n<table border=\"1\" class=\"dataframe\">\n  <thead>\n    <tr style=\"text-align: right;\">\n      <th></th>\n      <th>TITLE</th>\n      <th>NER</th>\n      <th>VEGETARIAN</th>\n      <th>NON_VEGETARIAN_INGREDIENTS</th>\n    </tr>\n  </thead>\n  <tbody>\n    <tr>\n      <th>0</th>\n      <td>Western Sizzlin Bread Pudding</td>\n      <td>['eggs', 'milk', 'sugar', 'vanilla', 'gallon w...</td>\n      <td>True</td>\n      <td>[]</td>\n    </tr>\n    <tr>\n      <th>1</th>\n      <td>Creamy Tuna And Bacon Salad (Reduced Fat)</td>\n      <td>['tuna', 'mayonnaise', 'low-fat sour cream', '...</td>\n      <td>False</td>\n      <td>[tuna, bacon bits]</td>\n    </tr>\n    <tr>\n      <th>2</th>\n      <td>Spinach And Mushroom Lasagna</td>\n      <td>['olive oil', 'onion', 'garlic', 'salt', 'grou...</td>\n      <td>True</td>\n      <td>[]</td>\n    </tr>\n    <tr>\n      <th>3</th>\n      <td>Three-Bean Tacos</td>\n      <td>['olive oil', 'onion', 'red bell pepper', 'gre...</td>\n      <td>True</td>\n      <td>[]</td>\n    </tr>\n    <tr>\n      <th>4</th>\n      <td>Hearty Hamburger Soup</td>\n      <td>['lean ground beef', 'white onion', 'ground bl...</td>\n      <td>False</td>\n      <td>[lean ground beef]</td>\n    </tr>\n    <tr>\n      <th>...</th>\n      <td>...</td>\n      <td>...</td>\n      <td>...</td>\n      <td>...</td>\n    </tr>\n    <tr>\n      <th>195</th>\n      <td>Sweet Potato Brotchen (Bread Rolls)</td>\n      <td>['sweet potatoes', 'butter', 'salt', 'flour', ...</td>\n      <td>True</td>\n      <td>[]</td>\n    </tr>\n    <tr>\n      <th>196</th>\n      <td>Green Cleaner and Bug Repellant in One (Concen...</td>\n      <td>['essential oil', 'vodka', 'liquid soap']</td>\n      <td>True</td>\n      <td>[]</td>\n    </tr>\n    <tr>\n      <th>197</th>\n      <td>Chocolate Chip Pie</td>\n      <td>['graham cracker crust', 'marshmallows', 'milk...</td>\n      <td>True</td>\n      <td>[]</td>\n    </tr>\n    <tr>\n      <th>198</th>\n      <td>Poppy Seed Dressing</td>\n      <td>['sugar', 'dry mustard', 'salt', 'vinegar', 'o...</td>\n      <td>True</td>\n      <td>[]</td>\n    </tr>\n    <tr>\n      <th>199</th>\n      <td>Scallop Ceviche</td>\n      <td>['scallops', 'Salt', 'ginger', 'garlic', 'stal...</td>\n      <td>False</td>\n      <td>[scallops]</td>\n    </tr>\n  </tbody>\n</table>\n<p>200 rows × 4 columns</p>\n</div>"
     },
     "execution_count": 6,
     "metadata": {},
     "output_type": "execute_result"
    }
   ],
   "execution_count": 6
  },
  {
   "metadata": {},
   "cell_type": "markdown",
   "source": [
    "## 7. Definizione di una funzione in grado di stimare il metodo di preparazione della ricetta"
   ],
   "id": "8a072aee5d154480"
  },
  {
   "metadata": {
    "ExecuteTime": {
     "end_time": "2025-06-25T19:53:01.375058600Z",
     "start_time": "2025-06-25T19:52:50.356910900Z"
    }
   },
   "cell_type": "code",
   "source": [
    "# Extended map for methods and keywords\n",
    "cooking_methods = {\n",
    "    'Baked': [\n",
    "        'bake', 'baked', 'baking', 'preheat oven', 'pre-heated oven', 'ovenproof',\n",
    "        'place in oven', 'roast in oven', 'bake at', 'oven-bake', 'put in oven', 'oven cook'\n",
    "    ],\n",
    "    'Boiled': [\n",
    "        'boil', 'boiled', 'boiling', 'bring to a boil', 'simmer', 'parboil', 'blanch',\n",
    "        'blanched', 'boiled in', 'simmered', 'cook in boiling water', 'gentle boil', 'rapid boil'\n",
    "    ],\n",
    "    'Broil': [\n",
    "        'broil', 'broiled', 'broiling', 'under the broiler', 'place under broiler', 'broiler setting'\n",
    "    ],\n",
    "    'Fried': [\n",
    "        'fry', 'fried', 'frying', 'deep fry', 'deep-fry', 'pan fry', 'pan-fried', 'shallow fry',\n",
    "        'stir-fry', 'sauté', 'sautée', 'sautéed', 'sauted', 'sautéing', 'sear', 'seared',\n",
    "        'brown in a pan', 'browned', 'cook in oil', 'crisp in pan', 'fry in skillet', 'flash fry'\n",
    "    ],\n",
    "    'Grilled': [\n",
    "        'grill', 'grilled', 'grilling', 'grill pan', 'on the grill', 'barbecue', 'bbq',\n",
    "        'cook over grill', 'char-grill', 'chargrilled', 'griddle pan', 'grilled over flame'\n",
    "    ],\n",
    "    'Roasted': [\n",
    "        'roast', 'roasted', 'roasting', 'oven-roasted', 'slow roast', 'roast in oven',\n",
    "        'roast at', 'roasted until golden', 'dry-roast', 'dry roast'\n",
    "    ],\n",
    "    'Slow Cooking': [\n",
    "        'slow cook', 'slow-cooked', 'slow-cook', 'slow cooking', 'crockpot', 'crock pot',\n",
    "        'slow cooker', 'cook on low for', 'long cook time', 'set to low', 'set to high and cook for hours'\n",
    "    ],\n",
    "    'Steamed': [\n",
    "        'steam', 'steamed', 'steaming', 'in steamer', 'steamer basket', 'double boiler',\n",
    "        'steam until tender', 'cook with steam', 'steam over water', 'steam for minutes'\n",
    "    ],\n",
    "    'Pressure Cooked': [\n",
    "        'pressure cook', 'pressure cooked', 'pressure cooker', 'instant pot',\n",
    "        'cooked under pressure', 'cook under pressure', 'high pressure', 'manual pressure cook'\n",
    "    ],\n",
    "    'Microwaved': [\n",
    "        'microwave', 'microwaved', 'microwaving', 'cook in microwave', 'microwave on high',\n",
    "        'microwave-safe bowl', 'microwave for minutes'\n",
    "    ],\n",
    "    'Sous Vide': [\n",
    "        'sous vide', 'sous-vide', 'precision cooker', 'immersion circulator',\n",
    "        'vacuum sealed and cooked in water bath', 'vacuum seal and cook at temperature',\n",
    "        'cook sous vide'\n",
    "    ],\n",
    "    'Toasted': [\n",
    "        'toast', 'toasted', 'toasting', 'in toaster', 'toasted until golden',\n",
    "        'under grill until golden', 'toast under broiler', 'toast on skillet'\n",
    "    ],\n",
    "    'Blended': [\n",
    "        'blend', 'blended', 'blending', 'blender', 'puree', 'pureed', 'pureeing',\n",
    "        'food processor', 'process until smooth', 'blend until creamy', 'blend until combined',\n",
    "        'whizz in blender', 'pulse until smooth'\n",
    "    ],\n",
    "    'Raw': [\n",
    "        'serve raw', 'uncooked', 'no cook', 'eat raw', 'fresh only', 'as is', 'ready to eat',\n",
    "        'no heating required', 'chilled and served', 'consume without cooking', 'fresh and raw'\n",
    "    ]\n",
    "}\n",
    "\n",
    "def detect_cooking_method(instruction_list):\n",
    "    '''A method to detect cooking method'''\n",
    "    if isinstance(instruction_list, str):\n",
    "        try:\n",
    "            steps = ast.literal_eval(instruction_list.lower())\n",
    "        except:\n",
    "            steps = [instruction_list.lower()]\n",
    "    else:\n",
    "        steps = [str(instruction).lower() for instruction in instruction_list]\n",
    "\n",
    "    for method, keywords in cooking_methods.items():\n",
    "        if any(any(kw in step for kw in keywords) for step in steps):\n",
    "            return method\n",
    "    return 'Other'\n",
    "\n",
    "df['COOKING_METHOD'] = df['DIRECTIONS'].apply(detect_cooking_method)\n",
    "\n",
    "df[['TITLE', 'DIRECTIONS', 'COOKING_METHOD']].head(200)"
   ],
   "id": "bbef5cc1efcc40d0",
   "outputs": [
    {
     "data": {
      "text/plain": "                                                 TITLE  \\\n0                        Western Sizzlin Bread Pudding   \n1            Creamy Tuna And Bacon Salad (Reduced Fat)   \n2                        Spinach And Mushroom Lasagna    \n3                                     Three-Bean Tacos   \n4                                Hearty Hamburger Soup   \n..                                                 ...   \n195                Sweet Potato Brotchen (Bread Rolls)   \n196  Green Cleaner and Bug Repellant in One (Concen...   \n197                                 Chocolate Chip Pie   \n198                                Poppy Seed Dressing   \n199                                    Scallop Ceviche   \n\n                                            DIRECTIONS COOKING_METHOD  \n0    [\"Distribute rolls and cinnamon roll in (4) 2\\...          Baked  \n1    [\"Put everything in a bowl and mix together un...          Other  \n2    [\"Heat oven to 375 degrees.\", \"\", \"In medium s...          Baked  \n3    [\"Heat oil in a large skillet over medium-high...         Boiled  \n4    [\"Brown ground beef and onion in a large pot. ...         Boiled  \n..                                                 ...            ...  \n195  [\"Peel and cut sweet potatoes into chunks.\", \"...          Baked  \n196  [\"Mix all ingredients.\", \"Store in a glass jar...          Other  \n197  [\"Make crust (I buy the prepared ones from the...         Boiled  \n198  [\"Combine first 6 ingredients in a blender con...        Blended  \n199  [\"Bring a pot of water to a boil, salt the wat...         Boiled  \n\n[200 rows x 3 columns]",
      "text/html": "<div>\n<style scoped>\n    .dataframe tbody tr th:only-of-type {\n        vertical-align: middle;\n    }\n\n    .dataframe tbody tr th {\n        vertical-align: top;\n    }\n\n    .dataframe thead th {\n        text-align: right;\n    }\n</style>\n<table border=\"1\" class=\"dataframe\">\n  <thead>\n    <tr style=\"text-align: right;\">\n      <th></th>\n      <th>TITLE</th>\n      <th>DIRECTIONS</th>\n      <th>COOKING_METHOD</th>\n    </tr>\n  </thead>\n  <tbody>\n    <tr>\n      <th>0</th>\n      <td>Western Sizzlin Bread Pudding</td>\n      <td>[\"Distribute rolls and cinnamon roll in (4) 2\\...</td>\n      <td>Baked</td>\n    </tr>\n    <tr>\n      <th>1</th>\n      <td>Creamy Tuna And Bacon Salad (Reduced Fat)</td>\n      <td>[\"Put everything in a bowl and mix together un...</td>\n      <td>Other</td>\n    </tr>\n    <tr>\n      <th>2</th>\n      <td>Spinach And Mushroom Lasagna</td>\n      <td>[\"Heat oven to 375 degrees.\", \"\", \"In medium s...</td>\n      <td>Baked</td>\n    </tr>\n    <tr>\n      <th>3</th>\n      <td>Three-Bean Tacos</td>\n      <td>[\"Heat oil in a large skillet over medium-high...</td>\n      <td>Boiled</td>\n    </tr>\n    <tr>\n      <th>4</th>\n      <td>Hearty Hamburger Soup</td>\n      <td>[\"Brown ground beef and onion in a large pot. ...</td>\n      <td>Boiled</td>\n    </tr>\n    <tr>\n      <th>...</th>\n      <td>...</td>\n      <td>...</td>\n      <td>...</td>\n    </tr>\n    <tr>\n      <th>195</th>\n      <td>Sweet Potato Brotchen (Bread Rolls)</td>\n      <td>[\"Peel and cut sweet potatoes into chunks.\", \"...</td>\n      <td>Baked</td>\n    </tr>\n    <tr>\n      <th>196</th>\n      <td>Green Cleaner and Bug Repellant in One (Concen...</td>\n      <td>[\"Mix all ingredients.\", \"Store in a glass jar...</td>\n      <td>Other</td>\n    </tr>\n    <tr>\n      <th>197</th>\n      <td>Chocolate Chip Pie</td>\n      <td>[\"Make crust (I buy the prepared ones from the...</td>\n      <td>Boiled</td>\n    </tr>\n    <tr>\n      <th>198</th>\n      <td>Poppy Seed Dressing</td>\n      <td>[\"Combine first 6 ingredients in a blender con...</td>\n      <td>Blended</td>\n    </tr>\n    <tr>\n      <th>199</th>\n      <td>Scallop Ceviche</td>\n      <td>[\"Bring a pot of water to a boil, salt the wat...</td>\n      <td>Boiled</td>\n    </tr>\n  </tbody>\n</table>\n<p>200 rows × 3 columns</p>\n</div>"
     },
     "execution_count": 7,
     "metadata": {},
     "output_type": "execute_result"
    }
   ],
   "execution_count": 7
  },
  {
   "metadata": {},
   "cell_type": "markdown",
   "source": [
    "## 8. Definizione di una funzione in grado di stimare la difficoltà di una ricetta"
   ],
   "id": "ccfd5160a6abf303"
  },
  {
   "metadata": {
    "ExecuteTime": {
     "end_time": "2025-06-25T19:54:34.226409100Z",
     "start_time": "2025-06-25T19:53:01.382335700Z"
    }
   },
   "cell_type": "code",
   "source": [
    "import ast\n",
    "\n",
    "def estimate_difficulty(row):\n",
    "    try:\n",
    "        ingredients = ast.literal_eval(row['INGREDIENTS'])\n",
    "        instructions = ast.literal_eval(row['DIRECTIONS'])\n",
    "    except Exception:\n",
    "        return 'Unknown'\n",
    "\n",
    "    num_ingredients = len(ingredients)\n",
    "    num_steps = len([s for s in instructions if s.strip()])\n",
    "    instruction_text = ' '.join(instructions).lower()\n",
    "\n",
    "    mild_keywords = [\n",
    "        'mix', 'combine', 'stir', 'spread', 'pour', 'season',\n",
    "        'slice', 'chop', 'cut', 'heat', 'grease', 'add'\n",
    "    ]\n",
    "    medium_keywords = [\n",
    "        'simmer', 'boil', 'bake', 'grill', 'saute', 'blend',\n",
    "        'fry', 'knead', 'rest', 'whisk', 'preheat', 'chill',\n",
    "        'melt', 'marinate', 'brown'\n",
    "    ]\n",
    "    hard_keywords = [\n",
    "        'sous vide', 'caramelize', 'double boiler', 'bain-marie',\n",
    "        'julienne', 'poach', 'deglaze', 'layer', 'water bath',\n",
    "        'refrigerate overnight', 'fold', 'temper', 'pass through sieve',\n",
    "        'glaze', 'rotate pans', 'cool completely', 'remove from mold'\n",
    "    ]\n",
    "\n",
    "    def keyword_score(keywords, text, max_points=3):\n",
    "        score = 0\n",
    "        for kw in keywords:\n",
    "            matches = len(re.findall(rf'\\b{re.escape(kw)}\\b', text))\n",
    "            score += matches\n",
    "        return min(score, max_points)\n",
    "\n",
    "    mild_score = keyword_score(mild_keywords, instruction_text)\n",
    "    medium_score = keyword_score(medium_keywords, instruction_text)\n",
    "    hard_score = keyword_score(hard_keywords, instruction_text, max_points=4)\n",
    "\n",
    "    bonus = 0\n",
    "    if 'overnight' in instruction_text or 'refrigerate overnight' in instruction_text:\n",
    "        bonus += 3\n",
    "    if 'cool completely' in instruction_text or 'let cool' in instruction_text:\n",
    "        bonus += 2\n",
    "    if 'food processor' in instruction_text:\n",
    "        bonus += 1\n",
    "    if 'strain' in instruction_text or 'sieve' in instruction_text:\n",
    "        bonus += 1\n",
    "    if 'double boiler' in instruction_text or 'bain-marie' in instruction_text:\n",
    "        bonus += 2\n",
    "    if 'fold' in instruction_text:\n",
    "        bonus += 1\n",
    "\n",
    "    complex_ingredients = ['gelatin', 'saffron', 'truffle', 'wasabi', 'caviar']\n",
    "    complex_ingredients_count = sum(1 for ingr in ingredients if any(ci in ingr.lower() for ci in complex_ingredients))\n",
    "    bonus += complex_ingredients_count * 1.5\n",
    "\n",
    "    score = 0\n",
    "    score += num_ingredients * 0.25\n",
    "    score += num_steps * 1.5\n",
    "    score += mild_score * 1\n",
    "    score += medium_score * 2\n",
    "    score += hard_score * 3\n",
    "    score += bonus\n",
    "\n",
    "    # thresholds for the 3 classes (da rivedere)\n",
    "    if score <= 10:\n",
    "        return 'Easy'\n",
    "    elif score <= 22:\n",
    "        return 'Medium'\n",
    "    else:\n",
    "        return 'Hard'\n",
    "\n",
    "# Apply\n",
    "df['DIFFICULTY'] = df.apply(estimate_difficulty, axis=1)\n",
    "\n",
    "df[['TITLE', 'DIRECTIONS', 'DIFFICULTY']].head(200)"
   ],
   "id": "6bea9985f08ba998",
   "outputs": [
    {
     "data": {
      "text/plain": "                                                 TITLE  \\\n0                        Western Sizzlin Bread Pudding   \n1            Creamy Tuna And Bacon Salad (Reduced Fat)   \n2                        Spinach And Mushroom Lasagna    \n3                                     Three-Bean Tacos   \n4                                Hearty Hamburger Soup   \n..                                                 ...   \n195                Sweet Potato Brotchen (Bread Rolls)   \n196  Green Cleaner and Bug Repellant in One (Concen...   \n197                                 Chocolate Chip Pie   \n198                                Poppy Seed Dressing   \n199                                    Scallop Ceviche   \n\n                                            DIRECTIONS DIFFICULTY  \n0    [\"Distribute rolls and cinnamon roll in (4) 2\\...     Medium  \n1    [\"Put everything in a bowl and mix together un...       Easy  \n2    [\"Heat oven to 375 degrees.\", \"\", \"In medium s...       Hard  \n3    [\"Heat oil in a large skillet over medium-high...       Hard  \n4    [\"Brown ground beef and onion in a large pot. ...       Hard  \n..                                                 ...        ...  \n195  [\"Peel and cut sweet potatoes into chunks.\", \"...       Hard  \n196  [\"Mix all ingredients.\", \"Store in a glass jar...       Easy  \n197  [\"Make crust (I buy the prepared ones from the...       Hard  \n198  [\"Combine first 6 ingredients in a blender con...     Medium  \n199  [\"Bring a pot of water to a boil, salt the wat...       Hard  \n\n[200 rows x 3 columns]",
      "text/html": "<div>\n<style scoped>\n    .dataframe tbody tr th:only-of-type {\n        vertical-align: middle;\n    }\n\n    .dataframe tbody tr th {\n        vertical-align: top;\n    }\n\n    .dataframe thead th {\n        text-align: right;\n    }\n</style>\n<table border=\"1\" class=\"dataframe\">\n  <thead>\n    <tr style=\"text-align: right;\">\n      <th></th>\n      <th>TITLE</th>\n      <th>DIRECTIONS</th>\n      <th>DIFFICULTY</th>\n    </tr>\n  </thead>\n  <tbody>\n    <tr>\n      <th>0</th>\n      <td>Western Sizzlin Bread Pudding</td>\n      <td>[\"Distribute rolls and cinnamon roll in (4) 2\\...</td>\n      <td>Medium</td>\n    </tr>\n    <tr>\n      <th>1</th>\n      <td>Creamy Tuna And Bacon Salad (Reduced Fat)</td>\n      <td>[\"Put everything in a bowl and mix together un...</td>\n      <td>Easy</td>\n    </tr>\n    <tr>\n      <th>2</th>\n      <td>Spinach And Mushroom Lasagna</td>\n      <td>[\"Heat oven to 375 degrees.\", \"\", \"In medium s...</td>\n      <td>Hard</td>\n    </tr>\n    <tr>\n      <th>3</th>\n      <td>Three-Bean Tacos</td>\n      <td>[\"Heat oil in a large skillet over medium-high...</td>\n      <td>Hard</td>\n    </tr>\n    <tr>\n      <th>4</th>\n      <td>Hearty Hamburger Soup</td>\n      <td>[\"Brown ground beef and onion in a large pot. ...</td>\n      <td>Hard</td>\n    </tr>\n    <tr>\n      <th>...</th>\n      <td>...</td>\n      <td>...</td>\n      <td>...</td>\n    </tr>\n    <tr>\n      <th>195</th>\n      <td>Sweet Potato Brotchen (Bread Rolls)</td>\n      <td>[\"Peel and cut sweet potatoes into chunks.\", \"...</td>\n      <td>Hard</td>\n    </tr>\n    <tr>\n      <th>196</th>\n      <td>Green Cleaner and Bug Repellant in One (Concen...</td>\n      <td>[\"Mix all ingredients.\", \"Store in a glass jar...</td>\n      <td>Easy</td>\n    </tr>\n    <tr>\n      <th>197</th>\n      <td>Chocolate Chip Pie</td>\n      <td>[\"Make crust (I buy the prepared ones from the...</td>\n      <td>Hard</td>\n    </tr>\n    <tr>\n      <th>198</th>\n      <td>Poppy Seed Dressing</td>\n      <td>[\"Combine first 6 ingredients in a blender con...</td>\n      <td>Medium</td>\n    </tr>\n    <tr>\n      <th>199</th>\n      <td>Scallop Ceviche</td>\n      <td>[\"Bring a pot of water to a boil, salt the wat...</td>\n      <td>Hard</td>\n    </tr>\n  </tbody>\n</table>\n<p>200 rows × 3 columns</p>\n</div>"
     },
     "execution_count": 8,
     "metadata": {},
     "output_type": "execute_result"
    }
   ],
   "execution_count": 8
  },
  {
   "metadata": {},
   "cell_type": "markdown",
   "source": [
    "## 9. Definizione di una funzione in grado di rilevare se la ricetta contiene lattosio"
   ],
   "id": "5d5ed8487a6ded"
  },
  {
   "metadata": {
    "ExecuteTime": {
     "end_time": "2025-06-25T19:57:35.683362400Z",
     "start_time": "2025-06-25T19:54:34.225410Z"
    }
   },
   "cell_type": "code",
   "source": [
    "# List of lactose ingredients\n",
    "LACTOSE_KEYWORDS = {\n",
    "    # milks and derivatives\n",
    "    'milk', 'whole milk', 'skim milk', 'raw milk', 'lactose', 'lactose monohydrate',\n",
    "    'cream', 'heavy cream', 'double cream', 'single cream', 'whipping cream',\n",
    "    'butter', 'ghee', 'clarified butter',\n",
    "\n",
    "    # cheese\n",
    "    'cheese', 'cream cheese', 'soft cheese', 'hard cheese',\n",
    "    'ricotta', 'mozzarella', 'parmesan', 'pecorino', 'feta', 'brie', 'camembert',\n",
    "    'blue cheese', 'goat cheese', 'cheddar', 'colby', 'gouda', 'gruyere',\n",
    "    'swiss cheese', 'romano cheese', 'mascarpone', 'paneer', 'provolone',\n",
    "\n",
    "    # Yogurt and similar\n",
    "    'yogurt', 'greek yogurt', 'kefir', 'curd',\n",
    "\n",
    "    # desserts and industrials\n",
    "    'custard', 'ice cream', 'gelato', 'milkshake', 'pudding', 'white chocolate',\n",
    "\n",
    "    # technical ingredients\n",
    "    'whey', 'whey protein', 'whey powder', 'casein', 'caseinate', 'milk solids',\n",
    "    'milk powder', 'dried milk', 'nonfat milk', 'low-fat milk', 'milk protein',\n",
    "    'milkfat', 'buttermilk', 'evaporated milk', 'condensed milk', 'recombined milk'\n",
    "}\n",
    "\n",
    "# Exceptions for lactose free variants\n",
    "LACTOSE_EXCEPTIONS = {\n",
    "    'milk': {\n",
    "        'almond milk', 'soy milk', 'oat milk', 'coconut milk', 'rice milk',\n",
    "        'lactose-free milk', 'hemp milk', 'pea milk', 'cashew milk',\n",
    "        'hazelnut milk', 'macadamia milk', 'flax milk'\n",
    "    },\n",
    "    'cheese': {\n",
    "        'vegan cheese', 'plant-based cheese', 'nut cheese', 'cashew cheese',\n",
    "        'almond cheese', 'tofu cheese', 'soy cheese'\n",
    "    },\n",
    "    'butter': {\n",
    "        'vegan butter', 'plant-based butter', 'margarine', 'oil spread'\n",
    "    },\n",
    "    'cream': {\n",
    "        'coconut cream', 'soy cream', 'oat cream', 'cashew cream', 'almond cream'\n",
    "    },\n",
    "    'yogurt': {\n",
    "        'coconut yogurt', 'soy yogurt', 'almond yogurt', 'oat yogurt',\n",
    "        'lactose-free yogurt', 'rice yogurt', 'cashew yogurt'\n",
    "    }\n",
    "}\n",
    "\n",
    "def contains_lactose_exception(ingredient, keyword):\n",
    "    exceptions = LACTOSE_EXCEPTIONS.get(keyword, set())\n",
    "    return any(re.search(rf'\\b{re.escape(ex)}\\b', ingredient, re.IGNORECASE) for ex in exceptions)\n",
    "\n",
    "def classify_lactose_free(ingredients_input):\n",
    "    ingredients = parse_ingredients(ingredients_input)\n",
    "    for ing in ingredients:\n",
    "        if not isinstance(ing, str):\n",
    "            continue\n",
    "        ing_lower = ing.lower()\n",
    "        for keyword in LACTOSE_KEYWORDS:\n",
    "            if re.search(rf'\\b{re.escape(keyword)}(?:s)?\\b', ing_lower):\n",
    "                if not contains_lactose_exception(ing_lower, keyword):\n",
    "                    return False\n",
    "    return True\n",
    "\n",
    "def get_lactose_ingredients(ingredients_input):\n",
    "    ingredients = parse_ingredients(ingredients_input)\n",
    "    lactose = []\n",
    "    for ing in ingredients:\n",
    "        if not isinstance(ing, str):\n",
    "            continue\n",
    "        ing_lower = ing.lower()\n",
    "        for keyword in LACTOSE_KEYWORDS:\n",
    "            if re.search(rf'\\b{re.escape(keyword)}(?:s)?\\b', ing_lower):\n",
    "                if not contains_lactose_exception(ing_lower, keyword):\n",
    "                    lactose.append(ing)\n",
    "                break\n",
    "    return lactose\n",
    "\n",
    "# Apply to dataframe\n",
    "df['LACTOSE_FREE'] = df['NER_clean'].apply(classify_lactose_free)\n",
    "df['LACTOSE_INGREDIENTS'] = df['NER_clean'].apply(get_lactose_ingredients)\n",
    "\n",
    "# Show results\n",
    "df[['TITLE', 'NER', 'LACTOSE_FREE', 'LACTOSE_INGREDIENTS']].head(200)"
   ],
   "id": "edb8b565bb49e1cf",
   "outputs": [
    {
     "data": {
      "text/plain": "                                                 TITLE  \\\n0                        Western Sizzlin Bread Pudding   \n1            Creamy Tuna And Bacon Salad (Reduced Fat)   \n2                        Spinach And Mushroom Lasagna    \n3                                     Three-Bean Tacos   \n4                                Hearty Hamburger Soup   \n..                                                 ...   \n195                Sweet Potato Brotchen (Bread Rolls)   \n196  Green Cleaner and Bug Repellant in One (Concen...   \n197                                 Chocolate Chip Pie   \n198                                Poppy Seed Dressing   \n199                                    Scallop Ceviche   \n\n                                                   NER  LACTOSE_FREE  \\\n0    ['eggs', 'milk', 'sugar', 'vanilla', 'gallon w...         False   \n1    ['tuna', 'mayonnaise', 'low-fat sour cream', '...         False   \n2    ['olive oil', 'onion', 'garlic', 'salt', 'grou...         False   \n3    ['olive oil', 'onion', 'red bell pepper', 'gre...         False   \n4    ['lean ground beef', 'white onion', 'ground bl...         False   \n..                                                 ...           ...   \n195  ['sweet potatoes', 'butter', 'salt', 'flour', ...         False   \n196          ['essential oil', 'vodka', 'liquid soap']          True   \n197  ['graham cracker crust', 'marshmallows', 'milk...         False   \n198  ['sugar', 'dry mustard', 'salt', 'vinegar', 'o...          True   \n199  ['scallops', 'Salt', 'ginger', 'garlic', 'stal...          True   \n\n                               LACTOSE_INGREDIENTS  \n0                                           [milk]  \n1                             [low-fat sour cream]  \n2    [ricotta cheese, Parmesan cheese, mozzarella]  \n3                                 [cheddar cheese]  \n4                    [parmesan cheese, sour cream]  \n..                                             ...  \n195                                       [butter]  \n196                                             []  \n197                         [milk, whipping cream]  \n198                                             []  \n199                                             []  \n\n[200 rows x 4 columns]",
      "text/html": "<div>\n<style scoped>\n    .dataframe tbody tr th:only-of-type {\n        vertical-align: middle;\n    }\n\n    .dataframe tbody tr th {\n        vertical-align: top;\n    }\n\n    .dataframe thead th {\n        text-align: right;\n    }\n</style>\n<table border=\"1\" class=\"dataframe\">\n  <thead>\n    <tr style=\"text-align: right;\">\n      <th></th>\n      <th>TITLE</th>\n      <th>NER</th>\n      <th>LACTOSE_FREE</th>\n      <th>LACTOSE_INGREDIENTS</th>\n    </tr>\n  </thead>\n  <tbody>\n    <tr>\n      <th>0</th>\n      <td>Western Sizzlin Bread Pudding</td>\n      <td>['eggs', 'milk', 'sugar', 'vanilla', 'gallon w...</td>\n      <td>False</td>\n      <td>[milk]</td>\n    </tr>\n    <tr>\n      <th>1</th>\n      <td>Creamy Tuna And Bacon Salad (Reduced Fat)</td>\n      <td>['tuna', 'mayonnaise', 'low-fat sour cream', '...</td>\n      <td>False</td>\n      <td>[low-fat sour cream]</td>\n    </tr>\n    <tr>\n      <th>2</th>\n      <td>Spinach And Mushroom Lasagna</td>\n      <td>['olive oil', 'onion', 'garlic', 'salt', 'grou...</td>\n      <td>False</td>\n      <td>[ricotta cheese, Parmesan cheese, mozzarella]</td>\n    </tr>\n    <tr>\n      <th>3</th>\n      <td>Three-Bean Tacos</td>\n      <td>['olive oil', 'onion', 'red bell pepper', 'gre...</td>\n      <td>False</td>\n      <td>[cheddar cheese]</td>\n    </tr>\n    <tr>\n      <th>4</th>\n      <td>Hearty Hamburger Soup</td>\n      <td>['lean ground beef', 'white onion', 'ground bl...</td>\n      <td>False</td>\n      <td>[parmesan cheese, sour cream]</td>\n    </tr>\n    <tr>\n      <th>...</th>\n      <td>...</td>\n      <td>...</td>\n      <td>...</td>\n      <td>...</td>\n    </tr>\n    <tr>\n      <th>195</th>\n      <td>Sweet Potato Brotchen (Bread Rolls)</td>\n      <td>['sweet potatoes', 'butter', 'salt', 'flour', ...</td>\n      <td>False</td>\n      <td>[butter]</td>\n    </tr>\n    <tr>\n      <th>196</th>\n      <td>Green Cleaner and Bug Repellant in One (Concen...</td>\n      <td>['essential oil', 'vodka', 'liquid soap']</td>\n      <td>True</td>\n      <td>[]</td>\n    </tr>\n    <tr>\n      <th>197</th>\n      <td>Chocolate Chip Pie</td>\n      <td>['graham cracker crust', 'marshmallows', 'milk...</td>\n      <td>False</td>\n      <td>[milk, whipping cream]</td>\n    </tr>\n    <tr>\n      <th>198</th>\n      <td>Poppy Seed Dressing</td>\n      <td>['sugar', 'dry mustard', 'salt', 'vinegar', 'o...</td>\n      <td>True</td>\n      <td>[]</td>\n    </tr>\n    <tr>\n      <th>199</th>\n      <td>Scallop Ceviche</td>\n      <td>['scallops', 'Salt', 'ginger', 'garlic', 'stal...</td>\n      <td>True</td>\n      <td>[]</td>\n    </tr>\n  </tbody>\n</table>\n<p>200 rows × 4 columns</p>\n</div>"
     },
     "execution_count": 9,
     "metadata": {},
     "output_type": "execute_result"
    }
   ],
   "execution_count": 9
  },
  {
   "metadata": {},
   "cell_type": "markdown",
   "source": [
    "## 10. Definizione di una funzione in grado di rilevare se la ricetta contiene glutine"
   ],
   "id": "a2e126fdcb71d3f9"
  },
  {
   "metadata": {
    "ExecuteTime": {
     "end_time": "2025-06-25T20:01:59.264817200Z",
     "start_time": "2025-06-25T19:57:35.683362400Z"
    }
   },
   "cell_type": "code",
   "source": [
    "# List of gluten ingredients\n",
    "GLUTEN_KEYWORDS = {\n",
    "    # cereals containing gluten\n",
    "    'wheat', 'barley', 'rye', 'spelt', 'kamut', 'triticale', 'farro', 'einkorn', 'emmer',\n",
    "\n",
    "    # derivatives\n",
    "    'semolina', 'durum', 'graham flour', 'matzo', 'gluten', 'vital wheat gluten',\n",
    "    'hydrolyzed wheat protein', 'wheat starch', 'modified wheat starch',\n",
    "    'malted barley', 'malted milk', 'malt', 'malt extract', 'malt syrup', 'malt vinegar',\n",
    "\n",
    "    # industrial ingredients\n",
    "    'brewer’s yeast', 'brewer yeast', 'yeast extract', 'textured vegetable protein (wheat)',\n",
    "    'vegetable starch (wheat)', 'vegetable gum (wheat)', 'natural flavor (wheat)',\n",
    "    'seasoned flour', 'spice mix (with wheat)',\n",
    "\n",
    "    # common products\n",
    "    'seitan', 'bran', 'bread', 'pasta', 'noodles', 'crackers', 'breadcrumbs', 'biscuit',\n",
    "    'cake flour', 'pastry flour', 'self-rising flour', 'bagel', 'croissant', 'brioche',\n",
    "    'pancake mix', 'waffle mix', 'muffin mix', 'pie crust', 'pizza crust', 'tortilla (wheat)',\n",
    "\n",
    "    # transformed products\n",
    "    'beer', 'ale', 'lager', 'stuffing mix', 'gravy mix', 'roux', 'soups (with pasta/noodles)',\n",
    "    'sauces (with flour)', 'soy sauce', 'teriyaki sauce', 'tempura', 'coating mix', 'breading',\n",
    "\n",
    "    # desserts and snacks\n",
    "    'ladyfinger', 'graham cracker', 'pretzel', 'cereal bar', 'energy bar (with gluten grains)'\n",
    "}\n",
    "\n",
    "# Exceptions for gluten free\n",
    "GLUTEN_EXCEPTIONS = {\n",
    "    'wheat': {'wheatgrass', 'wheat-free tamari'},\n",
    "    'malt': {'maltodextrin (from corn)', 'maltodextrin from corn', 'rice malt', 'corn malt'},\n",
    "    'starch': {\n",
    "        'corn starch', 'potato starch', 'tapioca starch', 'arrowroot starch',\n",
    "        'sago starch', 'rice starch'\n",
    "    },\n",
    "    'flour': {\n",
    "        'almond flour', 'coconut flour', 'chickpea flour', 'rice flour', 'corn flour',\n",
    "        'potato flour', 'soy flour', 'buckwheat flour', 'tapioca flour', 'quinoa flour',\n",
    "        'sorghum flour', 'teff flour', 'millet flour', 'amaranth flour', 'cassava flour',\n",
    "        'oat flour (gluten-free)', 'oat flour gluten-free', 'lentil flour', 'pea flour'\n",
    "    },\n",
    "    'bran': {\n",
    "        'rice bran', 'corn bran', 'oat bran (gluten-free)', 'oat bran gluten-free'\n",
    "    },\n",
    "    'bread': {'gluten-free bread'},\n",
    "    'pasta': {'gluten-free pasta', 'rice pasta', 'quinoa pasta'},\n",
    "    'noodles': {'rice noodles', 'glass noodles', 'sweet potato noodles', 'mung bean noodles'},\n",
    "    'beer': {'gluten-free beer', 'sorghum beer'},\n",
    "    'cracker': {'gluten-free crackers'},\n",
    "    'breadcrumbs': {'gluten-free breadcrumbs', 'crushed cornflakes (GF)'},\n",
    "    'biscuit': {'gluten-free biscuit'},\n",
    "    'soy sauce': {'tamari (gluten-free)', 'gluten-free soy sauce'},\n",
    "    'gravy mix': {'gluten-free gravy'},\n",
    "    'stuffing mix': {'gluten-free stuffing'},\n",
    "    'pizza crust': {'gluten-free pizza crust'},\n",
    "    'cereal bar': {'gluten-free cereal bar'},\n",
    "    'breading': {'gluten-free breading'},\n",
    "    'coating mix': {'gluten-free coating'}\n",
    "}\n",
    "\n",
    "def contains_gluten_exception(ingredient, keyword):\n",
    "    exceptions = GLUTEN_EXCEPTIONS.get(keyword, set())\n",
    "    return any(re.search(rf'\\b{re.escape(ex)}\\b', ingredient, re.IGNORECASE) for ex in exceptions)\n",
    "\n",
    "def classify_gluten_free(ingredients_input):\n",
    "    ingredients = parse_ingredients(ingredients_input)\n",
    "    for ing in ingredients:\n",
    "        if not isinstance(ing, str):\n",
    "            continue\n",
    "        ing_lower = ing.lower()\n",
    "        for keyword in GLUTEN_KEYWORDS:\n",
    "            if re.search(rf'\\b{re.escape(keyword)}(?:s)?\\b', ing_lower):\n",
    "                if not contains_gluten_exception(ing_lower, keyword):\n",
    "                    return False\n",
    "    return True\n",
    "\n",
    "def get_gluten_ingredients(ingredients_input):\n",
    "    ingredients = parse_ingredients(ingredients_input)\n",
    "    gluten = []\n",
    "    for ing in ingredients:\n",
    "        if not isinstance(ing, str):\n",
    "            continue\n",
    "        ing_lower = ing.lower()\n",
    "        for keyword in GLUTEN_KEYWORDS:\n",
    "            if re.search(rf'\\b{re.escape(keyword)}(?:s)?\\b', ing_lower):\n",
    "                if not contains_gluten_exception(ing_lower, keyword):\n",
    "                    gluten.append(ing)\n",
    "                break\n",
    "    return gluten\n",
    "\n",
    "# Apply to dataframe\n",
    "df['GLUTEN_FREE'] = df['NER_clean'].apply(classify_gluten_free)\n",
    "df['GLUTEN_INGREDIENTS'] = df['NER_clean'].apply(get_gluten_ingredients)\n",
    "\n",
    "# Show results\n",
    "df[['TITLE', 'NER', 'GLUTEN_FREE', 'GLUTEN_INGREDIENTS']].head(200)"
   ],
   "id": "932750b9b31960fc",
   "outputs": [
    {
     "data": {
      "text/plain": "                                                 TITLE  \\\n0                        Western Sizzlin Bread Pudding   \n1            Creamy Tuna And Bacon Salad (Reduced Fat)   \n2                        Spinach And Mushroom Lasagna    \n3                                     Three-Bean Tacos   \n4                                Hearty Hamburger Soup   \n..                                                 ...   \n195                Sweet Potato Brotchen (Bread Rolls)   \n196  Green Cleaner and Bug Repellant in One (Concen...   \n197                                 Chocolate Chip Pie   \n198                                Poppy Seed Dressing   \n199                                    Scallop Ceviche   \n\n                                                   NER  GLUTEN_FREE  \\\n0    ['eggs', 'milk', 'sugar', 'vanilla', 'gallon w...         True   \n1    ['tuna', 'mayonnaise', 'low-fat sour cream', '...         True   \n2    ['olive oil', 'onion', 'garlic', 'salt', 'grou...        False   \n3    ['olive oil', 'onion', 'red bell pepper', 'gre...         True   \n4    ['lean ground beef', 'white onion', 'ground bl...        False   \n..                                                 ...          ...   \n195  ['sweet potatoes', 'butter', 'salt', 'flour', ...        False   \n196          ['essential oil', 'vodka', 'liquid soap']         True   \n197  ['graham cracker crust', 'marshmallows', 'milk...        False   \n198  ['sugar', 'dry mustard', 'salt', 'vinegar', 'o...         True   \n199  ['scallops', 'Salt', 'ginger', 'garlic', 'stal...         True   \n\n         GLUTEN_INGREDIENTS  \n0                        []  \n1                        []  \n2         [lasagna noodles]  \n3                        []  \n4               [soy sauce]  \n..                      ...  \n195           [bread flour]  \n196                      []  \n197  [graham cracker crust]  \n198                      []  \n199                      []  \n\n[200 rows x 4 columns]",
      "text/html": "<div>\n<style scoped>\n    .dataframe tbody tr th:only-of-type {\n        vertical-align: middle;\n    }\n\n    .dataframe tbody tr th {\n        vertical-align: top;\n    }\n\n    .dataframe thead th {\n        text-align: right;\n    }\n</style>\n<table border=\"1\" class=\"dataframe\">\n  <thead>\n    <tr style=\"text-align: right;\">\n      <th></th>\n      <th>TITLE</th>\n      <th>NER</th>\n      <th>GLUTEN_FREE</th>\n      <th>GLUTEN_INGREDIENTS</th>\n    </tr>\n  </thead>\n  <tbody>\n    <tr>\n      <th>0</th>\n      <td>Western Sizzlin Bread Pudding</td>\n      <td>['eggs', 'milk', 'sugar', 'vanilla', 'gallon w...</td>\n      <td>True</td>\n      <td>[]</td>\n    </tr>\n    <tr>\n      <th>1</th>\n      <td>Creamy Tuna And Bacon Salad (Reduced Fat)</td>\n      <td>['tuna', 'mayonnaise', 'low-fat sour cream', '...</td>\n      <td>True</td>\n      <td>[]</td>\n    </tr>\n    <tr>\n      <th>2</th>\n      <td>Spinach And Mushroom Lasagna</td>\n      <td>['olive oil', 'onion', 'garlic', 'salt', 'grou...</td>\n      <td>False</td>\n      <td>[lasagna noodles]</td>\n    </tr>\n    <tr>\n      <th>3</th>\n      <td>Three-Bean Tacos</td>\n      <td>['olive oil', 'onion', 'red bell pepper', 'gre...</td>\n      <td>True</td>\n      <td>[]</td>\n    </tr>\n    <tr>\n      <th>4</th>\n      <td>Hearty Hamburger Soup</td>\n      <td>['lean ground beef', 'white onion', 'ground bl...</td>\n      <td>False</td>\n      <td>[soy sauce]</td>\n    </tr>\n    <tr>\n      <th>...</th>\n      <td>...</td>\n      <td>...</td>\n      <td>...</td>\n      <td>...</td>\n    </tr>\n    <tr>\n      <th>195</th>\n      <td>Sweet Potato Brotchen (Bread Rolls)</td>\n      <td>['sweet potatoes', 'butter', 'salt', 'flour', ...</td>\n      <td>False</td>\n      <td>[bread flour]</td>\n    </tr>\n    <tr>\n      <th>196</th>\n      <td>Green Cleaner and Bug Repellant in One (Concen...</td>\n      <td>['essential oil', 'vodka', 'liquid soap']</td>\n      <td>True</td>\n      <td>[]</td>\n    </tr>\n    <tr>\n      <th>197</th>\n      <td>Chocolate Chip Pie</td>\n      <td>['graham cracker crust', 'marshmallows', 'milk...</td>\n      <td>False</td>\n      <td>[graham cracker crust]</td>\n    </tr>\n    <tr>\n      <th>198</th>\n      <td>Poppy Seed Dressing</td>\n      <td>['sugar', 'dry mustard', 'salt', 'vinegar', 'o...</td>\n      <td>True</td>\n      <td>[]</td>\n    </tr>\n    <tr>\n      <th>199</th>\n      <td>Scallop Ceviche</td>\n      <td>['scallops', 'Salt', 'ginger', 'garlic', 'stal...</td>\n      <td>True</td>\n      <td>[]</td>\n    </tr>\n  </tbody>\n</table>\n<p>200 rows × 4 columns</p>\n</div>"
     },
     "execution_count": 10,
     "metadata": {},
     "output_type": "execute_result"
    }
   ],
   "execution_count": 10
  },
  {
   "metadata": {},
   "cell_type": "markdown",
   "source": [
    "## La cella sottostante può essere eseguita solo su computer potenti, e il suo scopo principale è quello di generare la categoria di prezzo della ricetta, e usa un diverso approccio anche per definire altre categorie a cui appartengono le ricette"
   ],
   "id": "9ed949338ed488c9"
  },
  {
   "cell_type": "markdown",
   "source": [
    "Qui inizia la magia:"
   ],
   "metadata": {
    "collapsed": false
   },
   "id": "345918a28f5a9fc0"
  },
  {
   "cell_type": "code",
   "source": [
    "import numpy as np\n",
    "import torch\n",
    "from transformers import pipeline\n",
    "import re\n",
    "from tqdm import tqdm\n",
    "\n",
    "gpu = torch.cuda.get_device_name(0)\n",
    "print(f\"PyTorch version: {torch.__version__}\")\n",
    "print(f\"CUDA available: {torch.cuda.is_available()}\")\n",
    "print(f\"CUDA device count: {torch.cuda.device_count()}\")\n",
    "print(f\"Current device: {torch.cuda.current_device()}\")\n",
    "print(f\"Device name: {gpu}\")\n",
    "\n",
    "# Eseguire questa cella solo se runnata dal Barone\n",
    "if gpu == \"NVIDIA GeForce RTX 3060 Ti\":\n",
    "    classifier = pipeline(\n",
    "        task=\"zero-shot-classification\",\n",
    "        model=\"MoritzLaurer/deberta-v3-base-zeroshot-v1.1-all-33\",\n",
    "        device=0,\n",
    "        torch_dtype=torch.float16,\n",
    "        model_kwargs={\"cache_dir\": \"./cache\"},\n",
    "        batch_size=32,  # Optimal for RTX 3060 Ti\n",
    "        framework=\"pt\"\n",
    "    )\n",
    "    \n",
    "    # %% Data Loading\n",
    "    df['NER'] = df['NER'].apply(eval)  # Convert string lists to actual lists\n",
    "    \n",
    "    # %% Food Categories & Prices (EUR/kg)\n",
    "    CATEGORIES = [\n",
    "        \"dairy\", \"meat\", \"seafood\", \"grain\", \"vegetable\",\n",
    "        \"fruit\", \"spice/herb\", \"processed\", \"sweetener\",\n",
    "        \"condiment\", \"legume\", \"oil/fat\"\n",
    "    ]\n",
    "    \n",
    "    MEDIAN_PRICES = {\n",
    "        \"dairy\": 3.50,       # Milk, cheese\n",
    "        \"meat\": 7.50,        # Chicken, beef\n",
    "        \"seafood\": 12.00,    # Fish, shrimp\n",
    "        \"grain\": 2.20,       # Flour, rice\n",
    "        \"vegetable\": 1.80,   # Onions, garlic\n",
    "        \"fruit\": 2.50,       # Tomatoes, bananas\n",
    "        \"spice/herb\": 18.00, # Vanilla, cinnamon\n",
    "        \"processed\": 4.50,   # Pasta, canned goods\n",
    "        \"sweetener\": 2.20,   # Sugar\n",
    "        \"condiment\": 5.00,   # Mayo, dressings\n",
    "        \"legume\": 3.00,      # Beans, lentils\n",
    "        \"oil/fat\": 8.00      # Olive oil\n",
    "    }\n",
    "    \n",
    "    # %% Ingredient Cleaning (Fixed)\n",
    "    def clean_ingredient(ingredient: str) -> str:\n",
    "        \"\"\"Conservative cleaning preserving ingredient names\"\"\"\n",
    "        # Remove quantities (e.g., \"200g\", \"1/2 cup\")\n",
    "        cleaned = re.sub(r'\\b\\d+[\\d/\\.]*\\s*[a-z]*\\b', '', ingredient, flags=re.IGNORECASE)\n",
    "        # Remove special chars except spaces\n",
    "        cleaned = re.sub(r'[^\\w\\s]', '', cleaned).strip().lower()\n",
    "        return cleaned if cleaned else \"unknown\"\n",
    "    \n",
    "    # %% Batch Classification (GPU-optimized)\n",
    "    classification_cache = {}\n",
    "    \n",
    "    def batch_classify(ingredients: list, batch_size: int = 16) -> dict:  # Reduced batch size\n",
    "        unique_ingredients = list(set(ingredients))\n",
    "    \n",
    "        with torch.no_grad():  # Disable gradient tracking\n",
    "            for batch in tqdm([unique_ingredients[i:i+batch_size]\n",
    "                               for i in range(0, len(unique_ingredients), batch_size)],\n",
    "                              desc=\"Classifying Ingredients\"):\n",
    "                # Process batch on GPU\n",
    "                results = classifier(batch, CATEGORIES, multi_label=False)\n",
    "    \n",
    "                # Cache results\n",
    "                for ing, result in zip(batch, results):\n",
    "                    classification_cache[ing] = result['labels'][0]\n",
    "    \n",
    "                # Clear GPU cache\n",
    "                torch.cuda.empty_cache()\n",
    "    \n",
    "        return classification_cache\n",
    "    \n",
    "    # %% Process Entire Dataset\n",
    "    # Get all unique ingredients\n",
    "    all_ingredients = [clean_ingredient(ing)\n",
    "                       for recipe in df['NER']\n",
    "                       for ing in recipe]\n",
    "    unique_ingredients = list(set(all_ingredients))\n",
    "    \n",
    "    # Batch classify with progress bar\n",
    "    _ = batch_classify(unique_ingredients, batch_size=64)\n",
    "    \n",
    "    # Calculate recipe costs\n",
    "    df['total_cost'] = df['NER'].apply(\n",
    "        lambda x: round(sum(\n",
    "            MEDIAN_PRICES.get(classification_cache[clean_ingredient(ing)], 3.00)\n",
    "            for ing in x\n",
    "        ), 2)\n",
    "    )\n",
    "    \n",
    "    # Dynamic price categorization\n",
    "    costs = df['total_cost'].values\n",
    "    \n",
    "    # threshold per le categorie degli prezzi\n",
    "    very_cheap, cheap, medium, expensive = np.percentile(costs, [20, 40, 60, 85])\n",
    "    \n",
    "    df['price_tag'] = df['total_cost'].apply(\n",
    "        lambda x: 'very cheap' if x <= very_cheap\n",
    "        else 'cheap' if x <= cheap\n",
    "        else 'medium' if x <= medium\n",
    "        else 'expensive' if x <= expensive\n",
    "        else 'rich'\n",
    "    )\n",
    "\n",
    "    def get_categories(ingredient_list):\n",
    "        return [classification_cache.get(ing) for ing in ingredient_list]\n",
    "    \n",
    "    def is_vegan(cat_list):\n",
    "        return all(cat not in ['dairy', 'meat', 'seafood'] for cat in cat_list if cat is not None)\n",
    "    \n",
    "    def is_vegetarian(cat_list):\n",
    "        return all(cat not in ['meat', 'seafood'] for cat in cat_list if cat is not None)\n",
    "    \n",
    "    df['categories'] = df['NER_clean'].apply(get_categories)\n",
    "    df['vegan'] = df['categories'].apply(is_vegan)\n",
    "    df['vegetarian'] = df['categories'].apply(is_vegetarian)\n",
    "    \n",
    "    # Save outputs\n",
    "    df.to_csv('full_tagged_dataset_10%', index=False)"
   ],
   "metadata": {
    "collapsed": false,
    "ExecuteTime": {
     "end_time": "2025-06-25T20:11:51.142401800Z",
     "start_time": "2025-06-25T20:01:59.273338900Z"
    }
   },
   "id": "6c57cbd4e0ba36f6",
   "outputs": [
    {
     "name": "stderr",
     "output_type": "stream",
     "text": [
      "W0625 22:02:54.497000 32916 venv\\Lib\\site-packages\\torch\\distributed\\elastic\\multiprocessing\\redirects.py:29] NOTE: Redirects are currently not supported in Windows or MacOs.\n"
     ]
    },
    {
     "name": "stdout",
     "output_type": "stream",
     "text": [
      "PyTorch version: 2.7.0+cu118\n",
      "CUDA available: True\n",
      "CUDA device count: 1\n",
      "Current device: 0\n",
      "Device name: NVIDIA GeForce RTX 3060 Ti\n"
     ]
    },
    {
     "data": {
      "text/plain": "model.safetensors:   0%|          | 0.00/369M [00:00<?, ?B/s]",
      "application/vnd.jupyter.widget-view+json": {
       "version_major": 2,
       "version_minor": 0,
       "model_id": "4374018396bb4d4087eda75cb2e4c7cf"
      }
     },
     "metadata": {},
     "output_type": "display_data"
    },
    {
     "name": "stderr",
     "output_type": "stream",
     "text": [
      "C:\\Users\\akasa\\PycharmProjects\\FOO\\venv\\Lib\\site-packages\\huggingface_hub\\file_download.py:143: UserWarning: `huggingface_hub` cache-system uses symlinks by default to efficiently store duplicated files but your machine does not support them in C:\\Users\\akasa\\PycharmProjects\\FOO\\TagManager\\mvp_tagging\\cache\\models--MoritzLaurer--deberta-v3-base-zeroshot-v1.1-all-33. Caching files will still work but in a degraded version that might require more space on your disk. This warning can be disabled by setting the `HF_HUB_DISABLE_SYMLINKS_WARNING` environment variable. For more details, see https://huggingface.co/docs/huggingface_hub/how-to-cache#limitations.\n",
      "To support symlinks on Windows, you either need to activate Developer Mode or to run Python as an administrator. In order to activate developer mode, see this article: https://docs.microsoft.com/en-us/windows/apps/get-started/enable-your-device-for-development\n",
      "  warnings.warn(message)\n"
     ]
    },
    {
     "data": {
      "text/plain": "spm.model:   0%|          | 0.00/2.46M [00:00<?, ?B/s]",
      "application/vnd.jupyter.widget-view+json": {
       "version_major": 2,
       "version_minor": 0,
       "model_id": "89655c1a4079420f9a9e185c46b1beae"
      }
     },
     "metadata": {},
     "output_type": "display_data"
    },
    {
     "name": "stderr",
     "output_type": "stream",
     "text": [
      "Device set to use cuda:0\n",
      "Classifying Ingredients:   0%|          | 0/707 [00:00<?, ?it/s]Asking to truncate to max_length but no maximum length is provided and the model has no predefined maximum length. Default to no truncation.\n",
      "Classifying Ingredients:   1%|▏         | 10/707 [00:08<07:55,  1.47it/s]You seem to be using the pipelines sequentially on GPU. In order to maximize efficiency please use a dataset\n",
      "Classifying Ingredients: 100%|██████████| 707/707 [07:50<00:00,  1.50it/s]\n"
     ]
    }
   ],
   "execution_count": 11
  },
  {
   "cell_type": "markdown",
   "source": [
    "Qui la magia finisce :)"
   ],
   "metadata": {
    "collapsed": false
   },
   "id": "eade76ff96b7ad22"
  },
  {
   "metadata": {},
   "cell_type": "markdown",
   "source": [
    "# A partire da questo punto vengono generati i modelli di AI che vengono addestrati sul dataset a cui abbiamo lavorato."
   ],
   "id": "9eaa1016d7994b87"
  },
  {
   "metadata": {},
   "cell_type": "markdown",
   "source": [
    "## Nella cella sottostante vengono definite le funzioni necessarie per la creazione dei modelli"
   ],
   "id": "750c5f6159667e82"
  },
  {
   "metadata": {
    "ExecuteTime": {
     "end_time": "2025-06-25T20:11:51.260329100Z",
     "start_time": "2025-06-25T20:11:51.149403100Z"
    }
   },
   "cell_type": "code",
   "source": [
    "from tensorflow.keras.preprocessing.text import Tokenizer\n",
    "from tensorflow.keras.preprocessing.sequence import pad_sequences\n",
    "from tensorflow.keras.models import Sequential\n",
    "from tensorflow.keras.layers import Embedding, GlobalMaxPooling1D, Dense, Dropout\n",
    "from tensorflow.keras.callbacks import EarlyStopping\n",
    "from sklearn.model_selection import train_test_split\n",
    "from sklearn.preprocessing import LabelEncoder\n",
    "import pickle\n",
    "\n",
    "# Default parameters\n",
    "MAX_LEN = 500\n",
    "NUM_WORDS = 20000\n",
    "BATCH_SIZE = 32\n",
    "EPOCHS = 10\n",
    "\n",
    "# Method to preprocess a dataframe\n",
    "def preprocess(df, text_columns, label_column):\n",
    "    df = df[text_columns + [label_column]].dropna().head(n).copy()\n",
    "    df[text_columns[0]] = df[text_columns[0]].apply(eval)\n",
    "    df[text_columns[1]] = df[text_columns[1]].apply(eval)\n",
    "    df[\"full_text\"] = df[text_columns[0]].apply(lambda x: \" \".join(x)) + \" \" + df[text_columns[1]].apply(lambda x: \" \".join(x))\n",
    "\n",
    "    label_encoder = LabelEncoder()\n",
    "    df[\"encoded_label\"] = label_encoder.fit_transform(df[label_column])\n",
    "\n",
    "    return df, label_encoder\n",
    "\n",
    "# Method to train a classifier\n",
    "def train_text_classifier(df, label_encoder, model_name_prefix, save_dir):\n",
    "    X = df[\"full_text\"]\n",
    "    y = df[\"encoded_label\"]\n",
    "\n",
    "    X_train, X_val, y_train, y_val = train_test_split(X, y, test_size=0.2, stratify=y, random_state=42)\n",
    "\n",
    "    tokenizer = Tokenizer(num_words=NUM_WORDS, oov_token=\"<OOV>\")\n",
    "    tokenizer.fit_on_texts(X_train)\n",
    "\n",
    "    X_train_seq = tokenizer.texts_to_sequences(X_train)\n",
    "    X_val_seq = tokenizer.texts_to_sequences(X_val)\n",
    "\n",
    "    X_train_pad = pad_sequences(X_train_seq, maxlen=MAX_LEN, padding=\"post\", truncating=\"post\")\n",
    "    X_val_pad = pad_sequences(X_val_seq, maxlen=MAX_LEN, padding=\"post\", truncating=\"post\")\n",
    "\n",
    "    model = Sequential([\n",
    "        Embedding(input_dim=NUM_WORDS, output_dim=128, input_length=MAX_LEN),\n",
    "        GlobalMaxPooling1D(),\n",
    "        Dropout(0.3),\n",
    "        Dense(64, activation='relu'),\n",
    "        Dense(len(label_encoder.classes_), activation='softmax')\n",
    "    ])\n",
    "\n",
    "    model.compile(optimizer=\"adam\", loss=\"sparse_categorical_crossentropy\", metrics=[\"accuracy\"])\n",
    "\n",
    "    early_stop = EarlyStopping(monitor='val_loss', patience=3, restore_best_weights=True)\n",
    "\n",
    "    model.fit(\n",
    "        X_train_pad, y_train,\n",
    "        validation_data=(X_val_pad, y_val),\n",
    "        epochs=EPOCHS,\n",
    "        batch_size=BATCH_SIZE,\n",
    "        callbacks=[early_stop]\n",
    "    )\n",
    "\n",
    "    # Save model and encoders\n",
    "    model.save(f\"classifiers/{save_dir}/{model_name_prefix}.h5\")\n",
    "    with open(f\"classifiers/{save_dir}/{model_name_prefix}_label_mapping.pkl\", \"wb\") as f:\n",
    "        pickle.dump(dict(zip(label_encoder.classes_, label_encoder.transform(label_encoder.classes_))), f)\n",
    "\n",
    "    with open(f\"classifiers/{save_dir}/{model_name_prefix}_tokenizer.pkl\", \"wb\") as f:\n",
    "        pickle.dump(tokenizer, f)\n",
    "\n",
    "    print(f\"Modello '{model_name_prefix}' salvato con successo.\")\n",
    "    return model"
   ],
   "id": "4eadebae5851a164",
   "outputs": [],
   "execution_count": 12
  },
  {
   "metadata": {},
   "cell_type": "markdown",
   "source": [
    "# 1. Creazione del modello per la classificazione del tag 'PREPARATION_TIME'"
   ],
   "id": "f22b17441612ef05"
  },
  {
   "cell_type": "code",
   "source": [
    "# === FIRST MODEL: PREPARATION_TIME ===\n",
    "df_time = df[[\"INGREDIENTS\", \"DIRECTIONS\", \"PREPARATION_TIME\"]].copy()\n",
    "df_time, prep_time_encoder = preprocess(df_time, [\"INGREDIENTS\", \"DIRECTIONS\"], \"PREPARATION_TIME\")\n",
    "prep_time_model = train_text_classifier(df_time, prep_time_encoder, model_name_prefix=\"prep_time_classifier\", save_dir=\"prep_time\")"
   ],
   "metadata": {
    "collapsed": false,
    "ExecuteTime": {
     "end_time": "2025-06-25T20:12:23.347309600Z",
     "start_time": "2025-06-25T20:11:51.262328300Z"
    }
   },
   "id": "f4190c03acb0a826",
   "outputs": [
    {
     "name": "stdout",
     "output_type": "stream",
     "text": [
      "Epoch 1/10\n"
     ]
    },
    {
     "name": "stderr",
     "output_type": "stream",
     "text": [
      "C:\\Users\\akasa\\PycharmProjects\\FOO\\venv\\Lib\\site-packages\\keras\\src\\layers\\core\\embedding.py:97: UserWarning: Argument `input_length` is deprecated. Just remove it.\n",
      "  warnings.warn(\n"
     ]
    },
    {
     "name": "stdout",
     "output_type": "stream",
     "text": [
      "\u001B[1m250/250\u001B[0m \u001B[32m━━━━━━━━━━━━━━━━━━━━\u001B[0m\u001B[37m\u001B[0m \u001B[1m4s\u001B[0m 12ms/step - accuracy: 0.3429 - loss: 1.5132 - val_accuracy: 0.5595 - val_loss: 1.1372\n",
      "Epoch 2/10\n",
      "\u001B[1m250/250\u001B[0m \u001B[32m━━━━━━━━━━━━━━━━━━━━\u001B[0m\u001B[37m\u001B[0m \u001B[1m3s\u001B[0m 11ms/step - accuracy: 0.5526 - loss: 1.1195 - val_accuracy: 0.6370 - val_loss: 0.9196\n",
      "Epoch 3/10\n",
      "\u001B[1m250/250\u001B[0m \u001B[32m━━━━━━━━━━━━━━━━━━━━\u001B[0m\u001B[37m\u001B[0m \u001B[1m3s\u001B[0m 13ms/step - accuracy: 0.6423 - loss: 0.9443 - val_accuracy: 0.6615 - val_loss: 0.8431\n",
      "Epoch 4/10\n",
      "\u001B[1m250/250\u001B[0m \u001B[32m━━━━━━━━━━━━━━━━━━━━\u001B[0m\u001B[37m\u001B[0m \u001B[1m3s\u001B[0m 11ms/step - accuracy: 0.6828 - loss: 0.8465 - val_accuracy: 0.6810 - val_loss: 0.8336\n",
      "Epoch 5/10\n",
      "\u001B[1m250/250\u001B[0m \u001B[32m━━━━━━━━━━━━━━━━━━━━\u001B[0m\u001B[37m\u001B[0m \u001B[1m3s\u001B[0m 12ms/step - accuracy: 0.6992 - loss: 0.7995 - val_accuracy: 0.6810 - val_loss: 0.7856\n",
      "Epoch 6/10\n",
      "\u001B[1m250/250\u001B[0m \u001B[32m━━━━━━━━━━━━━━━━━━━━\u001B[0m\u001B[37m\u001B[0m \u001B[1m3s\u001B[0m 12ms/step - accuracy: 0.7279 - loss: 0.7187 - val_accuracy: 0.6900 - val_loss: 0.7861\n",
      "Epoch 7/10\n",
      "\u001B[1m250/250\u001B[0m \u001B[32m━━━━━━━━━━━━━━━━━━━━\u001B[0m\u001B[37m\u001B[0m \u001B[1m3s\u001B[0m 12ms/step - accuracy: 0.7643 - loss: 0.6404 - val_accuracy: 0.6950 - val_loss: 0.7661\n",
      "Epoch 8/10\n",
      "\u001B[1m250/250\u001B[0m \u001B[32m━━━━━━━━━━━━━━━━━━━━\u001B[0m\u001B[37m\u001B[0m \u001B[1m3s\u001B[0m 13ms/step - accuracy: 0.7804 - loss: 0.6100 - val_accuracy: 0.6900 - val_loss: 0.7841\n",
      "Epoch 9/10\n",
      "\u001B[1m250/250\u001B[0m \u001B[32m━━━━━━━━━━━━━━━━━━━━\u001B[0m\u001B[37m\u001B[0m \u001B[1m3s\u001B[0m 12ms/step - accuracy: 0.7959 - loss: 0.5560 - val_accuracy: 0.6990 - val_loss: 0.7736\n",
      "Epoch 10/10\n",
      "\u001B[1m250/250\u001B[0m \u001B[32m━━━━━━━━━━━━━━━━━━━━\u001B[0m\u001B[37m\u001B[0m \u001B[1m3s\u001B[0m 12ms/step - accuracy: 0.8216 - loss: 0.4924 - val_accuracy: 0.6785 - val_loss: 0.8175\n"
     ]
    },
    {
     "name": "stderr",
     "output_type": "stream",
     "text": [
      "WARNING:absl:You are saving your model as an HDF5 file via `model.save()` or `keras.saving.save_model(model)`. This file format is considered legacy. We recommend using instead the native Keras format, e.g. `model.save('my_model.keras')` or `keras.saving.save_model(model, 'my_model.keras')`. \n"
     ]
    },
    {
     "name": "stdout",
     "output_type": "stream",
     "text": [
      "Modello 'prep_time_classifier' salvato con successo.\n"
     ]
    }
   ],
   "execution_count": 13
  },
  {
   "metadata": {},
   "cell_type": "markdown",
   "source": [
    "# 2. Creazione del modello per la classificazione del tag 'DIFFICULTY'"
   ],
   "id": "2b694bd06c7801a0"
  },
  {
   "metadata": {
    "ExecuteTime": {
     "end_time": "2025-06-25T20:12:52.043323Z",
     "start_time": "2025-06-25T20:12:23.350808900Z"
    }
   },
   "cell_type": "code",
   "source": [
    "# === SECOND MODEL: DIFFICULTY ===\n",
    "df_difficulty = df[[\"INGREDIENTS\", \"DIRECTIONS\", \"DIFFICULTY\"]].copy()\n",
    "df_difficulty, difficulty_encoder = preprocess(df_difficulty, [\"INGREDIENTS\", \"DIRECTIONS\"], \"DIFFICULTY\")\n",
    "difficulty_model = train_text_classifier(df_difficulty, difficulty_encoder, model_name_prefix=\"difficulty_classifier\", save_dir=\"difficulty\")"
   ],
   "id": "2c63caf69e9c1eb1",
   "outputs": [
    {
     "name": "stdout",
     "output_type": "stream",
     "text": [
      "Epoch 1/10\n"
     ]
    },
    {
     "name": "stderr",
     "output_type": "stream",
     "text": [
      "C:\\Users\\akasa\\PycharmProjects\\FOO\\venv\\Lib\\site-packages\\keras\\src\\layers\\core\\embedding.py:97: UserWarning: Argument `input_length` is deprecated. Just remove it.\n",
      "  warnings.warn(\n"
     ]
    },
    {
     "name": "stdout",
     "output_type": "stream",
     "text": [
      "\u001B[1m250/250\u001B[0m \u001B[32m━━━━━━━━━━━━━━━━━━━━\u001B[0m\u001B[37m\u001B[0m \u001B[1m4s\u001B[0m 12ms/step - accuracy: 0.5245 - loss: 0.9776 - val_accuracy: 0.6760 - val_loss: 0.7345\n",
      "Epoch 2/10\n",
      "\u001B[1m250/250\u001B[0m \u001B[32m━━━━━━━━━━━━━━━━━━━━\u001B[0m\u001B[37m\u001B[0m \u001B[1m3s\u001B[0m 11ms/step - accuracy: 0.6629 - loss: 0.7274 - val_accuracy: 0.7015 - val_loss: 0.6459\n",
      "Epoch 3/10\n",
      "\u001B[1m250/250\u001B[0m \u001B[32m━━━━━━━━━━━━━━━━━━━━\u001B[0m\u001B[37m\u001B[0m \u001B[1m3s\u001B[0m 12ms/step - accuracy: 0.7178 - loss: 0.6247 - val_accuracy: 0.7265 - val_loss: 0.6062\n",
      "Epoch 4/10\n",
      "\u001B[1m250/250\u001B[0m \u001B[32m━━━━━━━━━━━━━━━━━━━━\u001B[0m\u001B[37m\u001B[0m \u001B[1m3s\u001B[0m 12ms/step - accuracy: 0.7526 - loss: 0.5752 - val_accuracy: 0.7300 - val_loss: 0.6010\n",
      "Epoch 5/10\n",
      "\u001B[1m250/250\u001B[0m \u001B[32m━━━━━━━━━━━━━━━━━━━━\u001B[0m\u001B[37m\u001B[0m \u001B[1m3s\u001B[0m 12ms/step - accuracy: 0.7847 - loss: 0.5201 - val_accuracy: 0.7325 - val_loss: 0.5907\n",
      "Epoch 6/10\n",
      "\u001B[1m250/250\u001B[0m \u001B[32m━━━━━━━━━━━━━━━━━━━━\u001B[0m\u001B[37m\u001B[0m \u001B[1m3s\u001B[0m 12ms/step - accuracy: 0.7979 - loss: 0.4779 - val_accuracy: 0.7305 - val_loss: 0.5904\n",
      "Epoch 7/10\n",
      "\u001B[1m250/250\u001B[0m \u001B[32m━━━━━━━━━━━━━━━━━━━━\u001B[0m\u001B[37m\u001B[0m \u001B[1m3s\u001B[0m 12ms/step - accuracy: 0.8000 - loss: 0.4646 - val_accuracy: 0.7260 - val_loss: 0.6106\n",
      "Epoch 8/10\n",
      "\u001B[1m250/250\u001B[0m \u001B[32m━━━━━━━━━━━━━━━━━━━━\u001B[0m\u001B[37m\u001B[0m \u001B[1m3s\u001B[0m 12ms/step - accuracy: 0.8239 - loss: 0.4343 - val_accuracy: 0.7210 - val_loss: 0.6348\n",
      "Epoch 9/10\n",
      "\u001B[1m250/250\u001B[0m \u001B[32m━━━━━━━━━━━━━━━━━━━━\u001B[0m\u001B[37m\u001B[0m \u001B[1m3s\u001B[0m 12ms/step - accuracy: 0.8321 - loss: 0.3976 - val_accuracy: 0.7170 - val_loss: 0.6322\n"
     ]
    },
    {
     "name": "stderr",
     "output_type": "stream",
     "text": [
      "WARNING:absl:You are saving your model as an HDF5 file via `model.save()` or `keras.saving.save_model(model)`. This file format is considered legacy. We recommend using instead the native Keras format, e.g. `model.save('my_model.keras')` or `keras.saving.save_model(model, 'my_model.keras')`. \n"
     ]
    },
    {
     "name": "stdout",
     "output_type": "stream",
     "text": [
      "Modello 'difficulty_classifier' salvato con successo.\n"
     ]
    }
   ],
   "execution_count": 14
  },
  {
   "metadata": {},
   "cell_type": "markdown",
   "source": [
    "# 3. Creazione del modello per la classificazione del tag 'VEGAN'"
   ],
   "id": "a4918a853d499001"
  },
  {
   "metadata": {
    "ExecuteTime": {
     "end_time": "2025-06-25T20:13:12.700271700Z",
     "start_time": "2025-06-25T20:12:52.038792200Z"
    }
   },
   "cell_type": "code",
   "source": [
    "# === THIRD MODEL: VEGAN ===\n",
    "df_vegan = df[[\"INGREDIENTS\", \"DIRECTIONS\", \"VEGAN\"]].copy()\n",
    "df_vegan, vegan_encoder = preprocess(df_vegan, [\"INGREDIENTS\", \"DIRECTIONS\"], \"VEGAN\")\n",
    "vegan_classifier_model = train_text_classifier(df_vegan, vegan_encoder, model_name_prefix=\"vegan_classifier\", save_dir=\"vegan\")"
   ],
   "id": "a46683e1e4a3fd77",
   "outputs": [
    {
     "name": "stdout",
     "output_type": "stream",
     "text": [
      "Epoch 1/10\n"
     ]
    },
    {
     "name": "stderr",
     "output_type": "stream",
     "text": [
      "C:\\Users\\akasa\\PycharmProjects\\FOO\\venv\\Lib\\site-packages\\keras\\src\\layers\\core\\embedding.py:97: UserWarning: Argument `input_length` is deprecated. Just remove it.\n",
      "  warnings.warn(\n"
     ]
    },
    {
     "name": "stdout",
     "output_type": "stream",
     "text": [
      "\u001B[1m250/250\u001B[0m \u001B[32m━━━━━━━━━━━━━━━━━━━━\u001B[0m\u001B[37m\u001B[0m \u001B[1m4s\u001B[0m 12ms/step - accuracy: 0.8274 - loss: 0.4450 - val_accuracy: 0.9115 - val_loss: 0.2174\n",
      "Epoch 2/10\n",
      "\u001B[1m250/250\u001B[0m \u001B[32m━━━━━━━━━━━━━━━━━━━━\u001B[0m\u001B[37m\u001B[0m \u001B[1m3s\u001B[0m 12ms/step - accuracy: 0.9216 - loss: 0.2075 - val_accuracy: 0.9445 - val_loss: 0.1620\n",
      "Epoch 3/10\n",
      "\u001B[1m250/250\u001B[0m \u001B[32m━━━━━━━━━━━━━━━━━━━━\u001B[0m\u001B[37m\u001B[0m \u001B[1m3s\u001B[0m 12ms/step - accuracy: 0.9518 - loss: 0.1482 - val_accuracy: 0.9485 - val_loss: 0.1560\n",
      "Epoch 4/10\n",
      "\u001B[1m250/250\u001B[0m \u001B[32m━━━━━━━━━━━━━━━━━━━━\u001B[0m\u001B[37m\u001B[0m \u001B[1m3s\u001B[0m 13ms/step - accuracy: 0.9576 - loss: 0.1212 - val_accuracy: 0.9475 - val_loss: 0.1638\n",
      "Epoch 5/10\n",
      "\u001B[1m250/250\u001B[0m \u001B[32m━━━━━━━━━━━━━━━━━━━━\u001B[0m\u001B[37m\u001B[0m \u001B[1m3s\u001B[0m 13ms/step - accuracy: 0.9666 - loss: 0.1067 - val_accuracy: 0.9450 - val_loss: 0.1691\n",
      "Epoch 6/10\n",
      "\u001B[1m250/250\u001B[0m \u001B[32m━━━━━━━━━━━━━━━━━━━━\u001B[0m\u001B[37m\u001B[0m \u001B[1m3s\u001B[0m 12ms/step - accuracy: 0.9699 - loss: 0.0900 - val_accuracy: 0.9460 - val_loss: 0.1733\n"
     ]
    },
    {
     "name": "stderr",
     "output_type": "stream",
     "text": [
      "WARNING:absl:You are saving your model as an HDF5 file via `model.save()` or `keras.saving.save_model(model)`. This file format is considered legacy. We recommend using instead the native Keras format, e.g. `model.save('my_model.keras')` or `keras.saving.save_model(model, 'my_model.keras')`. \n"
     ]
    },
    {
     "name": "stdout",
     "output_type": "stream",
     "text": [
      "Modello 'vegan_classifier' salvato con successo.\n"
     ]
    }
   ],
   "execution_count": 15
  },
  {
   "metadata": {},
   "cell_type": "markdown",
   "source": [
    "# 4. Creazione del modello per la classificazione del tag 'VEGETARIAN'"
   ],
   "id": "35c80420b43a76c3"
  },
  {
   "metadata": {
    "ExecuteTime": {
     "end_time": "2025-06-25T20:13:39.476976400Z",
     "start_time": "2025-06-25T20:13:12.702273200Z"
    }
   },
   "cell_type": "code",
   "source": [
    "# === FOURTH MODEL: VEGETARIAN ===\n",
    "df_vegetarian = df[[\"INGREDIENTS\", \"DIRECTIONS\", \"VEGETARIAN\"]].copy()\n",
    "df_vegetarian, vegetarian_encoder = preprocess(df_vegetarian, [\"INGREDIENTS\", \"DIRECTIONS\"], \"VEGETARIAN\")\n",
    "vegetarian_classifier_model = train_text_classifier(df_vegetarian, vegetarian_encoder, model_name_prefix=\"vegetarian_classifier\", save_dir=\"vegetarian\")"
   ],
   "id": "44472144d51bbbb8",
   "outputs": [
    {
     "name": "stdout",
     "output_type": "stream",
     "text": [
      "Epoch 1/10\n"
     ]
    },
    {
     "name": "stderr",
     "output_type": "stream",
     "text": [
      "C:\\Users\\akasa\\PycharmProjects\\FOO\\venv\\Lib\\site-packages\\keras\\src\\layers\\core\\embedding.py:97: UserWarning: Argument `input_length` is deprecated. Just remove it.\n",
      "  warnings.warn(\n"
     ]
    },
    {
     "name": "stdout",
     "output_type": "stream",
     "text": [
      "\u001B[1m250/250\u001B[0m \u001B[32m━━━━━━━━━━━━━━━━━━━━\u001B[0m\u001B[37m\u001B[0m \u001B[1m4s\u001B[0m 12ms/step - accuracy: 0.7045 - loss: 0.5628 - val_accuracy: 0.9085 - val_loss: 0.2551\n",
      "Epoch 2/10\n",
      "\u001B[1m250/250\u001B[0m \u001B[32m━━━━━━━━━━━━━━━━━━━━\u001B[0m\u001B[37m\u001B[0m \u001B[1m3s\u001B[0m 13ms/step - accuracy: 0.9222 - loss: 0.2177 - val_accuracy: 0.9250 - val_loss: 0.1916\n",
      "Epoch 3/10\n",
      "\u001B[1m250/250\u001B[0m \u001B[32m━━━━━━━━━━━━━━━━━━━━\u001B[0m\u001B[37m\u001B[0m \u001B[1m3s\u001B[0m 13ms/step - accuracy: 0.9493 - loss: 0.1568 - val_accuracy: 0.9435 - val_loss: 0.1773\n",
      "Epoch 4/10\n",
      "\u001B[1m250/250\u001B[0m \u001B[32m━━━━━━━━━━━━━━━━━━━━\u001B[0m\u001B[37m\u001B[0m \u001B[1m3s\u001B[0m 12ms/step - accuracy: 0.9568 - loss: 0.1242 - val_accuracy: 0.9455 - val_loss: 0.1683\n",
      "Epoch 5/10\n",
      "\u001B[1m250/250\u001B[0m \u001B[32m━━━━━━━━━━━━━━━━━━━━\u001B[0m\u001B[37m\u001B[0m \u001B[1m3s\u001B[0m 12ms/step - accuracy: 0.9610 - loss: 0.1097 - val_accuracy: 0.9460 - val_loss: 0.1611\n",
      "Epoch 6/10\n",
      "\u001B[1m250/250\u001B[0m \u001B[32m━━━━━━━━━━━━━━━━━━━━\u001B[0m\u001B[37m\u001B[0m \u001B[1m3s\u001B[0m 13ms/step - accuracy: 0.9655 - loss: 0.0969 - val_accuracy: 0.9450 - val_loss: 0.1658\n",
      "Epoch 7/10\n",
      "\u001B[1m250/250\u001B[0m \u001B[32m━━━━━━━━━━━━━━━━━━━━\u001B[0m\u001B[37m\u001B[0m \u001B[1m3s\u001B[0m 12ms/step - accuracy: 0.9675 - loss: 0.0869 - val_accuracy: 0.9445 - val_loss: 0.1617\n",
      "Epoch 8/10\n",
      "\u001B[1m250/250\u001B[0m \u001B[32m━━━━━━━━━━━━━━━━━━━━\u001B[0m\u001B[37m\u001B[0m \u001B[1m3s\u001B[0m 12ms/step - accuracy: 0.9765 - loss: 0.0712 - val_accuracy: 0.9415 - val_loss: 0.1694\n"
     ]
    },
    {
     "name": "stderr",
     "output_type": "stream",
     "text": [
      "WARNING:absl:You are saving your model as an HDF5 file via `model.save()` or `keras.saving.save_model(model)`. This file format is considered legacy. We recommend using instead the native Keras format, e.g. `model.save('my_model.keras')` or `keras.saving.save_model(model, 'my_model.keras')`. \n"
     ]
    },
    {
     "name": "stdout",
     "output_type": "stream",
     "text": [
      "Modello 'vegetarian_classifier' salvato con successo.\n"
     ]
    }
   ],
   "execution_count": 16
  },
  {
   "metadata": {},
   "cell_type": "markdown",
   "source": [
    "# 5. Creazione del modello per la classificazione del tag 'COOKING_METHOD'"
   ],
   "id": "261721095f30435a"
  },
  {
   "cell_type": "code",
   "source": [
    "# === FIFTH MODEL: METHOD ===\n",
    "df_method = df[[\"INGREDIENTS\", \"DIRECTIONS\", \"COOKING_METHOD\"]].copy()\n",
    "df_method, method_encoder = preprocess(df_method, [\"INGREDIENTS\", \"DIRECTIONS\"], \"COOKING_METHOD\")\n",
    "method_classifier_model = train_text_classifier(df_method, method_encoder, model_name_prefix=\"method_classifier\", save_dir=\"method\")"
   ],
   "metadata": {
    "collapsed": false,
    "ExecuteTime": {
     "end_time": "2025-06-25T20:14:12.484997100Z",
     "start_time": "2025-06-25T20:13:39.475975700Z"
    }
   },
   "id": "7e31b42298771f5d",
   "outputs": [
    {
     "name": "stdout",
     "output_type": "stream",
     "text": [
      "Epoch 1/10\n"
     ]
    },
    {
     "name": "stderr",
     "output_type": "stream",
     "text": [
      "C:\\Users\\akasa\\PycharmProjects\\FOO\\venv\\Lib\\site-packages\\keras\\src\\layers\\core\\embedding.py:97: UserWarning: Argument `input_length` is deprecated. Just remove it.\n",
      "  warnings.warn(\n"
     ]
    },
    {
     "name": "stdout",
     "output_type": "stream",
     "text": [
      "\u001B[1m250/250\u001B[0m \u001B[32m━━━━━━━━━━━━━━━━━━━━\u001B[0m\u001B[37m\u001B[0m \u001B[1m4s\u001B[0m 12ms/step - accuracy: 0.4825 - loss: 1.6768 - val_accuracy: 0.7915 - val_loss: 0.7324\n",
      "Epoch 2/10\n",
      "\u001B[1m250/250\u001B[0m \u001B[32m━━━━━━━━━━━━━━━━━━━━\u001B[0m\u001B[37m\u001B[0m \u001B[1m3s\u001B[0m 12ms/step - accuracy: 0.7975 - loss: 0.6809 - val_accuracy: 0.8575 - val_loss: 0.4852\n",
      "Epoch 3/10\n",
      "\u001B[1m250/250\u001B[0m \u001B[32m━━━━━━━━━━━━━━━━━━━━\u001B[0m\u001B[37m\u001B[0m \u001B[1m3s\u001B[0m 12ms/step - accuracy: 0.8691 - loss: 0.4712 - val_accuracy: 0.9185 - val_loss: 0.3226\n",
      "Epoch 4/10\n",
      "\u001B[1m250/250\u001B[0m \u001B[32m━━━━━━━━━━━━━━━━━━━━\u001B[0m\u001B[37m\u001B[0m \u001B[1m3s\u001B[0m 12ms/step - accuracy: 0.9072 - loss: 0.3410 - val_accuracy: 0.9295 - val_loss: 0.2740\n",
      "Epoch 5/10\n",
      "\u001B[1m250/250\u001B[0m \u001B[32m━━━━━━━━━━━━━━━━━━━━\u001B[0m\u001B[37m\u001B[0m \u001B[1m3s\u001B[0m 13ms/step - accuracy: 0.9135 - loss: 0.3023 - val_accuracy: 0.9350 - val_loss: 0.2383\n",
      "Epoch 6/10\n",
      "\u001B[1m250/250\u001B[0m \u001B[32m━━━━━━━━━━━━━━━━━━━━\u001B[0m\u001B[37m\u001B[0m \u001B[1m3s\u001B[0m 12ms/step - accuracy: 0.9316 - loss: 0.2365 - val_accuracy: 0.9405 - val_loss: 0.2223\n",
      "Epoch 7/10\n",
      "\u001B[1m250/250\u001B[0m \u001B[32m━━━━━━━━━━━━━━━━━━━━\u001B[0m\u001B[37m\u001B[0m \u001B[1m3s\u001B[0m 13ms/step - accuracy: 0.9389 - loss: 0.2025 - val_accuracy: 0.9435 - val_loss: 0.2010\n",
      "Epoch 8/10\n",
      "\u001B[1m250/250\u001B[0m \u001B[32m━━━━━━━━━━━━━━━━━━━━\u001B[0m\u001B[37m\u001B[0m \u001B[1m3s\u001B[0m 12ms/step - accuracy: 0.9437 - loss: 0.1896 - val_accuracy: 0.9485 - val_loss: 0.1945\n",
      "Epoch 9/10\n",
      "\u001B[1m250/250\u001B[0m \u001B[32m━━━━━━━━━━━━━━━━━━━━\u001B[0m\u001B[37m\u001B[0m \u001B[1m3s\u001B[0m 12ms/step - accuracy: 0.9557 - loss: 0.1507 - val_accuracy: 0.9495 - val_loss: 0.1775\n",
      "Epoch 10/10\n",
      "\u001B[1m250/250\u001B[0m \u001B[32m━━━━━━━━━━━━━━━━━━━━\u001B[0m\u001B[37m\u001B[0m \u001B[1m3s\u001B[0m 13ms/step - accuracy: 0.9631 - loss: 0.1306 - val_accuracy: 0.9480 - val_loss: 0.1800\n"
     ]
    },
    {
     "name": "stderr",
     "output_type": "stream",
     "text": [
      "WARNING:absl:You are saving your model as an HDF5 file via `model.save()` or `keras.saving.save_model(model)`. This file format is considered legacy. We recommend using instead the native Keras format, e.g. `model.save('my_model.keras')` or `keras.saving.save_model(model, 'my_model.keras')`. \n"
     ]
    },
    {
     "name": "stdout",
     "output_type": "stream",
     "text": [
      "Modello 'method_classifier' salvato con successo.\n"
     ]
    }
   ],
   "execution_count": 17
  },
  {
   "metadata": {},
   "cell_type": "markdown",
   "source": [
    "# 6. Creazione del modello per la classificazione del tag 'price_tag'"
   ],
   "id": "7f6c9f41b341d99b"
  },
  {
   "metadata": {
    "ExecuteTime": {
     "end_time": "2025-06-25T20:14:46.244542600Z",
     "start_time": "2025-06-25T20:14:12.486997Z"
    }
   },
   "cell_type": "code",
   "source": [
    "# === SIXTH MODEL: price_tag ===\n",
    "df_price = df[[\"INGREDIENTS\", \"DIRECTIONS\", \"price_tag\"]].copy()\n",
    "df_price, price_encoder = preprocess(df_price, [\"INGREDIENTS\", \"DIRECTIONS\"], \"price_tag\")\n",
    "price_model = train_text_classifier(df_price, price_encoder, model_name_prefix=\"price_classifier\", save_dir=\"price\")"
   ],
   "id": "8eba9080102471a3",
   "outputs": [
    {
     "name": "stdout",
     "output_type": "stream",
     "text": [
      "Epoch 1/10\n"
     ]
    },
    {
     "name": "stderr",
     "output_type": "stream",
     "text": [
      "C:\\Users\\akasa\\PycharmProjects\\FOO\\venv\\Lib\\site-packages\\keras\\src\\layers\\core\\embedding.py:97: UserWarning: Argument `input_length` is deprecated. Just remove it.\n",
      "  warnings.warn(\n"
     ]
    },
    {
     "name": "stdout",
     "output_type": "stream",
     "text": [
      "\u001B[1m250/250\u001B[0m \u001B[32m━━━━━━━━━━━━━━━━━━━━\u001B[0m\u001B[37m\u001B[0m \u001B[1m4s\u001B[0m 11ms/step - accuracy: 0.2725 - loss: 1.5683 - val_accuracy: 0.4725 - val_loss: 1.2728\n",
      "Epoch 2/10\n",
      "\u001B[1m250/250\u001B[0m \u001B[32m━━━━━━━━━━━━━━━━━━━━\u001B[0m\u001B[37m\u001B[0m \u001B[1m3s\u001B[0m 12ms/step - accuracy: 0.4566 - loss: 1.2308 - val_accuracy: 0.5520 - val_loss: 1.0548\n",
      "Epoch 3/10\n",
      "\u001B[1m250/250\u001B[0m \u001B[32m━━━━━━━━━━━━━━━━━━━━\u001B[0m\u001B[37m\u001B[0m \u001B[1m3s\u001B[0m 12ms/step - accuracy: 0.5216 - loss: 1.0718 - val_accuracy: 0.5810 - val_loss: 0.9784\n",
      "Epoch 4/10\n",
      "\u001B[1m250/250\u001B[0m \u001B[32m━━━━━━━━━━━━━━━━━━━━\u001B[0m\u001B[37m\u001B[0m \u001B[1m3s\u001B[0m 12ms/step - accuracy: 0.5517 - loss: 1.0094 - val_accuracy: 0.6035 - val_loss: 0.9434\n",
      "Epoch 5/10\n",
      "\u001B[1m250/250\u001B[0m \u001B[32m━━━━━━━━━━━━━━━━━━━━\u001B[0m\u001B[37m\u001B[0m \u001B[1m3s\u001B[0m 12ms/step - accuracy: 0.5909 - loss: 0.9347 - val_accuracy: 0.6115 - val_loss: 0.9134\n",
      "Epoch 6/10\n",
      "\u001B[1m250/250\u001B[0m \u001B[32m━━━━━━━━━━━━━━━━━━━━\u001B[0m\u001B[37m\u001B[0m \u001B[1m3s\u001B[0m 13ms/step - accuracy: 0.6096 - loss: 0.9032 - val_accuracy: 0.6090 - val_loss: 0.9042\n",
      "Epoch 7/10\n",
      "\u001B[1m250/250\u001B[0m \u001B[32m━━━━━━━━━━━━━━━━━━━━\u001B[0m\u001B[37m\u001B[0m \u001B[1m3s\u001B[0m 14ms/step - accuracy: 0.6343 - loss: 0.8642 - val_accuracy: 0.6160 - val_loss: 0.8968\n",
      "Epoch 8/10\n",
      "\u001B[1m250/250\u001B[0m \u001B[32m━━━━━━━━━━━━━━━━━━━━\u001B[0m\u001B[37m\u001B[0m \u001B[1m3s\u001B[0m 11ms/step - accuracy: 0.6453 - loss: 0.8376 - val_accuracy: 0.6205 - val_loss: 0.8941\n",
      "Epoch 9/10\n",
      "\u001B[1m250/250\u001B[0m \u001B[32m━━━━━━━━━━━━━━━━━━━━\u001B[0m\u001B[37m\u001B[0m \u001B[1m3s\u001B[0m 14ms/step - accuracy: 0.6653 - loss: 0.8066 - val_accuracy: 0.6135 - val_loss: 0.9038\n",
      "Epoch 10/10\n",
      "\u001B[1m250/250\u001B[0m \u001B[32m━━━━━━━━━━━━━━━━━━━━\u001B[0m\u001B[37m\u001B[0m \u001B[1m3s\u001B[0m 11ms/step - accuracy: 0.6738 - loss: 0.7774 - val_accuracy: 0.6060 - val_loss: 0.9086\n"
     ]
    },
    {
     "name": "stderr",
     "output_type": "stream",
     "text": [
      "WARNING:absl:You are saving your model as an HDF5 file via `model.save()` or `keras.saving.save_model(model)`. This file format is considered legacy. We recommend using instead the native Keras format, e.g. `model.save('my_model.keras')` or `keras.saving.save_model(model, 'my_model.keras')`. \n"
     ]
    },
    {
     "name": "stdout",
     "output_type": "stream",
     "text": [
      "Modello 'price_classifier' salvato con successo.\n"
     ]
    }
   ],
   "execution_count": 18
  },
  {
   "metadata": {},
   "cell_type": "markdown",
   "source": [
    "# 7. Creazione del modello per la classificazione del tag 'LACTOSE_FREE'"
   ],
   "id": "215d763d5bea7189"
  },
  {
   "metadata": {
    "ExecuteTime": {
     "end_time": "2025-06-25T20:15:17.067258300Z",
     "start_time": "2025-06-25T20:14:46.244542600Z"
    }
   },
   "cell_type": "code",
   "source": [
    "# === SEVENTH MODEL: LACTOSE_FREE ===\n",
    "df_lactose = df[[\"INGREDIENTS\", \"DIRECTIONS\", \"LACTOSE_FREE\"]].copy()\n",
    "df_lactose, lactose_free_encoder = preprocess(df_lactose, [\"INGREDIENTS\", \"DIRECTIONS\"], \"LACTOSE_FREE\")\n",
    "lactose_free_classifier_model = train_text_classifier(df_lactose, lactose_free_encoder, model_name_prefix=\"lactose_free_classifier\", save_dir=\"lactose_free\")"
   ],
   "id": "7c2fa2525478b9cc",
   "outputs": [
    {
     "name": "stdout",
     "output_type": "stream",
     "text": [
      "Epoch 1/10\n"
     ]
    },
    {
     "name": "stderr",
     "output_type": "stream",
     "text": [
      "C:\\Users\\akasa\\PycharmProjects\\FOO\\venv\\Lib\\site-packages\\keras\\src\\layers\\core\\embedding.py:97: UserWarning: Argument `input_length` is deprecated. Just remove it.\n",
      "  warnings.warn(\n"
     ]
    },
    {
     "name": "stdout",
     "output_type": "stream",
     "text": [
      "\u001B[1m250/250\u001B[0m \u001B[32m━━━━━━━━━━━━━━━━━━━━\u001B[0m\u001B[37m\u001B[0m \u001B[1m4s\u001B[0m 11ms/step - accuracy: 0.7058 - loss: 0.5418 - val_accuracy: 0.9425 - val_loss: 0.1991\n",
      "Epoch 2/10\n",
      "\u001B[1m250/250\u001B[0m \u001B[32m━━━━━━━━━━━━━━━━━━━━\u001B[0m\u001B[37m\u001B[0m \u001B[1m3s\u001B[0m 13ms/step - accuracy: 0.9267 - loss: 0.2255 - val_accuracy: 0.9505 - val_loss: 0.1587\n",
      "Epoch 3/10\n",
      "\u001B[1m250/250\u001B[0m \u001B[32m━━━━━━━━━━━━━━━━━━━━\u001B[0m\u001B[37m\u001B[0m \u001B[1m3s\u001B[0m 12ms/step - accuracy: 0.9430 - loss: 0.1768 - val_accuracy: 0.9550 - val_loss: 0.1468\n",
      "Epoch 4/10\n",
      "\u001B[1m250/250\u001B[0m \u001B[32m━━━━━━━━━━━━━━━━━━━━\u001B[0m\u001B[37m\u001B[0m \u001B[1m3s\u001B[0m 14ms/step - accuracy: 0.9481 - loss: 0.1571 - val_accuracy: 0.9575 - val_loss: 0.1392\n",
      "Epoch 5/10\n",
      "\u001B[1m250/250\u001B[0m \u001B[32m━━━━━━━━━━━━━━━━━━━━\u001B[0m\u001B[37m\u001B[0m \u001B[1m3s\u001B[0m 12ms/step - accuracy: 0.9578 - loss: 0.1280 - val_accuracy: 0.9600 - val_loss: 0.1374\n",
      "Epoch 6/10\n",
      "\u001B[1m250/250\u001B[0m \u001B[32m━━━━━━━━━━━━━━━━━━━━\u001B[0m\u001B[37m\u001B[0m \u001B[1m3s\u001B[0m 12ms/step - accuracy: 0.9494 - loss: 0.1416 - val_accuracy: 0.9580 - val_loss: 0.1346\n",
      "Epoch 7/10\n",
      "\u001B[1m250/250\u001B[0m \u001B[32m━━━━━━━━━━━━━━━━━━━━\u001B[0m\u001B[37m\u001B[0m \u001B[1m3s\u001B[0m 13ms/step - accuracy: 0.9608 - loss: 0.1205 - val_accuracy: 0.9565 - val_loss: 0.1382\n",
      "Epoch 8/10\n",
      "\u001B[1m250/250\u001B[0m \u001B[32m━━━━━━━━━━━━━━━━━━━━\u001B[0m\u001B[37m\u001B[0m \u001B[1m3s\u001B[0m 14ms/step - accuracy: 0.9670 - loss: 0.0970 - val_accuracy: 0.9515 - val_loss: 0.1379\n",
      "Epoch 9/10\n",
      "\u001B[1m250/250\u001B[0m \u001B[32m━━━━━━━━━━━━━━━━━━━━\u001B[0m\u001B[37m\u001B[0m \u001B[1m3s\u001B[0m 12ms/step - accuracy: 0.9720 - loss: 0.0837 - val_accuracy: 0.9520 - val_loss: 0.1410\n"
     ]
    },
    {
     "name": "stderr",
     "output_type": "stream",
     "text": [
      "WARNING:absl:You are saving your model as an HDF5 file via `model.save()` or `keras.saving.save_model(model)`. This file format is considered legacy. We recommend using instead the native Keras format, e.g. `model.save('my_model.keras')` or `keras.saving.save_model(model, 'my_model.keras')`. \n"
     ]
    },
    {
     "name": "stdout",
     "output_type": "stream",
     "text": [
      "Modello 'lactose_free_classifier' salvato con successo.\n"
     ]
    }
   ],
   "execution_count": 19
  },
  {
   "metadata": {},
   "cell_type": "markdown",
   "source": [
    "# 8. Creazione del modello per la classificazione del tag 'GLUTEN_FREE'"
   ],
   "id": "79c3e6ac48068a43"
  },
  {
   "metadata": {
    "ExecuteTime": {
     "end_time": "2025-06-25T20:15:42.525138200Z",
     "start_time": "2025-06-25T20:15:17.066258900Z"
    }
   },
   "cell_type": "code",
   "source": [
    "# === EIGHTH MODEL: GLUTEN_FREE ===\n",
    "df_gluten = df[[\"INGREDIENTS\", \"DIRECTIONS\", \"GLUTEN_FREE\"]].copy()\n",
    "df_gluten, gluten_free_encoder = preprocess(df_gluten, [\"INGREDIENTS\", \"DIRECTIONS\"], \"GLUTEN_FREE\")\n",
    "gluten_free_classifier_model = train_text_classifier(df_gluten, gluten_free_encoder, model_name_prefix=\"gluten_free_classifier\", save_dir=\"gluten_free\")"
   ],
   "id": "1439c245b01ef91c",
   "outputs": [
    {
     "name": "stdout",
     "output_type": "stream",
     "text": [
      "Epoch 1/10\n"
     ]
    },
    {
     "name": "stderr",
     "output_type": "stream",
     "text": [
      "C:\\Users\\akasa\\PycharmProjects\\FOO\\venv\\Lib\\site-packages\\keras\\src\\layers\\core\\embedding.py:97: UserWarning: Argument `input_length` is deprecated. Just remove it.\n",
      "  warnings.warn(\n"
     ]
    },
    {
     "name": "stdout",
     "output_type": "stream",
     "text": [
      "\u001B[1m250/250\u001B[0m \u001B[32m━━━━━━━━━━━━━━━━━━━━\u001B[0m\u001B[37m\u001B[0m \u001B[1m4s\u001B[0m 12ms/step - accuracy: 0.7992 - loss: 0.5100 - val_accuracy: 0.8965 - val_loss: 0.2794\n",
      "Epoch 2/10\n",
      "\u001B[1m250/250\u001B[0m \u001B[32m━━━━━━━━━━━━━━━━━━━━\u001B[0m\u001B[37m\u001B[0m \u001B[1m3s\u001B[0m 13ms/step - accuracy: 0.8893 - loss: 0.2722 - val_accuracy: 0.9130 - val_loss: 0.2043\n",
      "Epoch 3/10\n",
      "\u001B[1m250/250\u001B[0m \u001B[32m━━━━━━━━━━━━━━━━━━━━\u001B[0m\u001B[37m\u001B[0m \u001B[1m3s\u001B[0m 13ms/step - accuracy: 0.9121 - loss: 0.2087 - val_accuracy: 0.9150 - val_loss: 0.1902\n",
      "Epoch 4/10\n",
      "\u001B[1m250/250\u001B[0m \u001B[32m━━━━━━━━━━━━━━━━━━━━\u001B[0m\u001B[37m\u001B[0m \u001B[1m3s\u001B[0m 12ms/step - accuracy: 0.9304 - loss: 0.1704 - val_accuracy: 0.9170 - val_loss: 0.1849\n",
      "Epoch 5/10\n",
      "\u001B[1m250/250\u001B[0m \u001B[32m━━━━━━━━━━━━━━━━━━━━\u001B[0m\u001B[37m\u001B[0m \u001B[1m3s\u001B[0m 12ms/step - accuracy: 0.9288 - loss: 0.1656 - val_accuracy: 0.9150 - val_loss: 0.2014\n",
      "Epoch 6/10\n",
      "\u001B[1m250/250\u001B[0m \u001B[32m━━━━━━━━━━━━━━━━━━━━\u001B[0m\u001B[37m\u001B[0m \u001B[1m3s\u001B[0m 13ms/step - accuracy: 0.9443 - loss: 0.1386 - val_accuracy: 0.9170 - val_loss: 0.1924\n",
      "Epoch 7/10\n",
      "\u001B[1m250/250\u001B[0m \u001B[32m━━━━━━━━━━━━━━━━━━━━\u001B[0m\u001B[37m\u001B[0m \u001B[1m3s\u001B[0m 14ms/step - accuracy: 0.9439 - loss: 0.1269 - val_accuracy: 0.9200 - val_loss: 0.1884\n"
     ]
    },
    {
     "name": "stderr",
     "output_type": "stream",
     "text": [
      "WARNING:absl:You are saving your model as an HDF5 file via `model.save()` or `keras.saving.save_model(model)`. This file format is considered legacy. We recommend using instead the native Keras format, e.g. `model.save('my_model.keras')` or `keras.saving.save_model(model, 'my_model.keras')`. \n"
     ]
    },
    {
     "name": "stdout",
     "output_type": "stream",
     "text": [
      "Modello 'gluten_free_classifier' salvato con successo.\n"
     ]
    }
   ],
   "execution_count": 20
  },
  {
   "metadata": {},
   "cell_type": "markdown",
   "source": [
    "## In questa cella vengono definite delle funzioni per effettuare un testing dei modelli realizzati"
   ],
   "id": "f20ca14de7be1368"
  },
  {
   "metadata": {
    "ExecuteTime": {
     "end_time": "2025-06-25T20:15:42.537182100Z",
     "start_time": "2025-06-25T20:15:42.524136300Z"
    }
   },
   "cell_type": "code",
   "source": [
    "from tensorflow.keras.models import load_model\n",
    "from tensorflow.keras.preprocessing.sequence import pad_sequences\n",
    "import pickle\n",
    "\n",
    "MAX_LEN = 500  # Must match training\n",
    "\n",
    "# --- Load model and tokenizer ---\n",
    "def load_model_components(model_dir, model_name_prefix):\n",
    "    model = load_model(f\"{model_dir}/{model_name_prefix}.h5\")\n",
    "\n",
    "    with open(f\"{model_dir}/{model_name_prefix}_tokenizer.pkl\", \"rb\") as f:\n",
    "        tokenizer = pickle.load(f)\n",
    "\n",
    "    with open(f\"{model_dir}/{model_name_prefix}_label_mapping.pkl\", \"rb\") as f:\n",
    "        label_map = pickle.load(f)\n",
    "\n",
    "    # Reverse dictionaries to decode predictions\n",
    "    inv_label_map = {v: k for k, v in label_map.items()}\n",
    "    return model, tokenizer, inv_label_map\n",
    "\n",
    "def predict_and_print(recipes, model, tokenizer, inv_label_map, expected_key, prediction_label):\n",
    "    # Prepare input texts for models (ingredients + instructions)\n",
    "    texts = [r[\"ingredients\"] + \" \" + r[\"instructions\"] for r in recipes]\n",
    "    # Tokenize and padding\n",
    "    sequences = tokenizer.texts_to_sequences(texts)\n",
    "    padded = pad_sequences(sequences, maxlen=MAX_LEN, padding='post', truncating='post')\n",
    "\n",
    "    # Predicting with probabilities\n",
    "    preds = model.predict(padded)\n",
    "    pred_classes = preds.argmax(axis=1)\n",
    "    pred_labels = [inv_label_map[c] for c in pred_classes]\n",
    "\n",
    "    # Printing results\n",
    "    for i, recipe in enumerate(recipes):\n",
    "        print(f\"Recipe {i+1}:\")\n",
    "        print(f\"  Expected {prediction_label}: {recipe[expected_key]}\")\n",
    "        print(f\"  Predicted {prediction_label}: {pred_labels[i]}\")\n",
    "        probs_str = \", \".join([f\"{inv_label_map[j]}: {preds[i][j]*100:.2f}%\" for j in range(len(preds[i]))])\n",
    "        print(f\"  {prediction_label} probabilities: {probs_str}\\n\")"
   ],
   "id": "3c32f5fdd40674cd",
   "outputs": [],
   "execution_count": 21
  },
  {
   "metadata": {},
   "cell_type": "markdown",
   "source": [
    "## 1. Testing del modello per la predizione del tempo di preparazione"
   ],
   "id": "f0fd58411a20216c"
  },
  {
   "metadata": {
    "ExecuteTime": {
     "end_time": "2025-06-25T20:15:42.755676300Z",
     "start_time": "2025-06-25T20:15:42.538181200Z"
    }
   },
   "cell_type": "code",
   "source": [
    "# List of 10 recipes with expected time\n",
    "prep_time_recipes = [\n",
    "    {\n",
    "        \"ingredients\": \"200g spaghetti, 2 cloves garlic, chili pepper, extra virgin olive oil, salt\",\n",
    "        \"instructions\": \"Cook the spaghetti. Meanwhile, sauté garlic and chili in the oil. Mix with the pasta.\",\n",
    "        \"expected_time\": \"15 min\"\n",
    "    },\n",
    "    {\n",
    "        \"ingredients\": \"Lettuce, 1 can of tuna, tomatoes, black olives, onion, olive oil, salt\",\n",
    "        \"instructions\": \"Wash and cut the vegetables. Add the drained tuna and olives. Dress with oil and salt.\",\n",
    "        \"expected_time\": \"10 min\"\n",
    "    },\n",
    "    {\n",
    "        \"ingredients\": \"300g Carnaroli rice, 1 saffron sachet, vegetable broth, butter, onion, Parmesan cheese\",\n",
    "        \"instructions\": \"Sauté the onion, add rice and deglaze with wine. Gradually pour in the broth. Add saffron and stir in butter and cheese.\",\n",
    "        \"expected_time\": \"30 min\"\n",
    "    },\n",
    "    {\n",
    "        \"ingredients\": \"3 eggs, salt, pepper, butter\",\n",
    "        \"instructions\": \"Beat the eggs with salt and pepper. Pour into a pan with melted butter and stir until set.\",\n",
    "        \"expected_time\": \"5 min\"\n",
    "    },\n",
    "    {\n",
    "        \"ingredients\": \"Lasagna sheets, meat sauce, béchamel, Parmesan cheese\",\n",
    "        \"instructions\": \"Layer pasta, sauce, béchamel and cheese. Bake at 180°C for 40 minutes.\",\n",
    "        \"expected_time\": \"60 min\"\n",
    "    },\n",
    "    {\n",
    "        \"ingredients\": \"Apples, bananas, oranges, strawberries, lemon juice, sugar\",\n",
    "        \"instructions\": \"Cut the fruit into pieces, mix with lemon juice and sugar, refrigerate.\",\n",
    "        \"expected_time\": \"10 min\"\n",
    "    },\n",
    "    {\n",
    "        \"ingredients\": \"Chicken breast, onion, curry powder, cream or coconut milk, oil, salt\",\n",
    "        \"instructions\": \"Brown the onion, add diced chicken, curry, and cream. Cook until the chicken is tender.\",\n",
    "        \"expected_time\": \"25 min\"\n",
    "    },\n",
    "    {\n",
    "        \"ingredients\": \"Ladyfingers, mascarpone, eggs, sugar, coffee, cocoa powder\",\n",
    "        \"instructions\": \"Make a cream with yolks, sugar and mascarpone. Layer ladyfingers soaked in coffee and the cream. Dust with cocoa and chill.\",\n",
    "        \"expected_time\": \"30 min\"\n",
    "    },\n",
    "    {\n",
    "        \"ingredients\": \"2 eggs, 250ml milk, 125g flour, sugar, butter\",\n",
    "        \"instructions\": \"Mix flour, eggs and milk into a batter. Cook in pan with butter. Fill as desired.\",\n",
    "        \"expected_time\": \"20 min\"\n",
    "    },\n",
    "    {\n",
    "        \"ingredients\": \"Mixed dried legumes, onion, carrot, celery, vegetable broth, oil, salt\",\n",
    "        \"instructions\": \"Soak legumes for 12 hours. Sauté onion, carrot, celery. Add legumes and broth and cook for at least an hour.\",\n",
    "        \"expected_time\": \"90 min\"\n",
    "    }\n",
    "]\n",
    "\n",
    "prep_model, prep_tokenizer, inv_prep_map = load_model_components(\"classifiers/prep_time\", \"prep_time_classifier\")\n",
    "predict_and_print(prep_time_recipes, prep_model, prep_tokenizer, inv_prep_map, expected_key=\"expected_time\", prediction_label=\"Preparation time\")"
   ],
   "id": "af735b2c66a8bcbf",
   "outputs": [
    {
     "name": "stderr",
     "output_type": "stream",
     "text": [
      "WARNING:absl:Compiled the loaded model, but the compiled metrics have yet to be built. `model.compile_metrics` will be empty until you train or evaluate the model.\n"
     ]
    },
    {
     "name": "stdout",
     "output_type": "stream",
     "text": [
      "\u001B[1m1/1\u001B[0m \u001B[32m━━━━━━━━━━━━━━━━━━━━\u001B[0m\u001B[37m\u001B[0m \u001B[1m0s\u001B[0m 66ms/step\n",
      "Recipe 1:\n",
      "  Expected Preparation time: 15 min\n",
      "  Predicted Preparation time: Fast (10-20 mins)\n",
      "  Preparation time probabilities: Fast (10-20 mins): 42.55%, Medium (20-40 mins): 33.58%, Slow (40-90 mins): 4.06%, Very fast (0-10 mins): 18.01%, Very slow (90+ mins): 1.80%\n",
      "\n",
      "Recipe 2:\n",
      "  Expected Preparation time: 10 min\n",
      "  Predicted Preparation time: Fast (10-20 mins)\n",
      "  Preparation time probabilities: Fast (10-20 mins): 53.10%, Medium (20-40 mins): 38.93%, Slow (40-90 mins): 1.10%, Very fast (0-10 mins): 6.63%, Very slow (90+ mins): 0.25%\n",
      "\n",
      "Recipe 3:\n",
      "  Expected Preparation time: 30 min\n",
      "  Predicted Preparation time: Medium (20-40 mins)\n",
      "  Preparation time probabilities: Fast (10-20 mins): 17.03%, Medium (20-40 mins): 55.27%, Slow (40-90 mins): 14.93%, Very fast (0-10 mins): 9.61%, Very slow (90+ mins): 3.15%\n",
      "\n",
      "Recipe 4:\n",
      "  Expected Preparation time: 5 min\n",
      "  Predicted Preparation time: Medium (20-40 mins)\n",
      "  Preparation time probabilities: Fast (10-20 mins): 9.12%, Medium (20-40 mins): 66.99%, Slow (40-90 mins): 13.75%, Very fast (0-10 mins): 9.68%, Very slow (90+ mins): 0.46%\n",
      "\n",
      "Recipe 5:\n",
      "  Expected Preparation time: 60 min\n",
      "  Predicted Preparation time: Slow (40-90 mins)\n",
      "  Preparation time probabilities: Fast (10-20 mins): 2.12%, Medium (20-40 mins): 0.94%, Slow (40-90 mins): 84.69%, Very fast (0-10 mins): 0.30%, Very slow (90+ mins): 11.96%\n",
      "\n",
      "Recipe 6:\n",
      "  Expected Preparation time: 10 min\n",
      "  Predicted Preparation time: Fast (10-20 mins)\n",
      "  Preparation time probabilities: Fast (10-20 mins): 87.55%, Medium (20-40 mins): 7.51%, Slow (40-90 mins): 2.17%, Very fast (0-10 mins): 2.57%, Very slow (90+ mins): 0.20%\n",
      "\n",
      "Recipe 7:\n",
      "  Expected Preparation time: 25 min\n",
      "  Predicted Preparation time: Medium (20-40 mins)\n",
      "  Preparation time probabilities: Fast (10-20 mins): 8.47%, Medium (20-40 mins): 81.19%, Slow (40-90 mins): 2.81%, Very fast (0-10 mins): 7.29%, Very slow (90+ mins): 0.24%\n",
      "\n",
      "Recipe 8:\n",
      "  Expected Preparation time: 30 min\n",
      "  Predicted Preparation time: Medium (20-40 mins)\n",
      "  Preparation time probabilities: Fast (10-20 mins): 4.18%, Medium (20-40 mins): 79.58%, Slow (40-90 mins): 6.59%, Very fast (0-10 mins): 9.16%, Very slow (90+ mins): 0.50%\n",
      "\n",
      "Recipe 9:\n",
      "  Expected Preparation time: 20 min\n",
      "  Predicted Preparation time: Medium (20-40 mins)\n",
      "  Preparation time probabilities: Fast (10-20 mins): 16.74%, Medium (20-40 mins): 54.89%, Slow (40-90 mins): 7.93%, Very fast (0-10 mins): 18.79%, Very slow (90+ mins): 1.65%\n",
      "\n",
      "Recipe 10:\n",
      "  Expected Preparation time: 90 min\n",
      "  Predicted Preparation time: Very slow (90+ mins)\n",
      "  Preparation time probabilities: Fast (10-20 mins): 0.06%, Medium (20-40 mins): 0.49%, Slow (40-90 mins): 9.72%, Very fast (0-10 mins): 0.10%, Very slow (90+ mins): 89.64%\n"
     ]
    }
   ],
   "execution_count": 22
  },
  {
   "metadata": {},
   "cell_type": "markdown",
   "source": [
    "## 2. Testing del modello per la predizione della difficoltà"
   ],
   "id": "6b64b77353b427db"
  },
  {
   "metadata": {
    "ExecuteTime": {
     "end_time": "2025-06-25T20:15:42.926387600Z",
     "start_time": "2025-06-25T20:15:42.760185700Z"
    }
   },
   "cell_type": "code",
   "source": [
    "# List of 10 recipes with expected difficulty\n",
    "difficulty_recipes = [\n",
    "    {\n",
    "        \"ingredients\": \"Eggs, salt, pepper\",\n",
    "        \"instructions\": \"Beat eggs with salt and pepper. Cook in a pan over medium heat until set.\",\n",
    "        \"expected_difficulty\": \"Easy\"\n",
    "    },\n",
    "    {\n",
    "        \"ingredients\": \"Chicken breast, olive oil, garlic, lemon juice, herbs\",\n",
    "        \"instructions\": \"Marinate chicken with garlic, lemon juice, and herbs. Grill until cooked.\",\n",
    "        \"expected_difficulty\": \"Easy\"\n",
    "    },\n",
    "    {\n",
    "        \"ingredients\": \"Potatoes, butter, milk, salt, pepper\",\n",
    "        \"instructions\": \"Boil potatoes until tender. Mash with butter and milk. Season with salt and pepper.\",\n",
    "        \"expected_difficulty\": \"Easy\"\n",
    "    },\n",
    "    {\n",
    "        \"ingredients\": \"Pasta, tomato sauce, garlic, onion, basil, olive oil\",\n",
    "        \"instructions\": \"Sauté garlic and onion in olive oil. Add tomato sauce and basil. Cook pasta and mix with sauce.\",\n",
    "        \"expected_difficulty\": \"Medium\"\n",
    "    },\n",
    "    {\n",
    "        \"ingredients\": \"Beef stew meat, carrots, potatoes, onion, beef broth, red wine, garlic\",\n",
    "        \"instructions\": \"Brown beef in a pot. Add vegetables, broth, and wine. Simmer for 2 hours until tender.\",\n",
    "        \"expected_difficulty\": \"Medium\"\n",
    "    },\n",
    "    {\n",
    "        \"ingredients\": \"Salmon fillets, soy sauce, ginger, garlic, honey, sesame oil\",\n",
    "        \"instructions\": \"Marinate salmon with soy sauce, ginger, garlic, honey, and sesame oil. Bake at 180°C for 15 minutes.\",\n",
    "        \"expected_difficulty\": \"Medium\"\n",
    "    },\n",
    "    {\n",
    "        \"ingredients\": \"Duck breast, orange juice, honey, thyme, butter\",\n",
    "        \"instructions\": \"Score duck skin and sear in pan. Prepare orange sauce with juice, honey, and thyme. Finish cooking duck and glaze with sauce.\",\n",
    "        \"expected_difficulty\": \"Hard\"\n",
    "    },\n",
    "    {\n",
    "        \"ingredients\": \"Lamb shank, rosemary, garlic, red wine, beef broth, carrots, onions\",\n",
    "        \"instructions\": \"Brown lamb shanks. Add vegetables, broth, and wine. Slow cook in oven at 150°C for 3 hours until tender.\",\n",
    "        \"expected_difficulty\": \"Hard\"\n",
    "    },\n",
    "    {\n",
    "        \"ingredients\": \"Chocolate, eggs, sugar, butter, flour, cream, gelatin, vanilla bean\",\n",
    "        \"instructions\": \"Melt chocolate and butter. Whisk eggs and sugar. Fold ingredients, bake in water bath at 160°C for 45 minutes. Cool and refrigerate overnight.\",\n",
    "        \"expected_difficulty\": \"Hard\"\n",
    "    },\n",
    "    {\n",
    "        \"ingredients\": \"Scallops, bacon, garlic, lemon, parsley, white wine\",\n",
    "        \"instructions\": \"Wrap scallops with bacon and sear. Make sauce with garlic, lemon, parsley, and white wine. Serve scallops with sauce.\",\n",
    "        \"expected_difficulty\": \"Hard\"\n",
    "    }\n",
    "]\n",
    "\n",
    "diff_model, diff_tokenizer, inv_diff_map = load_model_components(\"classifiers/difficulty\", \"difficulty_classifier\")\n",
    "predict_and_print(difficulty_recipes, diff_model, diff_tokenizer, inv_diff_map, expected_key=\"expected_difficulty\", prediction_label=\"Difficulty\")"
   ],
   "id": "90d9250cc482332d",
   "outputs": [
    {
     "name": "stderr",
     "output_type": "stream",
     "text": [
      "WARNING:absl:Compiled the loaded model, but the compiled metrics have yet to be built. `model.compile_metrics` will be empty until you train or evaluate the model.\n"
     ]
    },
    {
     "name": "stdout",
     "output_type": "stream",
     "text": [
      "\u001B[1m1/1\u001B[0m \u001B[32m━━━━━━━━━━━━━━━━━━━━\u001B[0m\u001B[37m\u001B[0m \u001B[1m0s\u001B[0m 55ms/step\n",
      "Recipe 1:\n",
      "  Expected Difficulty: Easy\n",
      "  Predicted Difficulty: Easy\n",
      "  Difficulty probabilities: Easy: 95.33%, Hard: 0.01%, Medium: 4.66%\n",
      "\n",
      "Recipe 2:\n",
      "  Expected Difficulty: Easy\n",
      "  Predicted Difficulty: Easy\n",
      "  Difficulty probabilities: Easy: 89.61%, Hard: 0.07%, Medium: 10.32%\n",
      "\n",
      "Recipe 3:\n",
      "  Expected Difficulty: Easy\n",
      "  Predicted Difficulty: Easy\n",
      "  Difficulty probabilities: Easy: 70.38%, Hard: 0.23%, Medium: 29.39%\n",
      "\n",
      "Recipe 4:\n",
      "  Expected Difficulty: Medium\n",
      "  Predicted Difficulty: Easy\n",
      "  Difficulty probabilities: Easy: 89.58%, Hard: 0.05%, Medium: 10.37%\n",
      "\n",
      "Recipe 5:\n",
      "  Expected Difficulty: Medium\n",
      "  Predicted Difficulty: Medium\n",
      "  Difficulty probabilities: Easy: 40.91%, Hard: 0.35%, Medium: 58.74%\n",
      "\n",
      "Recipe 6:\n",
      "  Expected Difficulty: Medium\n",
      "  Predicted Difficulty: Easy\n",
      "  Difficulty probabilities: Easy: 72.00%, Hard: 0.36%, Medium: 27.64%\n",
      "\n",
      "Recipe 7:\n",
      "  Expected Difficulty: Hard\n",
      "  Predicted Difficulty: Easy\n",
      "  Difficulty probabilities: Easy: 73.58%, Hard: 3.98%, Medium: 22.44%\n",
      "\n",
      "Recipe 8:\n",
      "  Expected Difficulty: Hard\n",
      "  Predicted Difficulty: Medium\n",
      "  Difficulty probabilities: Easy: 19.51%, Hard: 3.52%, Medium: 76.97%\n",
      "\n",
      "Recipe 9:\n",
      "  Expected Difficulty: Hard\n",
      "  Predicted Difficulty: Hard\n",
      "  Difficulty probabilities: Easy: 0.02%, Hard: 55.57%, Medium: 44.41%\n",
      "\n",
      "Recipe 10:\n",
      "  Expected Difficulty: Hard\n",
      "  Predicted Difficulty: Easy\n",
      "  Difficulty probabilities: Easy: 86.03%, Hard: 0.34%, Medium: 13.63%\n"
     ]
    }
   ],
   "execution_count": 23
  },
  {
   "metadata": {},
   "cell_type": "markdown",
   "source": [
    "## 3. Testing del modello per la classificazione vegana"
   ],
   "id": "bc99a0a128d4088c"
  },
  {
   "metadata": {
    "ExecuteTime": {
     "end_time": "2025-06-25T20:15:43.112034600Z",
     "start_time": "2025-06-25T20:15:42.925385100Z"
    }
   },
   "cell_type": "code",
   "source": [
    "# List of 10 recipes with expected vegan\n",
    "vegan_recipes = [\n",
    "    {\n",
    "        \"ingredients\": \"200g spaghetti, 2 cloves garlic, chili pepper, extra virgin olive oil, salt\",\n",
    "        \"instructions\": \"Cook the spaghetti. Meanwhile, sauté garlic and chili in the oil. Mix with the pasta.\",\n",
    "        \"expected_vegan\": True\n",
    "    },\n",
    "    {\n",
    "        \"ingredients\": \"Lettuce, 1 can of tuna, tomatoes, black olives, onion, olive oil, salt\",\n",
    "        \"instructions\": \"Wash and cut the vegetables. Add the drained tuna and olives. Dress with oil and salt.\",\n",
    "        \"expected_vegan\": False\n",
    "    },\n",
    "    {\n",
    "        \"ingredients\": \"300g Carnaroli rice, 1 saffron sachet, vegetable broth, butter, onion, Parmesan cheese\",\n",
    "        \"instructions\": \"Sauté the onion, add rice and deglaze with wine. Gradually pour in the broth. Add saffron and stir in butter and cheese.\",\n",
    "        \"expected_vegan\": False\n",
    "    },\n",
    "    {\n",
    "        \"ingredients\": \"3 eggs, salt, pepper, butter\",\n",
    "        \"instructions\": \"Beat the eggs with salt and pepper. Pour into a pan with melted butter and stir until set.\",\n",
    "        \"expected_vegan\": False\n",
    "    },\n",
    "    {\n",
    "        \"ingredients\": \"Lasagna sheets, meat sauce, béchamel, Parmesan cheese\",\n",
    "        \"instructions\": \"Layer pasta, sauce, béchamel and cheese. Bake at 180°C for 40 minutes.\",\n",
    "        \"expected_vegan\": False\n",
    "    },\n",
    "    {\n",
    "        \"ingredients\": \"Apples, bananas, oranges, strawberries, lemon juice, sugar\",\n",
    "        \"instructions\": \"Cut the fruit into pieces, mix with lemon juice and sugar, refrigerate.\",\n",
    "        \"expected_vegan\": True\n",
    "    },\n",
    "    {\n",
    "        \"ingredients\": \"Chicken breast, onion, curry powder, cream or coconut milk, oil, salt\",\n",
    "        \"instructions\": \"Brown the onion, add diced chicken, curry, and cream. Cook until the chicken is tender.\",\n",
    "        \"expected_vegan\": False\n",
    "    },\n",
    "    {\n",
    "        \"ingredients\": \"Ladyfingers, mascarpone, eggs, sugar, coffee, cocoa powder\",\n",
    "        \"instructions\": \"Make a cream with yolks, sugar and mascarpone. Layer ladyfingers soaked in coffee and the cream. Dust with cocoa and chill.\",\n",
    "        \"expected_vegan\": False\n",
    "    },\n",
    "    {\n",
    "        \"ingredients\": \"2 eggs, 250ml milk, 125g flour, sugar, butter\",\n",
    "        \"instructions\": \"Mix flour, eggs and milk into a batter. Cook in pan with butter. Fill as desired.\",\n",
    "        \"expected_vegan\": False\n",
    "    },\n",
    "    {\n",
    "        \"ingredients\": \"Mixed dried legumes, onion, carrot, celery, vegetable broth, oil, salt\",\n",
    "        \"instructions\": \"Soak legumes for 12 hours. Sauté onion, carrot, celery. Add legumes and broth and cook for at least an hour.\",\n",
    "        \"expected_vegan\": True\n",
    "    }\n",
    "]\n",
    "\n",
    "vegan_model, vegan_tokenizer, inv_vegan_map = load_model_components(\"classifiers/vegan\", \"vegan_classifier\")\n",
    "predict_and_print(vegan_recipes, vegan_model, vegan_tokenizer, inv_vegan_map, expected_key=\"expected_vegan\", prediction_label=\"Vegan\")"
   ],
   "id": "769f552ee94f3139",
   "outputs": [
    {
     "name": "stderr",
     "output_type": "stream",
     "text": [
      "WARNING:absl:Compiled the loaded model, but the compiled metrics have yet to be built. `model.compile_metrics` will be empty until you train or evaluate the model.\n"
     ]
    },
    {
     "name": "stdout",
     "output_type": "stream",
     "text": [
      "\u001B[1m1/1\u001B[0m \u001B[32m━━━━━━━━━━━━━━━━━━━━\u001B[0m\u001B[37m\u001B[0m \u001B[1m0s\u001B[0m 57ms/step\n",
      "Recipe 1:\n",
      "  Expected Vegan: True\n",
      "  Predicted Vegan: True\n",
      "  Vegan probabilities: False: 11.71%, True: 88.29%\n",
      "\n",
      "Recipe 2:\n",
      "  Expected Vegan: False\n",
      "  Predicted Vegan: True\n",
      "  Vegan probabilities: False: 28.38%, True: 71.62%\n",
      "\n",
      "Recipe 3:\n",
      "  Expected Vegan: False\n",
      "  Predicted Vegan: False\n",
      "  Vegan probabilities: False: 99.80%, True: 0.20%\n",
      "\n",
      "Recipe 4:\n",
      "  Expected Vegan: False\n",
      "  Predicted Vegan: False\n",
      "  Vegan probabilities: False: 99.99%, True: 0.01%\n",
      "\n",
      "Recipe 5:\n",
      "  Expected Vegan: False\n",
      "  Predicted Vegan: False\n",
      "  Vegan probabilities: False: 99.56%, True: 0.44%\n",
      "\n",
      "Recipe 6:\n",
      "  Expected Vegan: True\n",
      "  Predicted Vegan: True\n",
      "  Vegan probabilities: False: 5.80%, True: 94.20%\n",
      "\n",
      "Recipe 7:\n",
      "  Expected Vegan: False\n",
      "  Predicted Vegan: False\n",
      "  Vegan probabilities: False: 99.94%, True: 0.06%\n",
      "\n",
      "Recipe 8:\n",
      "  Expected Vegan: False\n",
      "  Predicted Vegan: False\n",
      "  Vegan probabilities: False: 99.99%, True: 0.01%\n",
      "\n",
      "Recipe 9:\n",
      "  Expected Vegan: False\n",
      "  Predicted Vegan: False\n",
      "  Vegan probabilities: False: 99.99%, True: 0.01%\n",
      "\n",
      "Recipe 10:\n",
      "  Expected Vegan: True\n",
      "  Predicted Vegan: True\n",
      "  Vegan probabilities: False: 26.81%, True: 73.19%\n"
     ]
    }
   ],
   "execution_count": 24
  },
  {
   "metadata": {},
   "cell_type": "markdown",
   "source": [
    "## 4. Testing del modello per la classificazione vegetariana"
   ],
   "id": "1f81a28b73afabc4"
  },
  {
   "metadata": {
    "ExecuteTime": {
     "end_time": "2025-06-25T20:15:43.241965Z",
     "start_time": "2025-06-25T20:15:43.090988400Z"
    }
   },
   "cell_type": "code",
   "source": [
    "# List of 10 recipes with expected vegetarian\n",
    "vegetarian_recipes = [\n",
    "    {\n",
    "        \"ingredients\": \"200g spaghetti, 2 cloves garlic, chili pepper, extra virgin olive oil, salt\",\n",
    "        \"instructions\": \"Cook the spaghetti. Meanwhile, sauté garlic and chili in the oil. Mix with the pasta.\",\n",
    "        \"expected_vegetarian\": True\n",
    "    },\n",
    "    {\n",
    "        \"ingredients\": \"Lettuce, 1 can of tuna, tomatoes, black olives, onion, olive oil, salt\",\n",
    "        \"instructions\": \"Wash and cut the vegetables. Add the drained tuna and olives. Dress with oil and salt.\",\n",
    "        \"expected_vegetarian\": False  # Tuna = non vegetarian\n",
    "    },\n",
    "    {\n",
    "        \"ingredients\": \"300g Carnaroli rice, 1 saffron sachet, vegetable broth, butter, onion, Parmesan cheese\",\n",
    "        \"instructions\": \"Sauté the onion, add rice and deglaze with wine. Gradually pour in the broth. Add saffron and stir in butter and cheese.\",\n",
    "        \"expected_vegetarian\": True\n",
    "    },\n",
    "    {\n",
    "        \"ingredients\": \"3 eggs, salt, pepper, butter\",\n",
    "        \"instructions\": \"Beat the eggs with salt and pepper. Pour into a pan with melted butter and stir until set.\",\n",
    "        \"expected_vegetarian\": True\n",
    "    },\n",
    "    {\n",
    "        \"ingredients\": \"Lasagna sheets, meat sauce, béchamel, Parmesan cheese\",\n",
    "        \"instructions\": \"Layer pasta, sauce, béchamel and cheese. Bake at 180°C for 40 minutes.\",\n",
    "        \"expected_vegetarian\": False  # Meat sauce = non vegetarian\n",
    "    },\n",
    "    {\n",
    "        \"ingredients\": \"Apples, bananas, oranges, strawberries, lemon juice, sugar\",\n",
    "        \"instructions\": \"Cut the fruit into pieces, mix with lemon juice and sugar, refrigerate.\",\n",
    "        \"expected_vegetarian\": True\n",
    "    },\n",
    "    {\n",
    "        \"ingredients\": \"Chicken breast, onion, curry powder, cream or coconut milk, oil, salt\",\n",
    "        \"instructions\": \"Brown the onion, add diced chicken, curry, and cream. Cook until the chicken is tender.\",\n",
    "        \"expected_vegetarian\": False  # Chicken = non vegetarian\n",
    "    },\n",
    "    {\n",
    "        \"ingredients\": \"Ladyfingers, mascarpone, eggs, sugar, coffee, cocoa powder\",\n",
    "        \"instructions\": \"Make a cream with yolks, sugar and mascarpone. Layer ladyfingers soaked in coffee and the cream. Dust with cocoa and chill.\",\n",
    "        \"expected_vegetarian\": True\n",
    "    },\n",
    "    {\n",
    "        \"ingredients\": \"2 eggs, 250ml milk, 125g flour, sugar, butter\",\n",
    "        \"instructions\": \"Mix flour, eggs and milk into a batter. Cook in pan with butter. Fill as desired.\",\n",
    "        \"expected_vegetarian\": True\n",
    "    },\n",
    "    {\n",
    "        \"ingredients\": \"Mixed dried legumes, onion, carrot, celery, vegetable broth, oil, salt\",\n",
    "        \"instructions\": \"Soak legumes for 12 hours. Sauté onion, carrot, celery. Add legumes and broth and cook for at least an hour.\",\n",
    "        \"expected_vegetarian\": True\n",
    "    }\n",
    "]\n",
    "\n",
    "vegetarian_model, vegetarian_tokenizer, inv_vegetarian_map = load_model_components(\"classifiers/vegetarian\", \"vegetarian_classifier\")\n",
    "predict_and_print(vegetarian_recipes, vegetarian_model, vegetarian_tokenizer, inv_vegetarian_map, expected_key=\"expected_vegetarian\", prediction_label=\"Vegetarian\")"
   ],
   "id": "2540cd0e230f1ff4",
   "outputs": [
    {
     "name": "stderr",
     "output_type": "stream",
     "text": [
      "WARNING:absl:Compiled the loaded model, but the compiled metrics have yet to be built. `model.compile_metrics` will be empty until you train or evaluate the model.\n"
     ]
    },
    {
     "name": "stdout",
     "output_type": "stream",
     "text": [
      "\u001B[1m1/1\u001B[0m \u001B[32m━━━━━━━━━━━━━━━━━━━━\u001B[0m\u001B[37m\u001B[0m \u001B[1m0s\u001B[0m 51ms/step\n",
      "Recipe 1:\n",
      "  Expected Vegetarian: True\n",
      "  Predicted Vegetarian: True\n",
      "  Vegetarian probabilities: False: 3.91%, True: 96.09%\n",
      "\n",
      "Recipe 2:\n",
      "  Expected Vegetarian: False\n",
      "  Predicted Vegetarian: False\n",
      "  Vegetarian probabilities: False: 64.04%, True: 35.96%\n",
      "\n",
      "Recipe 3:\n",
      "  Expected Vegetarian: True\n",
      "  Predicted Vegetarian: True\n",
      "  Vegetarian probabilities: False: 26.93%, True: 73.07%\n",
      "\n",
      "Recipe 4:\n",
      "  Expected Vegetarian: True\n",
      "  Predicted Vegetarian: True\n",
      "  Vegetarian probabilities: False: 0.22%, True: 99.78%\n",
      "\n",
      "Recipe 5:\n",
      "  Expected Vegetarian: False\n",
      "  Predicted Vegetarian: True\n",
      "  Vegetarian probabilities: False: 46.33%, True: 53.67%\n",
      "\n",
      "Recipe 6:\n",
      "  Expected Vegetarian: True\n",
      "  Predicted Vegetarian: True\n",
      "  Vegetarian probabilities: False: 0.02%, True: 99.98%\n",
      "\n",
      "Recipe 7:\n",
      "  Expected Vegetarian: False\n",
      "  Predicted Vegetarian: False\n",
      "  Vegetarian probabilities: False: 84.85%, True: 15.15%\n",
      "\n",
      "Recipe 8:\n",
      "  Expected Vegetarian: True\n",
      "  Predicted Vegetarian: True\n",
      "  Vegetarian probabilities: False: 0.13%, True: 99.87%\n",
      "\n",
      "Recipe 9:\n",
      "  Expected Vegetarian: True\n",
      "  Predicted Vegetarian: True\n",
      "  Vegetarian probabilities: False: 1.00%, True: 99.00%\n",
      "\n",
      "Recipe 10:\n",
      "  Expected Vegetarian: True\n",
      "  Predicted Vegetarian: True\n",
      "  Vegetarian probabilities: False: 42.93%, True: 57.07%\n"
     ]
    }
   ],
   "execution_count": 25
  },
  {
   "metadata": {},
   "cell_type": "markdown",
   "source": [
    "## 5. Testing del modello per la predizione del metodo di preparazione"
   ],
   "id": "e4f1ea35f2c40684"
  },
  {
   "metadata": {
    "ExecuteTime": {
     "end_time": "2025-06-25T20:15:43.438103Z",
     "start_time": "2025-06-25T20:15:43.243964400Z"
    }
   },
   "cell_type": "code",
   "source": [
    "# List of 10 recipes with expected method\n",
    "method_recipes = [\n",
    "    {\n",
    "        \"ingredients\": \"500g potatoes, olive oil, rosemary, salt\",\n",
    "        \"instructions\": \"Peel and cut the potatoes into chunks. Toss with olive oil and rosemary. Cook in oven at 200°C for 45 minutes.\",\n",
    "        \"expected_method\": \"Roasted\"\n",
    "    },\n",
    "    {\n",
    "        \"ingredients\": \"200g spaghetti, salt, water\",\n",
    "        \"instructions\": \"Boil water in a large pot, add salt and cook the spaghetti until al dente.\",\n",
    "        \"expected_method\": \"Boiled\"\n",
    "    },\n",
    "    {\n",
    "        \"ingredients\": \"2 chicken breasts, olive oil, herbs, salt\",\n",
    "        \"instructions\": \"Brush chicken with oil and herbs. Cook on a preheated grill for 6 minutes per side.\",\n",
    "        \"expected_method\": \"Grilled\"\n",
    "    },\n",
    "    {\n",
    "        \"ingredients\": \"4 eggs, butter, salt, pepper\",\n",
    "        \"instructions\": \"Heat butter in a pan. Crack eggs in and fry until edges are crispy.\",\n",
    "        \"expected_method\": \"Fried\"\n",
    "    },\n",
    "    {\n",
    "        \"ingredients\": \"1 salmon fillet, lemon juice, herbs, salt\",\n",
    "        \"instructions\": \"Place salmon in a baking dish, season, and bake at 180°C for 20 minutes.\",\n",
    "        \"expected_method\": \"Baked\"\n",
    "    },\n",
    "    {\n",
    "        \"ingredients\": \"Broccoli, carrots, zucchini, salt\",\n",
    "        \"instructions\": \"Wash and cut vegetables. Eat raw or season with salt and olive oil.\",\n",
    "        \"expected_method\": \"Raw\"\n",
    "    },\n",
    "    {\n",
    "        \"ingredients\": \"Beef steak, salt, pepper, olive oil\",\n",
    "        \"instructions\": \"Season steak and place under a broiler for 5–7 minutes on each side.\",\n",
    "        \"expected_method\": \"Broil\"\n",
    "    },\n",
    "    {\n",
    "        \"ingredients\": \"1 cauliflower, salt, oil, paprika\",\n",
    "        \"instructions\": \"Cut cauliflower into florets. Toss with oil and paprika. Roast in oven at 220°C for 30 minutes.\",\n",
    "        \"expected_method\": \"Roasted\"\n",
    "    },\n",
    "    {\n",
    "        \"ingredients\": \"Rice, water, salt\",\n",
    "        \"instructions\": \"Rinse the rice and boil in salted water for 15 minutes.\",\n",
    "        \"expected_method\": \"Boiled\"\n",
    "    },\n",
    "    {\n",
    "        \"ingredients\": \"1 can chickpeas, tahini, lemon juice, garlic, olive oil\",\n",
    "        \"instructions\": \"Blend all ingredients in a food processor until smooth. Serve as is.\",\n",
    "        \"expected_method\": \"Other\"  # Nessuna cottura classica, solo preparazione a crudo e frullatura\n",
    "    }\n",
    "]\n",
    "\n",
    "method_model, method_tokenizer, inv_method_map = load_model_components(\"classifiers/method\", \"method_classifier\")\n",
    "predict_and_print(method_recipes, method_model, method_tokenizer, inv_method_map, expected_key=\"expected_method\", prediction_label=\"Cooking method\")"
   ],
   "id": "66ca6d77b63999e",
   "outputs": [
    {
     "name": "stderr",
     "output_type": "stream",
     "text": [
      "WARNING:absl:Compiled the loaded model, but the compiled metrics have yet to be built. `model.compile_metrics` will be empty until you train or evaluate the model.\n"
     ]
    },
    {
     "name": "stdout",
     "output_type": "stream",
     "text": [
      "WARNING:tensorflow:5 out of the last 5 calls to <function TensorFlowTrainer.make_predict_function.<locals>.one_step_on_data_distributed at 0x0000027C052EB6A0> triggered tf.function retracing. Tracing is expensive and the excessive number of tracings could be due to (1) creating @tf.function repeatedly in a loop, (2) passing tensors with different shapes, (3) passing Python objects instead of tensors. For (1), please define your @tf.function outside of the loop. For (2), @tf.function has reduce_retracing=True option that can avoid unnecessary retracing. For (3), please refer to https://www.tensorflow.org/guide/function#controlling_retracing and https://www.tensorflow.org/api_docs/python/tf/function for  more details.\n"
     ]
    },
    {
     "name": "stderr",
     "output_type": "stream",
     "text": [
      "WARNING:tensorflow:5 out of the last 5 calls to <function TensorFlowTrainer.make_predict_function.<locals>.one_step_on_data_distributed at 0x0000027C052EB6A0> triggered tf.function retracing. Tracing is expensive and the excessive number of tracings could be due to (1) creating @tf.function repeatedly in a loop, (2) passing tensors with different shapes, (3) passing Python objects instead of tensors. For (1), please define your @tf.function outside of the loop. For (2), @tf.function has reduce_retracing=True option that can avoid unnecessary retracing. For (3), please refer to https://www.tensorflow.org/guide/function#controlling_retracing and https://www.tensorflow.org/api_docs/python/tf/function for  more details.\n"
     ]
    },
    {
     "name": "stdout",
     "output_type": "stream",
     "text": [
      "\u001B[1m1/1\u001B[0m \u001B[32m━━━━━━━━━━━━━━━━━━━━\u001B[0m\u001B[37m\u001B[0m \u001B[1m0s\u001B[0m 74ms/step\n",
      "Recipe 1:\n",
      "  Expected Cooking method: Roasted\n",
      "  Predicted Cooking method: Other\n",
      "  Cooking method probabilities: Baked: 4.49%, Blended: 0.41%, Boiled: 0.39%, Broil: 2.02%, Fried: 3.48%, Grilled: 2.72%, Microwaved: 0.64%, Other: 64.84%, Pressure Cooked: 0.80%, Raw: 1.62%, Roasted: 8.93%, Slow Cooking: 3.21%, Steamed: 1.38%, Toasted: 5.06%\n",
      "\n",
      "Recipe 2:\n",
      "  Expected Cooking method: Boiled\n",
      "  Predicted Cooking method: Boiled\n",
      "  Cooking method probabilities: Baked: 0.15%, Blended: 0.00%, Boiled: 99.83%, Broil: 0.00%, Fried: 0.00%, Grilled: 0.00%, Microwaved: 0.00%, Other: 0.00%, Pressure Cooked: 0.00%, Raw: 0.00%, Roasted: 0.00%, Slow Cooking: 0.00%, Steamed: 0.01%, Toasted: 0.00%\n",
      "\n",
      "Recipe 3:\n",
      "  Expected Cooking method: Grilled\n",
      "  Predicted Cooking method: Grilled\n",
      "  Cooking method probabilities: Baked: 0.11%, Blended: 0.01%, Boiled: 0.04%, Broil: 1.37%, Fried: 2.37%, Grilled: 94.46%, Microwaved: 0.37%, Other: 0.03%, Pressure Cooked: 0.03%, Raw: 0.04%, Roasted: 0.32%, Slow Cooking: 0.47%, Steamed: 0.19%, Toasted: 0.17%\n",
      "\n",
      "Recipe 4:\n",
      "  Expected Cooking method: Fried\n",
      "  Predicted Cooking method: Fried\n",
      "  Cooking method probabilities: Baked: 0.06%, Blended: 0.03%, Boiled: 0.40%, Broil: 0.13%, Fried: 98.97%, Grilled: 0.02%, Microwaved: 0.01%, Other: 0.04%, Pressure Cooked: 0.01%, Raw: 0.03%, Roasted: 0.03%, Slow Cooking: 0.05%, Steamed: 0.01%, Toasted: 0.20%\n",
      "\n",
      "Recipe 5:\n",
      "  Expected Cooking method: Baked\n",
      "  Predicted Cooking method: Baked\n",
      "  Cooking method probabilities: Baked: 100.00%, Blended: 0.00%, Boiled: 0.00%, Broil: 0.00%, Fried: 0.00%, Grilled: 0.00%, Microwaved: 0.00%, Other: 0.00%, Pressure Cooked: 0.00%, Raw: 0.00%, Roasted: 0.00%, Slow Cooking: 0.00%, Steamed: 0.00%, Toasted: 0.00%\n",
      "\n",
      "Recipe 6:\n",
      "  Expected Cooking method: Raw\n",
      "  Predicted Cooking method: Other\n",
      "  Cooking method probabilities: Baked: 0.06%, Blended: 5.38%, Boiled: 0.89%, Broil: 0.32%, Fried: 1.86%, Grilled: 2.07%, Microwaved: 1.58%, Other: 77.74%, Pressure Cooked: 0.68%, Raw: 2.57%, Roasted: 1.39%, Slow Cooking: 1.92%, Steamed: 1.36%, Toasted: 2.18%\n",
      "\n",
      "Recipe 7:\n",
      "  Expected Cooking method: Broil\n",
      "  Predicted Cooking method: Broil\n",
      "  Cooking method probabilities: Baked: 3.23%, Blended: 1.08%, Boiled: 1.12%, Broil: 68.15%, Fried: 6.94%, Grilled: 2.82%, Microwaved: 0.29%, Other: 0.30%, Pressure Cooked: 0.99%, Raw: 0.94%, Roasted: 7.66%, Slow Cooking: 2.57%, Steamed: 2.47%, Toasted: 1.45%\n",
      "\n",
      "Recipe 8:\n",
      "  Expected Cooking method: Roasted\n",
      "  Predicted Cooking method: Roasted\n",
      "  Cooking method probabilities: Baked: 11.11%, Blended: 0.23%, Boiled: 1.34%, Broil: 8.95%, Fried: 5.28%, Grilled: 4.27%, Microwaved: 1.64%, Other: 9.80%, Pressure Cooked: 1.27%, Raw: 1.48%, Roasted: 41.11%, Slow Cooking: 4.51%, Steamed: 2.85%, Toasted: 6.16%\n",
      "\n",
      "Recipe 9:\n",
      "  Expected Cooking method: Boiled\n",
      "  Predicted Cooking method: Boiled\n",
      "  Cooking method probabilities: Baked: 0.24%, Blended: 0.00%, Boiled: 99.74%, Broil: 0.01%, Fried: 0.00%, Grilled: 0.00%, Microwaved: 0.00%, Other: 0.00%, Pressure Cooked: 0.00%, Raw: 0.00%, Roasted: 0.00%, Slow Cooking: 0.00%, Steamed: 0.01%, Toasted: 0.00%\n",
      "\n",
      "Recipe 10:\n",
      "  Expected Cooking method: Other\n",
      "  Predicted Cooking method: Blended\n",
      "  Cooking method probabilities: Baked: 0.01%, Blended: 98.98%, Boiled: 0.02%, Broil: 0.03%, Fried: 0.20%, Grilled: 0.21%, Microwaved: 0.08%, Other: 0.07%, Pressure Cooked: 0.06%, Raw: 0.08%, Roasted: 0.03%, Slow Cooking: 0.07%, Steamed: 0.11%, Toasted: 0.04%\n"
     ]
    }
   ],
   "execution_count": 26
  },
  {
   "metadata": {},
   "cell_type": "markdown",
   "source": [
    "## 6. Testing del modello per la classificazione del costo"
   ],
   "id": "5135bac6b9204c54"
  },
  {
   "metadata": {
    "ExecuteTime": {
     "end_time": "2025-06-25T20:15:43.652115300Z",
     "start_time": "2025-06-25T20:15:43.432101Z"
    }
   },
   "cell_type": "code",
   "source": [
    "# List of 10 recipes with expected cost category\n",
    "cost_recipes = [\n",
    "    {\n",
    "        \"ingredients\": \"200g spaghetti, 2 cloves garlic, chili pepper, extra virgin olive oil, salt\",\n",
    "        \"instructions\": \"Cook the spaghetti. Meanwhile, sauté garlic and chili in the oil. Mix with the pasta.\",\n",
    "        \"expected_cost\": \"very cheap\"\n",
    "    },\n",
    "    {\n",
    "        \"ingredients\": \"Lettuce, 1 can of tuna, tomatoes, black olives, onion, olive oil, salt\",\n",
    "        \"instructions\": \"Wash and cut the vegetables. Add the drained tuna and olives. Dress with oil and salt.\",\n",
    "        \"expected_cost\": \"cheap\"\n",
    "    },\n",
    "    {\n",
    "        \"ingredients\": \"300g Carnaroli rice, 1 saffron sachet, vegetable broth, butter, onion, Parmesan cheese\",\n",
    "        \"instructions\": \"Sauté the onion, add rice and deglaze with wine. Gradually pour in the broth. Add saffron and stir in butter and cheese.\",\n",
    "        \"expected_cost\": \"expensive\"\n",
    "    },\n",
    "    {\n",
    "        \"ingredients\": \"3 eggs, salt, pepper, butter\",\n",
    "        \"instructions\": \"Beat the eggs with salt and pepper. Pour into a pan with melted butter and stir until set.\",\n",
    "        \"expected_cost\": \"very cheap\"\n",
    "    },\n",
    "    {\n",
    "        \"ingredients\": \"Lasagna sheets, meat sauce, béchamel, Parmesan cheese\",\n",
    "        \"instructions\": \"Layer pasta, sauce, béchamel and cheese. Bake at 180°C for 40 minutes.\",\n",
    "        \"expected_cost\": \"expensive\"\n",
    "    },\n",
    "    {\n",
    "        \"ingredients\": \"Apples, bananas, oranges, strawberries, lemon juice, sugar\",\n",
    "        \"instructions\": \"Cut the fruit into pieces, mix with lemon juice and sugar, refrigerate.\",\n",
    "        \"expected_cost\": \"cheap\"\n",
    "    },\n",
    "    {\n",
    "        \"ingredients\": \"Chicken breast, onion, curry powder, cream or coconut milk, oil, salt\",\n",
    "        \"instructions\": \"Brown the onion, add diced chicken, curry, and cream. Cook until the chicken is tender.\",\n",
    "        \"expected_cost\": \"medium\"\n",
    "    },\n",
    "    {\n",
    "        \"ingredients\": \"Ladyfingers, mascarpone, eggs, sugar, coffee, cocoa powder\",\n",
    "        \"instructions\": \"Make a cream with yolks, sugar and mascarpone. Layer ladyfingers soaked in coffee and the cream. Dust with cocoa and chill.\",\n",
    "        \"expected_cost\": \"expensive\"\n",
    "    },\n",
    "    {\n",
    "        \"ingredients\": \"2 eggs, 250ml milk, 125g flour, sugar, butter\",\n",
    "        \"instructions\": \"Mix flour, eggs and milk into a batter. Cook in pan with butter. Fill as desired.\",\n",
    "        \"expected_cost\": \"medium\"\n",
    "    },\n",
    "    {\n",
    "        \"ingredients\": \"Mixed dried legumes, onion, carrot, celery, vegetable broth, oil, salt\",\n",
    "        \"instructions\": \"Soak legumes for 12 hours. Sauté onion, carrot, celery. Add legumes and broth and cook for at least an hour.\",\n",
    "        \"expected_cost\": \"rich\"\n",
    "    }\n",
    "]\n",
    "\n",
    "cost_model, cost_tokenizer, inv_cost_map = load_model_components(\"classifiers/price\", \"price_classifier\")\n",
    "predict_and_print(cost_recipes, cost_model, cost_tokenizer, inv_cost_map, expected_key=\"expected_cost\", prediction_label=\"Cost\")"
   ],
   "id": "9ad48bd4aa87dc4f",
   "outputs": [
    {
     "name": "stderr",
     "output_type": "stream",
     "text": [
      "WARNING:absl:Compiled the loaded model, but the compiled metrics have yet to be built. `model.compile_metrics` will be empty until you train or evaluate the model.\n"
     ]
    },
    {
     "name": "stdout",
     "output_type": "stream",
     "text": [
      "WARNING:tensorflow:6 out of the last 6 calls to <function TensorFlowTrainer.make_predict_function.<locals>.one_step_on_data_distributed at 0x0000027C05FE3100> triggered tf.function retracing. Tracing is expensive and the excessive number of tracings could be due to (1) creating @tf.function repeatedly in a loop, (2) passing tensors with different shapes, (3) passing Python objects instead of tensors. For (1), please define your @tf.function outside of the loop. For (2), @tf.function has reduce_retracing=True option that can avoid unnecessary retracing. For (3), please refer to https://www.tensorflow.org/guide/function#controlling_retracing and https://www.tensorflow.org/api_docs/python/tf/function for  more details.\n"
     ]
    },
    {
     "name": "stderr",
     "output_type": "stream",
     "text": [
      "WARNING:tensorflow:6 out of the last 6 calls to <function TensorFlowTrainer.make_predict_function.<locals>.one_step_on_data_distributed at 0x0000027C05FE3100> triggered tf.function retracing. Tracing is expensive and the excessive number of tracings could be due to (1) creating @tf.function repeatedly in a loop, (2) passing tensors with different shapes, (3) passing Python objects instead of tensors. For (1), please define your @tf.function outside of the loop. For (2), @tf.function has reduce_retracing=True option that can avoid unnecessary retracing. For (3), please refer to https://www.tensorflow.org/guide/function#controlling_retracing and https://www.tensorflow.org/api_docs/python/tf/function for  more details.\n"
     ]
    },
    {
     "name": "stdout",
     "output_type": "stream",
     "text": [
      "\u001B[1m1/1\u001B[0m \u001B[32m━━━━━━━━━━━━━━━━━━━━\u001B[0m\u001B[37m\u001B[0m \u001B[1m0s\u001B[0m 60ms/step\n",
      "Recipe 1:\n",
      "  Expected Cost: very cheap\n",
      "  Predicted Cost: cheap\n",
      "  Cost probabilities: cheap: 52.31%, expensive: 4.70%, medium: 21.95%, rich: 0.18%, very cheap: 20.86%\n",
      "\n",
      "Recipe 2:\n",
      "  Expected Cost: cheap\n",
      "  Predicted Cost: cheap\n",
      "  Cost probabilities: cheap: 51.30%, expensive: 0.85%, medium: 17.16%, rich: 0.01%, very cheap: 30.69%\n",
      "\n",
      "Recipe 3:\n",
      "  Expected Cost: expensive\n",
      "  Predicted Cost: cheap\n",
      "  Cost probabilities: cheap: 38.38%, expensive: 19.97%, medium: 34.68%, rich: 1.59%, very cheap: 5.37%\n",
      "\n",
      "Recipe 4:\n",
      "  Expected Cost: very cheap\n",
      "  Predicted Cost: cheap\n",
      "  Cost probabilities: cheap: 46.88%, expensive: 0.42%, medium: 11.50%, rich: 0.00%, very cheap: 41.19%\n",
      "\n",
      "Recipe 5:\n",
      "  Expected Cost: expensive\n",
      "  Predicted Cost: cheap\n",
      "  Cost probabilities: cheap: 53.53%, expensive: 2.17%, medium: 12.42%, rich: 0.07%, very cheap: 31.81%\n",
      "\n",
      "Recipe 6:\n",
      "  Expected Cost: cheap\n",
      "  Predicted Cost: very cheap\n",
      "  Cost probabilities: cheap: 2.10%, expensive: 0.00%, medium: 0.11%, rich: 0.00%, very cheap: 97.78%\n",
      "\n",
      "Recipe 7:\n",
      "  Expected Cost: medium\n",
      "  Predicted Cost: cheap\n",
      "  Cost probabilities: cheap: 43.35%, expensive: 8.54%, medium: 40.26%, rich: 0.28%, very cheap: 7.58%\n",
      "\n",
      "Recipe 8:\n",
      "  Expected Cost: expensive\n",
      "  Predicted Cost: medium\n",
      "  Cost probabilities: cheap: 24.89%, expensive: 30.23%, medium: 40.43%, rich: 3.77%, very cheap: 0.68%\n",
      "\n",
      "Recipe 9:\n",
      "  Expected Cost: medium\n",
      "  Predicted Cost: cheap\n",
      "  Cost probabilities: cheap: 65.78%, expensive: 1.30%, medium: 13.98%, rich: 0.02%, very cheap: 18.92%\n",
      "\n",
      "Recipe 10:\n",
      "  Expected Cost: rich\n",
      "  Predicted Cost: very cheap\n",
      "  Cost probabilities: cheap: 38.79%, expensive: 2.23%, medium: 16.26%, rich: 0.06%, very cheap: 42.66%\n"
     ]
    }
   ],
   "execution_count": 27
  },
  {
   "metadata": {},
   "cell_type": "markdown",
   "source": [
    "## 7. Testing del modello per la classificazione lactose free"
   ],
   "id": "fd94740622b8ec97"
  },
  {
   "metadata": {
    "ExecuteTime": {
     "end_time": "2025-06-25T20:15:43.771225900Z",
     "start_time": "2025-06-25T20:15:43.622547500Z"
    }
   },
   "cell_type": "code",
   "source": [
    "# List of 10 recipes with expected lactose free\n",
    "lactose_recipes = [\n",
    "    {\n",
    "        \"ingredients\": \"200g spaghetti, 2 cloves garlic, chili pepper, extra virgin olive oil, salt\",\n",
    "        \"instructions\": \"Cook the spaghetti. Meanwhile, sauté garlic and chili in the oil. Mix with the pasta.\",\n",
    "        \"lactose_free\": True\n",
    "    },\n",
    "    {\n",
    "        \"ingredients\": \"Lettuce, 1 can of tuna, tomatoes, black olives, onion, olive oil, salt\",\n",
    "        \"instructions\": \"Wash and cut the vegetables. Add the drained tuna and olives. Dress with oil and salt.\",\n",
    "        \"lactose_free\": True\n",
    "    },\n",
    "    {\n",
    "        \"ingredients\": \"300g Carnaroli rice, 1 saffron sachet, vegetable broth, butter, onion, Parmesan cheese\",\n",
    "        \"instructions\": \"Sauté the onion, add rice and deglaze with wine. Gradually pour in the broth. Add saffron and stir in butter and cheese.\",\n",
    "        \"lactose_free\": False\n",
    "    },\n",
    "    {\n",
    "        \"ingredients\": \"3 eggs, salt, pepper, butter\",\n",
    "        \"instructions\": \"Beat the eggs with salt and pepper. Pour into a pan with melted butter and stir until set.\",\n",
    "        \"lactose_free\": False\n",
    "    },\n",
    "    {\n",
    "        \"ingredients\": \"Lasagna sheets, meat sauce, béchamel, Parmesan cheese\",\n",
    "        \"instructions\": \"Layer pasta, sauce, béchamel and cheese. Bake at 180°C for 40 minutes.\",\n",
    "        \"lactose_free\": False\n",
    "    },\n",
    "    {\n",
    "        \"ingredients\": \"Apples, bananas, oranges, strawberries, lemon juice, sugar\",\n",
    "        \"instructions\": \"Cut the fruit into pieces, mix with lemon juice and sugar, refrigerate.\",\n",
    "        \"lactose_free\": True\n",
    "    },\n",
    "    {\n",
    "        \"ingredients\": \"Chicken breast, onion, curry powder, cream or coconut milk, oil, salt\",\n",
    "        \"instructions\": \"Brown the onion, add diced chicken, curry, and cream. Cook until the chicken is tender.\",\n",
    "        \"lactose_free\": False  # assumiamo panna non vegetale\n",
    "    },\n",
    "    {\n",
    "        \"ingredients\": \"Ladyfingers, mascarpone, eggs, sugar, coffee, cocoa powder\",\n",
    "        \"instructions\": \"Make a cream with yolks, sugar and mascarpone. Layer ladyfingers soaked in coffee and the cream. Dust with cocoa and chill.\",\n",
    "        \"lactose_free\": False\n",
    "    },\n",
    "    {\n",
    "        \"ingredients\": \"2 eggs, 250ml milk, 125g flour, sugar, butter\",\n",
    "        \"instructions\": \"Mix flour, eggs and milk into a batter. Cook in pan with butter. Fill as desired.\",\n",
    "        \"lactose_free\": False\n",
    "    },\n",
    "    {\n",
    "        \"ingredients\": \"Mixed dried legumes, onion, carrot, celery, vegetable broth, oil, salt\",\n",
    "        \"instructions\": \"Soak legumes for 12 hours. Sauté onion, carrot, celery. Add legumes and broth and cook for at least an hour.\",\n",
    "        \"lactose_free\": True\n",
    "    }\n",
    "]\n",
    "\n",
    "lact_model, lact_tokenizer, inv_lact_map = load_model_components(\"classifiers/lactose_free\", \"lactose_free_classifier\")\n",
    "predict_and_print(lactose_recipes, lact_model, lact_tokenizer, inv_lact_map, expected_key=\"lactose_free\", prediction_label=\"Lactose free\")"
   ],
   "id": "55d55047afe4902e",
   "outputs": [
    {
     "name": "stderr",
     "output_type": "stream",
     "text": [
      "WARNING:absl:Compiled the loaded model, but the compiled metrics have yet to be built. `model.compile_metrics` will be empty until you train or evaluate the model.\n"
     ]
    },
    {
     "name": "stdout",
     "output_type": "stream",
     "text": [
      "\u001B[1m1/1\u001B[0m \u001B[32m━━━━━━━━━━━━━━━━━━━━\u001B[0m\u001B[37m\u001B[0m \u001B[1m0s\u001B[0m 51ms/step\n",
      "Recipe 1:\n",
      "  Expected Lactose free: True\n",
      "  Predicted Lactose free: True\n",
      "  Lactose free probabilities: False: 9.77%, True: 90.23%\n",
      "\n",
      "Recipe 2:\n",
      "  Expected Lactose free: True\n",
      "  Predicted Lactose free: True\n",
      "  Lactose free probabilities: False: 1.21%, True: 98.79%\n",
      "\n",
      "Recipe 3:\n",
      "  Expected Lactose free: False\n",
      "  Predicted Lactose free: False\n",
      "  Lactose free probabilities: False: 100.00%, True: 0.00%\n",
      "\n",
      "Recipe 4:\n",
      "  Expected Lactose free: False\n",
      "  Predicted Lactose free: False\n",
      "  Lactose free probabilities: False: 99.85%, True: 0.15%\n",
      "\n",
      "Recipe 5:\n",
      "  Expected Lactose free: False\n",
      "  Predicted Lactose free: False\n",
      "  Lactose free probabilities: False: 99.96%, True: 0.04%\n",
      "\n",
      "Recipe 6:\n",
      "  Expected Lactose free: True\n",
      "  Predicted Lactose free: True\n",
      "  Lactose free probabilities: False: 1.76%, True: 98.24%\n",
      "\n",
      "Recipe 7:\n",
      "  Expected Lactose free: False\n",
      "  Predicted Lactose free: False\n",
      "  Lactose free probabilities: False: 98.44%, True: 1.56%\n",
      "\n",
      "Recipe 8:\n",
      "  Expected Lactose free: False\n",
      "  Predicted Lactose free: False\n",
      "  Lactose free probabilities: False: 99.04%, True: 0.96%\n",
      "\n",
      "Recipe 9:\n",
      "  Expected Lactose free: False\n",
      "  Predicted Lactose free: False\n",
      "  Lactose free probabilities: False: 99.94%, True: 0.06%\n",
      "\n",
      "Recipe 10:\n",
      "  Expected Lactose free: True\n",
      "  Predicted Lactose free: True\n",
      "  Lactose free probabilities: False: 3.23%, True: 96.77%\n"
     ]
    }
   ],
   "execution_count": 28
  },
  {
   "metadata": {},
   "cell_type": "markdown",
   "source": [
    "## 8. Testing del modello per la classificazione gluten free"
   ],
   "id": "f702ea1fa310d1bd"
  },
  {
   "metadata": {
    "ExecuteTime": {
     "end_time": "2025-06-25T20:15:43.939463900Z",
     "start_time": "2025-06-25T20:15:43.770220600Z"
    }
   },
   "cell_type": "code",
   "source": [
    "# List of 10 recipes with expected gluten free\n",
    "gluten_recipes = [\n",
    "    {\n",
    "        \"ingredients\": \"200g spaghetti, 2 cloves garlic, chili pepper, extra virgin olive oil, salt\",\n",
    "        \"instructions\": \"Cook the spaghetti. Meanwhile, sauté garlic and chili in the oil. Mix with the pasta.\",\n",
    "        \"gluten_free\": False\n",
    "    },\n",
    "    {\n",
    "        \"ingredients\": \"Lettuce, 1 can of tuna, tomatoes, black olives, onion, olive oil, salt\",\n",
    "        \"instructions\": \"Wash and cut the vegetables. Add the drained tuna and olives. Dress with oil and salt.\",\n",
    "        \"gluten_free\": True\n",
    "    },\n",
    "    {\n",
    "        \"ingredients\": \"300g Carnaroli rice, 1 saffron sachet, vegetable broth, butter, onion, Parmesan cheese\",\n",
    "        \"instructions\": \"Sauté the onion, add rice and deglaze with wine. Gradually pour in the broth. Add saffron and stir in butter and cheese.\",\n",
    "        \"gluten_free\": True\n",
    "    },\n",
    "    {\n",
    "        \"ingredients\": \"3 eggs, salt, pepper, butter\",\n",
    "        \"instructions\": \"Beat the eggs with salt and pepper. Pour into a pan with melted butter and stir until set.\",\n",
    "        \"gluten_free\": True\n",
    "    },\n",
    "    {\n",
    "        \"ingredients\": \"Lasagna sheets, meat sauce, béchamel, Parmesan cheese\",\n",
    "        \"instructions\": \"Layer pasta, sauce, béchamel and cheese. Bake at 180°C for 40 minutes.\",\n",
    "        \"gluten_free\": False\n",
    "    },\n",
    "    {\n",
    "        \"ingredients\": \"Apples, bananas, oranges, strawberries, lemon juice, sugar\",\n",
    "        \"instructions\": \"Cut the fruit into pieces, mix with lemon juice and sugar, refrigerate.\",\n",
    "        \"gluten_free\": True\n",
    "    },\n",
    "    {\n",
    "        \"ingredients\": \"Chicken breast, onion, curry powder, cream or coconut milk, oil, salt\",\n",
    "        \"instructions\": \"Brown the onion, add diced chicken, curry, and cream. Cook until the chicken is tender.\",\n",
    "        \"gluten_free\": True\n",
    "    },\n",
    "    {\n",
    "        \"ingredients\": \"Ladyfingers, mascarpone, eggs, sugar, coffee, cocoa powder\",\n",
    "        \"instructions\": \"Make a cream with yolks, sugar and mascarpone. Layer ladyfingers soaked in coffee and the cream. Dust with cocoa and chill.\",\n",
    "        \"gluten_free\": False  # ladyfingers contengono farina di frumento\n",
    "    },\n",
    "    {\n",
    "        \"ingredients\": \"2 eggs, 250ml milk, 125g flour, sugar, butter\",\n",
    "        \"instructions\": \"Mix flour, eggs and milk into a batter. Cook in pan with butter. Fill as desired.\",\n",
    "        \"gluten_free\": False  # contiene farina\n",
    "    },\n",
    "    {\n",
    "        \"ingredients\": \"Mixed dried legumes, onion, carrot, celery, vegetable broth, oil, salt\",\n",
    "        \"instructions\": \"Soak legumes for 12 hours. Sauté onion, carrot, celery. Add legumes and broth and cook for at least an hour.\",\n",
    "        \"gluten_free\": True\n",
    "    }\n",
    "]\n",
    "\n",
    "gluten_model, gluten_tokenizer, inv_gluten_map = load_model_components(\"classifiers/gluten_free\", \"gluten_free_classifier\")\n",
    "predict_and_print(gluten_recipes, gluten_model, gluten_tokenizer, inv_gluten_map, expected_key=\"gluten_free\", prediction_label=\"Gluten free\")"
   ],
   "id": "97781e66f4c8ad09",
   "outputs": [
    {
     "name": "stderr",
     "output_type": "stream",
     "text": [
      "WARNING:absl:Compiled the loaded model, but the compiled metrics have yet to be built. `model.compile_metrics` will be empty until you train or evaluate the model.\n"
     ]
    },
    {
     "name": "stdout",
     "output_type": "stream",
     "text": [
      "\u001B[1m1/1\u001B[0m \u001B[32m━━━━━━━━━━━━━━━━━━━━\u001B[0m\u001B[37m\u001B[0m \u001B[1m0s\u001B[0m 67ms/step\n",
      "Recipe 1:\n",
      "  Expected Gluten free: False\n",
      "  Predicted Gluten free: True\n",
      "  Gluten free probabilities: False: 45.77%, True: 54.23%\n",
      "\n",
      "Recipe 2:\n",
      "  Expected Gluten free: True\n",
      "  Predicted Gluten free: True\n",
      "  Gluten free probabilities: False: 0.45%, True: 99.55%\n",
      "\n",
      "Recipe 3:\n",
      "  Expected Gluten free: True\n",
      "  Predicted Gluten free: True\n",
      "  Gluten free probabilities: False: 3.86%, True: 96.14%\n",
      "\n",
      "Recipe 4:\n",
      "  Expected Gluten free: True\n",
      "  Predicted Gluten free: True\n",
      "  Gluten free probabilities: False: 1.10%, True: 98.90%\n",
      "\n",
      "Recipe 5:\n",
      "  Expected Gluten free: False\n",
      "  Predicted Gluten free: False\n",
      "  Gluten free probabilities: False: 70.77%, True: 29.23%\n",
      "\n",
      "Recipe 6:\n",
      "  Expected Gluten free: True\n",
      "  Predicted Gluten free: True\n",
      "  Gluten free probabilities: False: 0.53%, True: 99.47%\n",
      "\n",
      "Recipe 7:\n",
      "  Expected Gluten free: True\n",
      "  Predicted Gluten free: True\n",
      "  Gluten free probabilities: False: 0.21%, True: 99.79%\n",
      "\n",
      "Recipe 8:\n",
      "  Expected Gluten free: False\n",
      "  Predicted Gluten free: False\n",
      "  Gluten free probabilities: False: 74.36%, True: 25.64%\n",
      "\n",
      "Recipe 9:\n",
      "  Expected Gluten free: False\n",
      "  Predicted Gluten free: True\n",
      "  Gluten free probabilities: False: 4.01%, True: 95.99%\n",
      "\n",
      "Recipe 10:\n",
      "  Expected Gluten free: True\n",
      "  Predicted Gluten free: True\n",
      "  Gluten free probabilities: False: 4.59%, True: 95.41%\n"
     ]
    }
   ],
   "execution_count": 29
  },
  {
   "metadata": {},
   "cell_type": "code",
   "outputs": [],
   "execution_count": null,
   "source": [
    "from llama_cpp import Llama\n",
    "import pandas as pd\n",
    "from tqdm import tqdm\n",
    "\n",
    "# Inizialize model\n",
    "llm = Llama(\n",
    "    model_path=\"./phi-2.Q5_K_M.gguf\",\n",
    "    n_ctx=512,\n",
    "    n_threads=8,\n",
    "    n_gpu_layers=10,  # aumenta se usi gpu, gpt consiglia 35 per la 3060\n",
    "    verbose=False\n",
    ")\n",
    "\n",
    "def generate_description(row):\n",
    "    title = row[\"TITLE\"]\n",
    "\n",
    "    prompt = (\n",
    "        f\"You are a skilled food writer. Given the title of a recipe, write a short and appetizing description of the dish, highlighting its flavor, texture, and appeal. \\n\"\n",
    "        f\"Title: {title}\\n\"\n",
    "        f\"Description:\"\n",
    "    )\n",
    "\n",
    "    try:\n",
    "        output = llm(prompt, max_tokens=150)\n",
    "        return output[\"choices\"][0][\"text\"].strip()\n",
    "    except Exception as e:\n",
    "        return f\"ERROR: {e}\"\n",
    "\n",
    "\n",
    "tqdm.pandas()\n",
    "df[\"DESCRIPTION\"] = df.progress_apply(generate_description, axis=1)\n"
   ],
   "id": "9f7f120304408c15"
  }
 ],
 "metadata": {
  "kernelspec": {
   "display_name": "Python 3",
   "language": "python",
   "name": "python3"
  },
  "language_info": {
   "codemirror_mode": {
    "name": "ipython",
    "version": 2
   },
   "file_extension": ".py",
   "mimetype": "text/x-python",
   "name": "python",
   "nbconvert_exporter": "python",
   "pygments_lexer": "ipython2",
   "version": "2.7.6"
  }
 },
 "nbformat": 4,
 "nbformat_minor": 5
}
